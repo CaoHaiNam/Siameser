{
 "cells": [
  {
   "cell_type": "code",
   "execution_count": 1,
   "metadata": {},
   "outputs": [],
   "source": [
    "import json"
   ]
  },
  {
   "cell_type": "code",
   "execution_count": 2,
   "metadata": {},
   "outputs": [],
   "source": [
    "with open('train.json', 'r', encoding='utf-8') as f:\n",
    "    data = json.load(f)"
   ]
  },
  {
   "cell_type": "code",
   "execution_count": 10,
   "metadata": {},
   "outputs": [
    {
     "data": {
      "text/plain": [
       "{'id': 0,\n",
       " 'noisy_add': 'đông lân 1 , phường bà điểm , hồ chí minh',\n",
       " 'std_add': {'1580': {'street': 'đông lân 1',\n",
       "   'city': 'hồ chí minh',\n",
       "   'id': 1580,\n",
       "   'district': 'hóc môn',\n",
       "   'ward': 'None'}}}"
      ]
     },
     "execution_count": 10,
     "metadata": {},
     "output_type": "execute_result"
    }
   ],
   "source": [
    "data['data'][0]"
   ]
  },
  {
   "cell_type": "code",
   "execution_count": 15,
   "metadata": {},
   "outputs": [],
   "source": [
    "def gen_data(data_file, num_sample):\n",
    "    with open(data_file, 'r', encoding='utf-8') as f:\n",
    "        data = json.load(f)\n",
    "\n",
    "    x = dict()\n",
    "    x['data'] = []\n",
    "    for i in range(num_sample):\n",
    "        x['data'].append(data['data'][i])\n",
    "    return x"
   ]
  },
  {
   "cell_type": "code",
   "execution_count": 16,
   "metadata": {},
   "outputs": [],
   "source": [
    "train_data = gen_data('train.json', 1000)\n",
    "with open('Siameser/Data/train.json', 'w', encoding='utf-8') as f:\n",
    "    json.dump(train_data, f, ensure_ascii=False, indent=4)"
   ]
  },
  {
   "cell_type": "code",
   "execution_count": 17,
   "metadata": {},
   "outputs": [],
   "source": [
    "test_data = gen_data('test.json', 500)\n",
    "with open('Siameser/Data/test.json', 'w', encoding='utf-8') as f:\n",
    "    json.dump(test_data, f, ensure_ascii=False, indent=4)"
   ]
  },
  {
   "cell_type": "code",
   "execution_count": 18,
   "metadata": {},
   "outputs": [],
   "source": [
    "with open('Siameser/Data/RAT_DATA_MAIN.json', 'r', encoding='utf-8') as f:\n",
    "    RAT_DATA = json.load(f)"
   ]
  },
  {
   "cell_type": "code",
   "execution_count": null,
   "metadata": {},
   "outputs": [],
   "source": [
    "RAT_DATA"
   ]
  },
  {
   "cell_type": "code",
   "execution_count": 21,
   "metadata": {},
   "outputs": [],
   "source": [
    "std_addresses = []\n",
    "for sample in RAT_DATA['data']:\n",
    "    std_addresses.append(sample['norm_add'])"
   ]
  },
  {
   "cell_type": "code",
   "execution_count": 25,
   "metadata": {},
   "outputs": [],
   "source": [
    "# from collections import Counter\n",
    "# for i in Counter(std_addresses):\n",
    "#     print(i)\n",
    "#     break"
   ]
  },
  {
   "cell_type": "code",
   "execution_count": 26,
   "metadata": {},
   "outputs": [],
   "source": [
    "x = dict(Counter(std_addresses))\n",
    "hard_add = []\n",
    "for i in x:\n",
    "    if x[i] > 1:\n",
    "        hard_add.append(i)"
   ]
  },
  {
   "cell_type": "code",
   "execution_count": 28,
   "metadata": {},
   "outputs": [
    {
     "data": {
      "text/plain": [
       "515"
      ]
     },
     "execution_count": 28,
     "metadata": {},
     "output_type": "execute_result"
    }
   ],
   "source": [
    "len(hard_add)"
   ]
  },
  {
   "cell_type": "code",
   "execution_count": 31,
   "metadata": {},
   "outputs": [],
   "source": [
    "hard_id = []\n",
    "for sample in RAT_DATA['data']:\n",
    "    if sample['norm_add'] in hard_add:\n",
    "        hard_id.append(sample['id'])"
   ]
  },
  {
   "cell_type": "code",
   "execution_count": 34,
   "metadata": {},
   "outputs": [],
   "source": [
    "# hard_id"
   ]
  },
  {
   "cell_type": "code",
   "execution_count": 42,
   "metadata": {},
   "outputs": [],
   "source": [
    "with open('train.json', 'r', encoding='utf-8') as f:\n",
    "    data = json.load(f)\n",
    "hard_sample = []\n",
    "for sample in data['data']:\n",
    "    id = (list(sample['std_add'].keys())[0])\n",
    "    if sample['std_add'][id]['id'] in hard_id:\n",
    "        hard_sample.append(sample)  "
   ]
  },
  {
   "cell_type": "code",
   "execution_count": 1,
   "metadata": {},
   "outputs": [
    {
     "ename": "NameError",
     "evalue": "name 'hard_sample' is not defined",
     "output_type": "error",
     "traceback": [
      "\u001b[0;31m---------------------------------------------------------------------------\u001b[0m",
      "\u001b[0;31mNameError\u001b[0m                                 Traceback (most recent call last)",
      "\u001b[0;32m<ipython-input-1-5520db99db4d>\u001b[0m in \u001b[0;36m<module>\u001b[0;34m\u001b[0m\n\u001b[0;32m----> 1\u001b[0;31m \u001b[0mhard_sample\u001b[0m\u001b[0;34m\u001b[0m\u001b[0;34m\u001b[0m\u001b[0m\n\u001b[0m",
      "\u001b[0;31mNameError\u001b[0m: name 'hard_sample' is not defined"
     ]
    }
   ],
   "source": [
    "hard_sample"
   ]
  },
  {
   "cell_type": "code",
   "execution_count": 45,
   "metadata": {},
   "outputs": [],
   "source": [
    "with open('Siameser/Data/hard_train.json', 'w', encoding='utf-8') as f:\n",
    "    json.dump(test_data, f, ensure_ascii=False, indent=4)"
   ]
  },
  {
   "cell_type": "code",
   "execution_count": null,
   "metadata": {},
   "outputs": [],
   "source": []
  },
  {
   "cell_type": "code",
   "execution_count": null,
   "metadata": {},
   "outputs": [],
   "source": []
  },
  {
   "cell_type": "code",
   "execution_count": 1,
   "metadata": {},
   "outputs": [],
   "source": [
    "import json"
   ]
  },
  {
   "cell_type": "code",
   "execution_count": 2,
   "metadata": {},
   "outputs": [],
   "source": [
    "with open ('Data/train.json', 'r', encoding='utf-8') as f:\n",
    "    train_data = json.load(f)"
   ]
  },
  {
   "cell_type": "code",
   "execution_count": null,
   "metadata": {},
   "outputs": [],
   "source": [
    "train_data"
   ]
  },
  {
   "cell_type": "code",
   "execution_count": null,
   "metadata": {},
   "outputs": [],
   "source": []
  },
  {
   "cell_type": "markdown",
   "metadata": {},
   "source": [
    "# Add more standard address"
   ]
  },
  {
   "cell_type": "code",
   "execution_count": 30,
   "metadata": {},
   "outputs": [],
   "source": [
    "import json\n",
    "with open ('Data/RAT_DATA_MAIN_New.json', 'r', encoding='utf-8') as f:\n",
    "    RAT_DATA = json.load(f)"
   ]
  },
  {
   "cell_type": "code",
   "execution_count": 4,
   "metadata": {},
   "outputs": [],
   "source": [
    "# x = dict()\n",
    "# for i in RAT_DATA['data']:\n",
    "#     # print(i)\n",
    "#     id = i['id']\n",
    "#     x[id] = dict()\n",
    "#     x[id]['std_add'] = i['std_add']\n",
    "#     x[id]['str_add'] = i['norm_add']\n",
    "#     x[id]['NT_str_add'] = i['NT_norm_add']\n",
    "#     # break"
   ]
  },
  {
   "cell_type": "code",
   "execution_count": 10,
   "metadata": {},
   "outputs": [],
   "source": [
    "id = list(x.keys())"
   ]
  },
  {
   "cell_type": "code",
   "execution_count": 11,
   "metadata": {},
   "outputs": [
    {
     "name": "stdout",
     "output_type": "stream",
     "text": [
      "34481\n",
      "36660\n"
     ]
    }
   ],
   "source": [
    "print(len(id))\n",
    "print(id[-1])"
   ]
  },
  {
   "cell_type": "code",
   "execution_count": 8,
   "metadata": {},
   "outputs": [],
   "source": [
    "# with open('Data/RAT_DATA_MAIN_New.json', 'w', encoding='utf-8') as f:\n",
    "#     json.dump(x, f, ensure_ascii=False, indent=4)"
   ]
  },
  {
   "cell_type": "code",
   "execution_count": 35,
   "metadata": {},
   "outputs": [],
   "source": [
    "data = []\n",
    "for i in RAT_DATA:\n",
    "    # print(RAT_DATA[i]['std_add'])\n",
    "    std_add = RAT_DATA[i]['std_add']\n",
    "    std_add['id'] = i\n",
    "    if 'ward' not in std_add:\n",
    "        std_add['ward'] = 'None'\n",
    "    elif 'street' not in std_add:\n",
    "        std_add['street'] = 'None'\n",
    "    elif 'ward' not in std_add and 'street' not in std_add:\n",
    "        std_add['ward'] = 'None'\n",
    "        std_add['street'] = 'None'\n",
    "    data.append(std_add)\n",
    "    # break "
   ]
  },
  {
   "cell_type": "code",
   "execution_count": 36,
   "metadata": {},
   "outputs": [
    {
     "data": {
      "text/plain": [
       "34481"
      ]
     },
     "execution_count": 36,
     "metadata": {},
     "output_type": "execute_result"
    }
   ],
   "source": [
    "len(data)"
   ]
  },
  {
   "cell_type": "code",
   "execution_count": 68,
   "metadata": {},
   "outputs": [],
   "source": [
    "# data\n",
    "import pandas as pd \n",
    "df = pd.DataFrame.from_dict(data, orient='columns')"
   ]
  },
  {
   "cell_type": "code",
   "execution_count": 69,
   "metadata": {},
   "outputs": [],
   "source": [
    "new_df = df.drop(columns=['street', 'ward', 'id'])"
   ]
  },
  {
   "cell_type": "code",
   "execution_count": 70,
   "metadata": {},
   "outputs": [
    {
     "data": {
      "text/html": [
       "<div>\n",
       "<style scoped>\n",
       "    .dataframe tbody tr th:only-of-type {\n",
       "        vertical-align: middle;\n",
       "    }\n",
       "\n",
       "    .dataframe tbody tr th {\n",
       "        vertical-align: top;\n",
       "    }\n",
       "\n",
       "    .dataframe thead th {\n",
       "        text-align: right;\n",
       "    }\n",
       "</style>\n",
       "<table border=\"1\" class=\"dataframe\">\n",
       "  <thead>\n",
       "    <tr style=\"text-align: right;\">\n",
       "      <th></th>\n",
       "      <th>district</th>\n",
       "      <th>city</th>\n",
       "    </tr>\n",
       "  </thead>\n",
       "  <tbody>\n",
       "    <tr>\n",
       "      <th>0</th>\n",
       "      <td>bình chánh</td>\n",
       "      <td>hồ chí minh</td>\n",
       "    </tr>\n",
       "    <tr>\n",
       "      <th>1</th>\n",
       "      <td>bình chánh</td>\n",
       "      <td>hồ chí minh</td>\n",
       "    </tr>\n",
       "    <tr>\n",
       "      <th>2</th>\n",
       "      <td>bình chánh</td>\n",
       "      <td>hồ chí minh</td>\n",
       "    </tr>\n",
       "    <tr>\n",
       "      <th>3</th>\n",
       "      <td>bình chánh</td>\n",
       "      <td>hồ chí minh</td>\n",
       "    </tr>\n",
       "    <tr>\n",
       "      <th>4</th>\n",
       "      <td>bình chánh</td>\n",
       "      <td>hồ chí minh</td>\n",
       "    </tr>\n",
       "    <tr>\n",
       "      <th>...</th>\n",
       "      <td>...</td>\n",
       "      <td>...</td>\n",
       "    </tr>\n",
       "    <tr>\n",
       "      <th>34476</th>\n",
       "      <td>yên bình</td>\n",
       "      <td>yên bái</td>\n",
       "    </tr>\n",
       "    <tr>\n",
       "      <th>34477</th>\n",
       "      <td>yên bình</td>\n",
       "      <td>yên bái</td>\n",
       "    </tr>\n",
       "    <tr>\n",
       "      <th>34478</th>\n",
       "      <td>yên bình</td>\n",
       "      <td>yên bái</td>\n",
       "    </tr>\n",
       "    <tr>\n",
       "      <th>34479</th>\n",
       "      <td>yên bình</td>\n",
       "      <td>yên bái</td>\n",
       "    </tr>\n",
       "    <tr>\n",
       "      <th>34480</th>\n",
       "      <td>yên bình</td>\n",
       "      <td>yên bái</td>\n",
       "    </tr>\n",
       "  </tbody>\n",
       "</table>\n",
       "<p>34481 rows × 2 columns</p>\n",
       "</div>"
      ],
      "text/plain": [
       "         district         city\n",
       "0      bình chánh  hồ chí minh\n",
       "1      bình chánh  hồ chí minh\n",
       "2      bình chánh  hồ chí minh\n",
       "3      bình chánh  hồ chí minh\n",
       "4      bình chánh  hồ chí minh\n",
       "...           ...          ...\n",
       "34476    yên bình      yên bái\n",
       "34477    yên bình      yên bái\n",
       "34478    yên bình      yên bái\n",
       "34479    yên bình      yên bái\n",
       "34480    yên bình      yên bái\n",
       "\n",
       "[34481 rows x 2 columns]"
      ]
     },
     "execution_count": 70,
     "metadata": {},
     "output_type": "execute_result"
    }
   ],
   "source": [
    "new_df"
   ]
  },
  {
   "cell_type": "code",
   "execution_count": 71,
   "metadata": {},
   "outputs": [],
   "source": [
    "new_df = new_df.drop_duplicates()"
   ]
  },
  {
   "cell_type": "code",
   "execution_count": 72,
   "metadata": {},
   "outputs": [
    {
     "data": {
      "text/html": [
       "<div>\n",
       "<style scoped>\n",
       "    .dataframe tbody tr th:only-of-type {\n",
       "        vertical-align: middle;\n",
       "    }\n",
       "\n",
       "    .dataframe tbody tr th {\n",
       "        vertical-align: top;\n",
       "    }\n",
       "\n",
       "    .dataframe thead th {\n",
       "        text-align: right;\n",
       "    }\n",
       "</style>\n",
       "<table border=\"1\" class=\"dataframe\">\n",
       "  <thead>\n",
       "    <tr style=\"text-align: right;\">\n",
       "      <th></th>\n",
       "      <th>district</th>\n",
       "      <th>city</th>\n",
       "    </tr>\n",
       "  </thead>\n",
       "  <tbody>\n",
       "    <tr>\n",
       "      <th>0</th>\n",
       "      <td>bình chánh</td>\n",
       "      <td>hồ chí minh</td>\n",
       "    </tr>\n",
       "    <tr>\n",
       "      <th>298</th>\n",
       "      <td>bình tân</td>\n",
       "      <td>hồ chí minh</td>\n",
       "    </tr>\n",
       "    <tr>\n",
       "      <th>697</th>\n",
       "      <td>bình thạnh</td>\n",
       "      <td>hồ chí minh</td>\n",
       "    </tr>\n",
       "    <tr>\n",
       "      <th>861</th>\n",
       "      <td>cần giờ</td>\n",
       "      <td>hồ chí minh</td>\n",
       "    </tr>\n",
       "    <tr>\n",
       "      <th>923</th>\n",
       "      <td>củ chi</td>\n",
       "      <td>hồ chí minh</td>\n",
       "    </tr>\n",
       "    <tr>\n",
       "      <th>...</th>\n",
       "      <td>...</td>\n",
       "      <td>...</td>\n",
       "    </tr>\n",
       "    <tr>\n",
       "      <th>34264</th>\n",
       "      <td>trấn yên</td>\n",
       "      <td>yên bái</td>\n",
       "    </tr>\n",
       "    <tr>\n",
       "      <th>34280</th>\n",
       "      <td>văn chấn</td>\n",
       "      <td>yên bái</td>\n",
       "    </tr>\n",
       "    <tr>\n",
       "      <th>34312</th>\n",
       "      <td>văn yên</td>\n",
       "      <td>yên bái</td>\n",
       "    </tr>\n",
       "    <tr>\n",
       "      <th>34359</th>\n",
       "      <td>yên bái</td>\n",
       "      <td>yên bái</td>\n",
       "    </tr>\n",
       "    <tr>\n",
       "      <th>34456</th>\n",
       "      <td>yên bình</td>\n",
       "      <td>yên bái</td>\n",
       "    </tr>\n",
       "  </tbody>\n",
       "</table>\n",
       "<p>705 rows × 2 columns</p>\n",
       "</div>"
      ],
      "text/plain": [
       "         district         city\n",
       "0      bình chánh  hồ chí minh\n",
       "298      bình tân  hồ chí minh\n",
       "697    bình thạnh  hồ chí minh\n",
       "861       cần giờ  hồ chí minh\n",
       "923        củ chi  hồ chí minh\n",
       "...           ...          ...\n",
       "34264    trấn yên      yên bái\n",
       "34280    văn chấn      yên bái\n",
       "34312     văn yên      yên bái\n",
       "34359     yên bái      yên bái\n",
       "34456    yên bình      yên bái\n",
       "\n",
       "[705 rows x 2 columns]"
      ]
     },
     "execution_count": 72,
     "metadata": {},
     "output_type": "execute_result"
    }
   ],
   "source": [
    "new_df"
   ]
  },
  {
   "cell_type": "code",
   "execution_count": 53,
   "metadata": {},
   "outputs": [],
   "source": [
    "exist_addresses = set()\n",
    "for i in RAT_DATA:\n",
    "    # print(RAT_DATA[i]['std_add'])\n",
    "    # break\n",
    "    x = RAT_DATA[i]['std_add']\n",
    "    if x['street'] == 'None' and x['ward'] == 'None':\n",
    "        exist_addresses.add(x['district']+x['city'])"
   ]
  },
  {
   "cell_type": "code",
   "execution_count": 55,
   "metadata": {},
   "outputs": [],
   "source": [
    "# len(exist_addresses)\n",
    "exist_addresses = list(exist_addresses)"
   ]
  },
  {
   "cell_type": "code",
   "execution_count": 65,
   "metadata": {},
   "outputs": [
    {
     "data": {
      "text/plain": [
       "['tiên dubắc ninh',\n",
       " 'tam dươngvĩnh phúc',\n",
       " 'bàu bàngbình dương',\n",
       " 'tân uyênbình dương',\n",
       " 'hải châuđà nẵng',\n",
       " 'hà đônghà nội',\n",
       " 'đan phượnghà nội',\n",
       " 'bến cátbình dương',\n",
       " 'tây hồhà nội',\n",
       " 'quận 2hồ chí minh',\n",
       " 'phú nhuậnhồ chí minh',\n",
       " 'sông côngthái nguyên',\n",
       " 'quận 7hồ chí minh',\n",
       " 'rạch giákiên giang',\n",
       " 'quy nhơnbình định',\n",
       " 'hàm thuận nambình thuận',\n",
       " 'gò vấphồ chí minh',\n",
       " 'thủ đứchồ chí minh',\n",
       " 'thủ thừalong an',\n",
       " 'quận 9hồ chí minh']"
      ]
     },
     "execution_count": 65,
     "metadata": {},
     "output_type": "execute_result"
    }
   ],
   "source": [
    "exist_addresses[:20]"
   ]
  },
  {
   "cell_type": "code",
   "execution_count": 74,
   "metadata": {},
   "outputs": [
    {
     "name": "stderr",
     "output_type": "stream",
     "text": [
      "<ipython-input-74-bbc2befc6f01>:7: SettingWithCopyWarning: \n",
      "A value is trying to be set on a copy of a slice from a DataFrame.\n",
      "Try using .loc[row_indexer,col_indexer] = value instead\n",
      "\n",
      "See the caveats in the documentation: https://pandas.pydata.org/pandas-docs/stable/user_guide/indexing.html#returning-a-view-versus-a-copy\n",
      "  new_df['str_address'] = str_addresses\n"
     ]
    }
   ],
   "source": [
    "str_addresses = []\n",
    "for index, row in new_df.iterrows():\n",
    "    # print(row['district'])\n",
    "    # print(row['city'])\n",
    "    str_addresses.append(row['district']+row['city'])\n",
    "    # break\n",
    "new_df['str_address'] = str_addresses"
   ]
  },
  {
   "cell_type": "code",
   "execution_count": 75,
   "metadata": {},
   "outputs": [
    {
     "data": {
      "text/html": [
       "<div>\n",
       "<style scoped>\n",
       "    .dataframe tbody tr th:only-of-type {\n",
       "        vertical-align: middle;\n",
       "    }\n",
       "\n",
       "    .dataframe tbody tr th {\n",
       "        vertical-align: top;\n",
       "    }\n",
       "\n",
       "    .dataframe thead th {\n",
       "        text-align: right;\n",
       "    }\n",
       "</style>\n",
       "<table border=\"1\" class=\"dataframe\">\n",
       "  <thead>\n",
       "    <tr style=\"text-align: right;\">\n",
       "      <th></th>\n",
       "      <th>district</th>\n",
       "      <th>city</th>\n",
       "      <th>str_address</th>\n",
       "    </tr>\n",
       "  </thead>\n",
       "  <tbody>\n",
       "    <tr>\n",
       "      <th>0</th>\n",
       "      <td>bình chánh</td>\n",
       "      <td>hồ chí minh</td>\n",
       "      <td>bình chánhhồ chí minh</td>\n",
       "    </tr>\n",
       "    <tr>\n",
       "      <th>298</th>\n",
       "      <td>bình tân</td>\n",
       "      <td>hồ chí minh</td>\n",
       "      <td>bình tânhồ chí minh</td>\n",
       "    </tr>\n",
       "    <tr>\n",
       "      <th>697</th>\n",
       "      <td>bình thạnh</td>\n",
       "      <td>hồ chí minh</td>\n",
       "      <td>bình thạnhhồ chí minh</td>\n",
       "    </tr>\n",
       "    <tr>\n",
       "      <th>861</th>\n",
       "      <td>cần giờ</td>\n",
       "      <td>hồ chí minh</td>\n",
       "      <td>cần giờhồ chí minh</td>\n",
       "    </tr>\n",
       "    <tr>\n",
       "      <th>923</th>\n",
       "      <td>củ chi</td>\n",
       "      <td>hồ chí minh</td>\n",
       "      <td>củ chihồ chí minh</td>\n",
       "    </tr>\n",
       "    <tr>\n",
       "      <th>1133</th>\n",
       "      <td>gò vấp</td>\n",
       "      <td>hồ chí minh</td>\n",
       "      <td>gò vấphồ chí minh</td>\n",
       "    </tr>\n",
       "    <tr>\n",
       "      <th>1349</th>\n",
       "      <td>hóc môn</td>\n",
       "      <td>hồ chí minh</td>\n",
       "      <td>hóc mônhồ chí minh</td>\n",
       "    </tr>\n",
       "    <tr>\n",
       "      <th>1745</th>\n",
       "      <td>nhà bè</td>\n",
       "      <td>hồ chí minh</td>\n",
       "      <td>nhà bèhồ chí minh</td>\n",
       "    </tr>\n",
       "    <tr>\n",
       "      <th>1797</th>\n",
       "      <td>phú nhuận</td>\n",
       "      <td>hồ chí minh</td>\n",
       "      <td>phú nhuậnhồ chí minh</td>\n",
       "    </tr>\n",
       "    <tr>\n",
       "      <th>1909</th>\n",
       "      <td>quận 1</td>\n",
       "      <td>hồ chí minh</td>\n",
       "      <td>quận 1hồ chí minh</td>\n",
       "    </tr>\n",
       "    <tr>\n",
       "      <th>2087</th>\n",
       "      <td>quận 10</td>\n",
       "      <td>hồ chí minh</td>\n",
       "      <td>quận 10hồ chí minh</td>\n",
       "    </tr>\n",
       "    <tr>\n",
       "      <th>2221</th>\n",
       "      <td>quận 11</td>\n",
       "      <td>hồ chí minh</td>\n",
       "      <td>quận 11hồ chí minh</td>\n",
       "    </tr>\n",
       "    <tr>\n",
       "      <th>2333</th>\n",
       "      <td>quận 12</td>\n",
       "      <td>hồ chí minh</td>\n",
       "      <td>quận 12hồ chí minh</td>\n",
       "    </tr>\n",
       "    <tr>\n",
       "      <th>2767</th>\n",
       "      <td>quận 2</td>\n",
       "      <td>hồ chí minh</td>\n",
       "      <td>quận 2hồ chí minh</td>\n",
       "    </tr>\n",
       "    <tr>\n",
       "      <th>3057</th>\n",
       "      <td>quận 3</td>\n",
       "      <td>hồ chí minh</td>\n",
       "      <td>quận 3hồ chí minh</td>\n",
       "    </tr>\n",
       "    <tr>\n",
       "      <th>3157</th>\n",
       "      <td>quận 4</td>\n",
       "      <td>hồ chí minh</td>\n",
       "      <td>quận 4hồ chí minh</td>\n",
       "    </tr>\n",
       "    <tr>\n",
       "      <th>3261</th>\n",
       "      <td>quận 5</td>\n",
       "      <td>hồ chí minh</td>\n",
       "      <td>quận 5hồ chí minh</td>\n",
       "    </tr>\n",
       "    <tr>\n",
       "      <th>3382</th>\n",
       "      <td>quận 6</td>\n",
       "      <td>hồ chí minh</td>\n",
       "      <td>quận 6hồ chí minh</td>\n",
       "    </tr>\n",
       "    <tr>\n",
       "      <th>3544</th>\n",
       "      <td>quận 7</td>\n",
       "      <td>hồ chí minh</td>\n",
       "      <td>quận 7hồ chí minh</td>\n",
       "    </tr>\n",
       "    <tr>\n",
       "      <th>3774</th>\n",
       "      <td>quận 8</td>\n",
       "      <td>hồ chí minh</td>\n",
       "      <td>quận 8hồ chí minh</td>\n",
       "    </tr>\n",
       "  </tbody>\n",
       "</table>\n",
       "</div>"
      ],
      "text/plain": [
       "        district         city            str_address\n",
       "0     bình chánh  hồ chí minh  bình chánhhồ chí minh\n",
       "298     bình tân  hồ chí minh    bình tânhồ chí minh\n",
       "697   bình thạnh  hồ chí minh  bình thạnhhồ chí minh\n",
       "861      cần giờ  hồ chí minh     cần giờhồ chí minh\n",
       "923       củ chi  hồ chí minh      củ chihồ chí minh\n",
       "1133      gò vấp  hồ chí minh      gò vấphồ chí minh\n",
       "1349     hóc môn  hồ chí minh     hóc mônhồ chí minh\n",
       "1745      nhà bè  hồ chí minh      nhà bèhồ chí minh\n",
       "1797   phú nhuận  hồ chí minh   phú nhuậnhồ chí minh\n",
       "1909      quận 1  hồ chí minh      quận 1hồ chí minh\n",
       "2087     quận 10  hồ chí minh     quận 10hồ chí minh\n",
       "2221     quận 11  hồ chí minh     quận 11hồ chí minh\n",
       "2333     quận 12  hồ chí minh     quận 12hồ chí minh\n",
       "2767      quận 2  hồ chí minh      quận 2hồ chí minh\n",
       "3057      quận 3  hồ chí minh      quận 3hồ chí minh\n",
       "3157      quận 4  hồ chí minh      quận 4hồ chí minh\n",
       "3261      quận 5  hồ chí minh      quận 5hồ chí minh\n",
       "3382      quận 6  hồ chí minh      quận 6hồ chí minh\n",
       "3544      quận 7  hồ chí minh      quận 7hồ chí minh\n",
       "3774      quận 8  hồ chí minh      quận 8hồ chí minh"
      ]
     },
     "execution_count": 75,
     "metadata": {},
     "output_type": "execute_result"
    }
   ],
   "source": [
    "new_df.head(20)"
   ]
  },
  {
   "cell_type": "code",
   "execution_count": 76,
   "metadata": {},
   "outputs": [],
   "source": [
    "criterion = lambda row: row['str_address'] not in exist_addresses\n",
    "\n",
    "new_df = new_df[new_df.apply(criterion, axis=1)]"
   ]
  },
  {
   "cell_type": "code",
   "execution_count": 82,
   "metadata": {},
   "outputs": [
    {
     "data": {
      "text/html": [
       "<div>\n",
       "<style scoped>\n",
       "    .dataframe tbody tr th:only-of-type {\n",
       "        vertical-align: middle;\n",
       "    }\n",
       "\n",
       "    .dataframe tbody tr th {\n",
       "        vertical-align: top;\n",
       "    }\n",
       "\n",
       "    .dataframe thead th {\n",
       "        text-align: right;\n",
       "    }\n",
       "</style>\n",
       "<table border=\"1\" class=\"dataframe\">\n",
       "  <thead>\n",
       "    <tr style=\"text-align: right;\">\n",
       "      <th></th>\n",
       "      <th>district</th>\n",
       "      <th>city</th>\n",
       "      <th>str_address</th>\n",
       "    </tr>\n",
       "  </thead>\n",
       "  <tbody>\n",
       "    <tr>\n",
       "      <th>861</th>\n",
       "      <td>cần giờ</td>\n",
       "      <td>hồ chí minh</td>\n",
       "      <td>cần giờhồ chí minh</td>\n",
       "    </tr>\n",
       "    <tr>\n",
       "      <th>6969</th>\n",
       "      <td>mỹ đức</td>\n",
       "      <td>hà nội</td>\n",
       "      <td>mỹ đứchà nội</td>\n",
       "    </tr>\n",
       "    <tr>\n",
       "      <th>7440</th>\n",
       "      <td>thanh oai</td>\n",
       "      <td>hà nội</td>\n",
       "      <td>thanh oaihà nội</td>\n",
       "    </tr>\n",
       "    <tr>\n",
       "      <th>7649</th>\n",
       "      <td>ứng hòa</td>\n",
       "      <td>hà nội</td>\n",
       "      <td>ứng hòahà nội</td>\n",
       "    </tr>\n",
       "    <tr>\n",
       "      <th>10026</th>\n",
       "      <td>hòa vang</td>\n",
       "      <td>đà nẵng</td>\n",
       "      <td>hòa vangđà nẵng</td>\n",
       "    </tr>\n",
       "    <tr>\n",
       "      <th>...</th>\n",
       "      <td>...</td>\n",
       "      <td>...</td>\n",
       "      <td>...</td>\n",
       "    </tr>\n",
       "    <tr>\n",
       "      <th>34253</th>\n",
       "      <td>trạm tấu</td>\n",
       "      <td>yên bái</td>\n",
       "      <td>trạm tấuyên bái</td>\n",
       "    </tr>\n",
       "    <tr>\n",
       "      <th>34264</th>\n",
       "      <td>trấn yên</td>\n",
       "      <td>yên bái</td>\n",
       "      <td>trấn yênyên bái</td>\n",
       "    </tr>\n",
       "    <tr>\n",
       "      <th>34280</th>\n",
       "      <td>văn chấn</td>\n",
       "      <td>yên bái</td>\n",
       "      <td>văn chấnyên bái</td>\n",
       "    </tr>\n",
       "    <tr>\n",
       "      <th>34312</th>\n",
       "      <td>văn yên</td>\n",
       "      <td>yên bái</td>\n",
       "      <td>văn yênyên bái</td>\n",
       "    </tr>\n",
       "    <tr>\n",
       "      <th>34456</th>\n",
       "      <td>yên bình</td>\n",
       "      <td>yên bái</td>\n",
       "      <td>yên bìnhyên bái</td>\n",
       "    </tr>\n",
       "  </tbody>\n",
       "</table>\n",
       "<p>538 rows × 3 columns</p>\n",
       "</div>"
      ],
      "text/plain": [
       "        district         city         str_address\n",
       "861      cần giờ  hồ chí minh  cần giờhồ chí minh\n",
       "6969      mỹ đức       hà nội        mỹ đứchà nội\n",
       "7440   thanh oai       hà nội     thanh oaihà nội\n",
       "7649     ứng hòa       hà nội       ứng hòahà nội\n",
       "10026   hòa vang      đà nẵng     hòa vangđà nẵng\n",
       "...          ...          ...                 ...\n",
       "34253   trạm tấu      yên bái     trạm tấuyên bái\n",
       "34264   trấn yên      yên bái     trấn yênyên bái\n",
       "34280   văn chấn      yên bái     văn chấnyên bái\n",
       "34312    văn yên      yên bái      văn yênyên bái\n",
       "34456   yên bình      yên bái     yên bìnhyên bái\n",
       "\n",
       "[538 rows x 3 columns]"
      ]
     },
     "execution_count": 82,
     "metadata": {},
     "output_type": "execute_result"
    }
   ],
   "source": [
    "new_df"
   ]
  },
  {
   "cell_type": "code",
   "execution_count": 78,
   "metadata": {},
   "outputs": [],
   "source": [
    "import json\n",
    "with open ('Data/RAT_DATA_MAIN_New.json', 'r', encoding='utf-8') as f:\n",
    "    RAT_DATA = json.load(f)"
   ]
  },
  {
   "cell_type": "code",
   "execution_count": 80,
   "metadata": {},
   "outputs": [
    {
     "name": "stdout",
     "output_type": "stream",
     "text": [
      "36661\n"
     ]
    }
   ],
   "source": [
    "current_id = int(list(RAT_DATA.keys())[-1])+1\n",
    "print(current_id)"
   ]
  },
  {
   "cell_type": "code",
   "execution_count": 83,
   "metadata": {},
   "outputs": [
    {
     "data": {
      "text/plain": [
       "'Cao Hai Nam'"
      ]
     },
     "execution_count": 83,
     "metadata": {},
     "output_type": "execute_result"
    }
   ],
   "source": [
    "from Preprocess import remove_tone_of_text\n",
    "remove_tone_of_text('Cao Hải Nảm')"
   ]
  },
  {
   "cell_type": "code",
   "execution_count": 84,
   "metadata": {},
   "outputs": [],
   "source": [
    "str_addresses = []\n",
    "for index, row in new_df.iterrows():\n",
    "    RAT_DATA[current_id] = dict()\n",
    "    district, city = row['district'], row['city']\n",
    "    # print(district)\n",
    "    # print(city)\n",
    "    RAT_DATA[current_id]['std_add'] = dict()\n",
    "    RAT_DATA[current_id]['std_add']['district'] = district\n",
    "    RAT_DATA[current_id]['std_add']['city'] = city\n",
    "    RAT_DATA[current_id]['str_add'] = ' '.join([district, city])\n",
    "    RAT_DATA[current_id]['NT_str_add'] = ' '.join([remove_tone_of_text(district), remove_tone_of_text(city)])\n",
    "    current_id += 1\n",
    "    # break"
   ]
  },
  {
   "cell_type": "code",
   "execution_count": 55,
   "metadata": {},
   "outputs": [
    {
     "data": {
      "text/plain": [
       "35019"
      ]
     },
     "execution_count": 55,
     "metadata": {},
     "output_type": "execute_result"
    }
   ],
   "source": [
    "len(RAT_DATA)"
   ]
  },
  {
   "cell_type": "code",
   "execution_count": 87,
   "metadata": {},
   "outputs": [],
   "source": [
    "with open('Data/RAT_DATA_MAIN_New_Update.json', 'w', encoding='utf-8') as f:\n",
    "    json.dump(RAT_DATA, f, ensure_ascii=False, indent=4)"
   ]
  },
  {
   "cell_type": "code",
   "execution_count": null,
   "metadata": {},
   "outputs": [],
   "source": []
  },
  {
   "cell_type": "code",
   "execution_count": null,
   "metadata": {},
   "outputs": [],
   "source": []
  },
  {
   "cell_type": "code",
   "execution_count": 2,
   "metadata": {},
   "outputs": [],
   "source": [
    "import json\n",
    "with open ('Data/RAT_DATA_MAIN_New_Update.json', 'r', encoding='utf-8') as f:\n",
    "    RAT_DATA = json.load(f)"
   ]
  },
  {
   "cell_type": "code",
   "execution_count": 3,
   "metadata": {},
   "outputs": [
    {
     "name": "stdout",
     "output_type": "stream",
     "text": [
      "{'std_add': {'street': 'đường 1', 'district': 'bình chánh', 'city': 'hồ chí minh'}, 'str_add': 'đường 1 bình chánh hồ chí minh', 'NT_str_add': 'duong 1 binh chanh ho chi minh'}\n"
     ]
    }
   ],
   "source": [
    "count = 0\n",
    "for i in RAT_DATA:\n",
    "    print(RAT_DATA[i])\n",
    "    break"
   ]
  },
  {
   "cell_type": "code",
   "execution_count": 6,
   "metadata": {},
   "outputs": [],
   "source": [
    "count = 0\n",
    "for i in RAT_DATA:\n",
    "    if 'ward' in RAT_DATA[i]['std_add']:\n",
    "        count += 1"
   ]
  },
  {
   "cell_type": "code",
   "execution_count": 9,
   "metadata": {},
   "outputs": [],
   "source": [
    "import pandas as pd"
   ]
  },
  {
   "cell_type": "code",
   "execution_count": 24,
   "metadata": {},
   "outputs": [
    {
     "data": {
      "text/plain": [
       "0         Phường\n",
       "126     Thị trấn\n",
       "127           Xã\n",
       "3797       Huyện\n",
       "Name: Cấp, dtype: object"
      ]
     },
     "execution_count": 24,
     "metadata": {},
     "output_type": "execute_result"
    }
   ],
   "source": [
    "df = pd.read_csv('Data/ward_level.csv')\n",
    "df['Cấp'].drop_duplicates()"
   ]
  },
  {
   "cell_type": "code",
   "execution_count": 40,
   "metadata": {},
   "outputs": [
    {
     "name": "stdout",
     "output_type": "stream",
     "text": [
      "10604\n"
     ]
    }
   ],
   "source": [
    "df = pd.read_csv('Data/ward_level.csv')\n",
    "print(len(df))\n",
    "# df = df[df['Cấp'].isnull()]\n",
    "df = df.dropna()"
   ]
  },
  {
   "cell_type": "code",
   "execution_count": 41,
   "metadata": {},
   "outputs": [
    {
     "data": {
      "text/plain": [
       "0        Phường\n",
       "126    Thị trấn\n",
       "127          Xã\n",
       "Name: Cấp, dtype: object"
      ]
     },
     "execution_count": 41,
     "metadata": {},
     "output_type": "execute_result"
    }
   ],
   "source": [
    "df['Cấp'].drop_duplicates()"
   ]
  },
  {
   "cell_type": "code",
   "execution_count": 42,
   "metadata": {},
   "outputs": [
    {
     "data": {
      "text/plain": [
       "10599"
      ]
     },
     "execution_count": 42,
     "metadata": {},
     "output_type": "execute_result"
    }
   ],
   "source": [
    "len(df)"
   ]
  },
  {
   "cell_type": "code",
   "execution_count": 45,
   "metadata": {},
   "outputs": [],
   "source": [
    "df.to_csv('Data/ward_level.csv', index=False)"
   ]
  },
  {
   "cell_type": "code",
   "execution_count": null,
   "metadata": {},
   "outputs": [],
   "source": []
  },
  {
   "cell_type": "code",
   "execution_count": null,
   "metadata": {},
   "outputs": [],
   "source": []
  },
  {
   "cell_type": "markdown",
   "metadata": {},
   "source": [
    "# Re produce sentence transformers from transformers"
   ]
  },
  {
   "cell_type": "code",
   "execution_count": 1,
   "metadata": {},
   "outputs": [],
   "source": [
    "from transformers import AutoModel, AutoTokenizer\n",
    "import torch\n",
    "model = AutoModel.from_pretrained('sentence-transformer_LaBSE')\n",
    "tokenizer = AutoTokenizer.from_pretrained('sentence-transformer_LaBSE')"
   ]
  },
  {
   "cell_type": "code",
   "execution_count": 3,
   "metadata": {},
   "outputs": [],
   "source": [
    "sent = 'vĩnh hùng vĩnh lộc thanh hóa'"
   ]
  },
  {
   "cell_type": "code",
   "execution_count": 5,
   "metadata": {},
   "outputs": [],
   "source": [
    "inputs = tokenizer(sent, return_tensors='pt')\n",
    "with torch.no_grad():\n",
    "    outputs = model(**inputs)"
   ]
  },
  {
   "cell_type": "code",
   "execution_count": 7,
   "metadata": {},
   "outputs": [],
   "source": [
    "vector = outputs['pooler_output']\n",
    "vector = torch.nn.functional.normalize(vector, p=2, dim=1).detach().numpy()"
   ]
  },
  {
   "cell_type": "code",
   "execution_count": null,
   "metadata": {},
   "outputs": [],
   "source": []
  },
  {
   "cell_type": "code",
   "execution_count": null,
   "metadata": {},
   "outputs": [],
   "source": []
  },
  {
   "cell_type": "code",
   "execution_count": null,
   "metadata": {},
   "outputs": [],
   "source": []
  },
  {
   "cell_type": "code",
   "execution_count": null,
   "metadata": {},
   "outputs": [],
   "source": []
  },
  {
   "cell_type": "markdown",
   "metadata": {},
   "source": [
    "# Build new address matrix"
   ]
  },
  {
   "cell_type": "code",
   "execution_count": 7,
   "metadata": {},
   "outputs": [],
   "source": [
    "import json\n",
    "with open('Data/RAT_DATA_MAIN.json', 'r', encoding='utf-8') as f:\n",
    "    RAT_DATA = json.load(f)"
   ]
  },
  {
   "cell_type": "code",
   "execution_count": 8,
   "metadata": {},
   "outputs": [
    {
     "data": {
      "text/plain": [
       "35019"
      ]
     },
     "execution_count": 8,
     "metadata": {},
     "output_type": "execute_result"
    }
   ],
   "source": [
    "len(RAT_DATA)"
   ]
  },
  {
   "cell_type": "code",
   "execution_count": 9,
   "metadata": {},
   "outputs": [],
   "source": [
    "import Parameters\n",
    "import numpy as np\n",
    "import Utils\n",
    "from transformers import AutoModel, AutoTokenizer"
   ]
  },
  {
   "cell_type": "code",
   "execution_count": 113,
   "metadata": {},
   "outputs": [
    {
     "data": {
      "text/plain": [
       "(34481, 772)"
      ]
     },
     "execution_count": 113,
     "metadata": {},
     "output_type": "execute_result"
    }
   ],
   "source": [
    "# norm_embeddings.shape"
   ]
  },
  {
   "cell_type": "code",
   "execution_count": 10,
   "metadata": {},
   "outputs": [],
   "source": [
    "model = AutoModel.from_pretrained(Parameters.local_embedding_model)\n",
    "tokenizer = AutoTokenizer.from_pretrained(Parameters.local_embedding_model)"
   ]
  },
  {
   "cell_type": "code",
   "execution_count": 11,
   "metadata": {},
   "outputs": [
    {
     "name": "stdout",
     "output_type": "stream",
     "text": [
      "{'std_add': {'street': 'đường 1', 'district': 'bình chánh', 'city': 'hồ chí minh'}, 'str_add': 'đường 1 bình chánh hồ chí minh', 'NT_str_add': 'duong 1 binh chanh ho chi minh'}\n"
     ]
    }
   ],
   "source": [
    "for i in RAT_DATA:\n",
    "    print(RAT_DATA[i])\n",
    "    break"
   ]
  },
  {
   "cell_type": "code",
   "execution_count": 12,
   "metadata": {},
   "outputs": [],
   "source": [
    "str_adds, NT_str_adds = [], []\n",
    "for i in RAT_DATA:\n",
    "    str_adds.append(RAT_DATA[i]['str_add'])\n",
    "    NT_str_adds.append(RAT_DATA[i]['NT_str_add'])"
   ]
  },
  {
   "cell_type": "code",
   "execution_count": 13,
   "metadata": {},
   "outputs": [
    {
     "name": "stdout",
     "output_type": "stream",
     "text": [
      "35019\n",
      "35019\n"
     ]
    }
   ],
   "source": [
    "print(len(str_adds))\n",
    "print(len(NT_str_adds))"
   ]
  },
  {
   "cell_type": "code",
   "execution_count": 9,
   "metadata": {},
   "outputs": [],
   "source": [
    "# str_add_matrix, NT_str_add_matrix = [], []\n",
    "# for i in range(0, len(str_adds[:200])):\n",
    "#     str_add, NT_str_add = str_adds[i], NT_str_adds[i]\n",
    "#     str_add_matrix.append(Utils.encode(model, tokenizer, str_add))\n",
    "#     NT_str_add_matrix.append(Utils.encode(model, tokenizer, NT_str_add))\n",
    "#     # break"
   ]
  },
  {
   "cell_type": "code",
   "execution_count": 14,
   "metadata": {},
   "outputs": [],
   "source": [
    "str_add_matrix, NT_str_add_matrix = [], []\n",
    "batchsize = 256\n",
    "n = len(str_adds)\n",
    "for i in range(0, len(str_adds[:n]), batchsize):\n",
    "    str_add, NT_str_add = str_adds[:n][i:i+batchsize], NT_str_adds[:n][i:i+batchsize]\n",
    "    str_add_matrix.extend(Utils.encode(model, tokenizer, str_add))\n",
    "    NT_str_add_matrix.extend(Utils.encode(model, tokenizer, NT_str_add))"
   ]
  },
  {
   "cell_type": "code",
   "execution_count": 24,
   "metadata": {},
   "outputs": [],
   "source": [
    "# str_add_matrix"
   ]
  },
  {
   "cell_type": "code",
   "execution_count": 15,
   "metadata": {},
   "outputs": [],
   "source": [
    "str_add_matrix = np.array(str_add_matrix)\n",
    "NT_str_add_matrix = np.array(NT_str_add_matrix)"
   ]
  },
  {
   "cell_type": "code",
   "execution_count": 16,
   "metadata": {},
   "outputs": [
    {
     "data": {
      "text/plain": [
       "(35019, 768)"
      ]
     },
     "execution_count": 16,
     "metadata": {},
     "output_type": "execute_result"
    }
   ],
   "source": [
    "NT_str_add_matrix.shape"
   ]
  },
  {
   "cell_type": "code",
   "execution_count": 17,
   "metadata": {},
   "outputs": [
    {
     "name": "stdout",
     "output_type": "stream",
     "text": [
      "{'street': 'đường 1', 'district': 'bình chánh', 'city': 'hồ chí minh'}\n"
     ]
    }
   ],
   "source": [
    "entity_matrix = []\n",
    "str_adds, NT_str_adds = [], []\n",
    "for i in RAT_DATA:\n",
    "    std_add = RAT_DATA[i]['std_add']\n",
    "    print(std_add)\n",
    "    break"
   ]
  },
  {
   "cell_type": "code",
   "execution_count": 18,
   "metadata": {},
   "outputs": [],
   "source": [
    "entity_matrix = []\n",
    "entities = ['street', 'ward', 'district', 'city']\n",
    "str_adds, NT_str_adds = [], []\n",
    "for i in RAT_DATA:\n",
    "    std_add = RAT_DATA[i]['std_add']\n",
    "    entity_vector = [0., 0., 0., 0.]\n",
    "    for ent in entities:\n",
    "        if ent in std_add:\n",
    "            entity_vector[entities.index(ent)] = 1. \n",
    "    # print(entity_vector)\n",
    "    entity_matrix.append(entity_vector)\n",
    "    # break"
   ]
  },
  {
   "cell_type": "code",
   "execution_count": 19,
   "metadata": {},
   "outputs": [],
   "source": [
    "entity_matrix = np.array(entity_matrix)"
   ]
  },
  {
   "cell_type": "code",
   "execution_count": 20,
   "metadata": {},
   "outputs": [
    {
     "data": {
      "text/plain": [
       "(35019, 4)"
      ]
     },
     "execution_count": 20,
     "metadata": {},
     "output_type": "execute_result"
    }
   ],
   "source": [
    "entity_matrix.shape"
   ]
  },
  {
   "cell_type": "code",
   "execution_count": 21,
   "metadata": {},
   "outputs": [],
   "source": [
    "x = np.concatenate((str_add_matrix, entity_matrix), axis=1)\n",
    "NT_x = np.concatenate((NT_str_add_matrix, entity_matrix), axis=1)"
   ]
  },
  {
   "cell_type": "code",
   "execution_count": 22,
   "metadata": {},
   "outputs": [
    {
     "data": {
      "text/plain": [
       "(35019, 772)"
      ]
     },
     "execution_count": 22,
     "metadata": {},
     "output_type": "execute_result"
    }
   ],
   "source": [
    "x.shape"
   ]
  },
  {
   "cell_type": "code",
   "execution_count": 23,
   "metadata": {},
   "outputs": [
    {
     "data": {
      "text/plain": [
       "(35019, 772)"
      ]
     },
     "execution_count": 23,
     "metadata": {},
     "output_type": "execute_result"
    }
   ],
   "source": [
    "NT_x.shape"
   ]
  },
  {
   "cell_type": "code",
   "execution_count": 24,
   "metadata": {},
   "outputs": [],
   "source": [
    "with open('Data/std_address_matrix.npy', 'wb') as f:\n",
    "    np.save(f, x)\n",
    "    np.save(f, NT_x)\n",
    "# with open('Data/Update_NT_norm.npy', 'wb') as f:\n",
    "#     np.save(f, NT_x)"
   ]
  },
  {
   "cell_type": "code",
   "execution_count": null,
   "metadata": {},
   "outputs": [],
   "source": []
  },
  {
   "cell_type": "markdown",
   "metadata": {},
   "source": [
    "# Build RAT only contain WARD level"
   ]
  },
  {
   "cell_type": "code",
   "execution_count": 12,
   "metadata": {},
   "outputs": [],
   "source": [
    "import Parameters\n",
    "import numpy as np\n",
    "import Utils"
   ]
  },
  {
   "cell_type": "code",
   "execution_count": 3,
   "metadata": {},
   "outputs": [],
   "source": [
    "import json\n",
    "with open('Data/RAT_DATA_MAIN.json', 'r', encoding='utf-8') as f:\n",
    "    RAT_DATA = json.load(f)\n",
    "with open(file=Parameters.ID2id_FILE, mode='r', encoding='utf-8') as f:\n",
    "    ID2id = json.load(fp=f)\n",
    "with open(file=Parameters.id2ID_FILE, mode='r', encoding='utf-8') as f:\n",
    "    id2ID = json.load(fp=f)"
   ]
  },
  {
   "cell_type": "code",
   "execution_count": 4,
   "metadata": {},
   "outputs": [
    {
     "name": "stdout",
     "output_type": "stream",
     "text": [
      "{'std_add': {'street': 'đường 1', 'district': 'bình chánh', 'city': 'hồ chí minh'}, 'str_add': 'đường 1 bình chánh hồ chí minh', 'NT_str_add': 'duong 1 binh chanh ho chi minh'}\n"
     ]
    }
   ],
   "source": [
    "for i in RAT_DATA:\n",
    "    print(RAT_DATA[i])\n",
    "    break"
   ]
  },
  {
   "cell_type": "code",
   "execution_count": 5,
   "metadata": {},
   "outputs": [],
   "source": [
    "with open(Parameters.STD_EMBEDDING_FILE, 'rb') as f:\n",
    "    std_embeddings = np.load(f)\n",
    "    NT_std_embeddings = np.load(f)"
   ]
  },
  {
   "cell_type": "code",
   "execution_count": 13,
   "metadata": {},
   "outputs": [],
   "source": [
    "ward_id2ID, ward_ID2id = dict(), dict()\n",
    "RAT_DATA_Ward = dict()\n",
    "ward_str_add_matrix, ward_NT_str_add_matrix = [], []\n",
    "count = 0\n",
    "for id in RAT_DATA:\n",
    "    std_add = RAT_DATA[id]['std_add']\n",
    "    if 'street' not in std_add:\n",
    "        RAT_DATA_Ward[id] = RAT_DATA[id]\n",
    "        ward_ID2id[count] = id \n",
    "        ward_id2ID[id] = count\n",
    "        count += 1\n",
    "\n",
    "        ID = int(id2ID[id])\n",
    "        ward_str_add_matrix.append(std_embeddings[ID])\n",
    "        ward_NT_str_add_matrix.append(NT_std_embeddings[ID])"
   ]
  },
  {
   "cell_type": "code",
   "execution_count": 14,
   "metadata": {},
   "outputs": [
    {
     "name": "stdout",
     "output_type": "stream",
     "text": [
      "11860\n",
      "11860\n",
      "11860\n",
      "11860\n"
     ]
    }
   ],
   "source": [
    "print(len(ward_ID2id))\n",
    "print(len(ward_id2ID))\n",
    "print(len(ward_str_add_matrix))\n",
    "print(len(ward_NT_str_add_matrix))"
   ]
  },
  {
   "cell_type": "code",
   "execution_count": 15,
   "metadata": {},
   "outputs": [],
   "source": [
    "ward_str_add_matrix = np.array(ward_str_add_matrix)\n",
    "ward_NT_str_add_matrix = np.array(ward_NT_str_add_matrix)"
   ]
  },
  {
   "cell_type": "code",
   "execution_count": 16,
   "metadata": {},
   "outputs": [],
   "source": [
    "with open('Data/ward_id2ID.json', 'w', encoding='utf-8') as f:\n",
    "    json.dump(ward_id2ID, f, ensure_ascii=False, indent=4)\n",
    "with open('Data/ward_ID2id.json', 'w', encoding='utf-8') as f:\n",
    "    json.dump(ward_ID2id, f, ensure_ascii=False, indent=4)\n",
    "with open('Data/ward_std_address_matrix.npy', 'wb') as f:\n",
    "    np.save(f, ward_str_add_matrix)\n",
    "    np.save(f, ward_NT_str_add_matrix)"
   ]
  },
  {
   "cell_type": "code",
   "execution_count": 15,
   "metadata": {},
   "outputs": [
    {
     "name": "stdout",
     "output_type": "stream",
     "text": [
      "11155\n"
     ]
    }
   ],
   "source": [
    "print(len(RAT_DATA_Ward))"
   ]
  },
  {
   "cell_type": "code",
   "execution_count": null,
   "metadata": {},
   "outputs": [],
   "source": []
  },
  {
   "cell_type": "code",
   "execution_count": null,
   "metadata": {},
   "outputs": [],
   "source": []
  },
  {
   "cell_type": "code",
   "execution_count": null,
   "metadata": {},
   "outputs": [],
   "source": []
  },
  {
   "cell_type": "code",
   "execution_count": null,
   "metadata": {},
   "outputs": [],
   "source": []
  },
  {
   "cell_type": "markdown",
   "metadata": {},
   "source": [
    "# Update id2ID, ID2id, id2norm_add"
   ]
  },
  {
   "cell_type": "code",
   "execution_count": 49,
   "metadata": {},
   "outputs": [],
   "source": [
    "import json\n",
    "import Parameters\n",
    "with open('Data/RAT_DATA_MAIN_New_Update.json', 'r', encoding='utf-8') as f:\n",
    "    RAT_DATA = json.load(f)"
   ]
  },
  {
   "cell_type": "code",
   "execution_count": 47,
   "metadata": {},
   "outputs": [
    {
     "name": "stdout",
     "output_type": "stream",
     "text": [
      "{'std_add': {'street': 'đường 1', 'district': 'bình chánh', 'city': 'hồ chí minh'}, 'str_add': 'đường 1 bình chánh hồ chí minh', 'NT_str_add': 'duong 1 binh chanh ho chi minh'}\n"
     ]
    }
   ],
   "source": [
    "for i in RAT_DATA:\n",
    "    print(RAT_DATA[i])\n",
    "    break"
   ]
  },
  {
   "cell_type": "code",
   "execution_count": null,
   "metadata": {},
   "outputs": [],
   "source": [
    "import json\n",
    "with open('Data/RAT_DATA_MAIN_New_Update.json', 'r', encoding='utf-8') as f:\n",
    "    RAT_DATA = json.load(f)"
   ]
  },
  {
   "cell_type": "code",
   "execution_count": 50,
   "metadata": {},
   "outputs": [],
   "source": [
    "with open(file=Parameters.ID2id_FILE, mode='r', encoding='utf-8') as f:\n",
    "    ID2id = json.load(fp=f)\n",
    "\n",
    "with open(file=Parameters.id2ID_FILE, mode='r', encoding='utf-8') as f:\n",
    "    id2ID = json.load(fp=f)\n",
    "\n",
    "with open(file=Parameters.id2norm_add_FILE, mode='r', encoding='utf-8') as f:\n",
    "    id2std_add= json.load(fp=f)"
   ]
  },
  {
   "cell_type": "code",
   "execution_count": 56,
   "metadata": {},
   "outputs": [
    {
     "data": {
      "text/plain": [
       "{'norm_add': 'đường 1 bình chánh hồ chí minh',\n",
       " 'NT_norm_add': 'duong 1 binh chanh ho chi minh'}"
      ]
     },
     "execution_count": 56,
     "metadata": {},
     "output_type": "execute_result"
    }
   ],
   "source": [
    "id2std_add['0']"
   ]
  },
  {
   "cell_type": "code",
   "execution_count": 57,
   "metadata": {},
   "outputs": [],
   "source": [
    "ID2id, id2ID, id2std_add = dict(), dict(), dict()\n",
    "count = 0\n",
    "for i in RAT_DATA:\n",
    "    ID2id[count] = int(i)\n",
    "    id2ID[i] = count\n",
    "    id2std_add[i] = dict()\n",
    "    id2std_add[i]['str_add'] = RAT_DATA[i]['str_add']\n",
    "    id2std_add[i]['NT_str_add'] = RAT_DATA[i]['NT_str_add']\n",
    "    count += 1"
   ]
  },
  {
   "cell_type": "code",
   "execution_count": 60,
   "metadata": {},
   "outputs": [],
   "source": [
    "with open('Data/id2ID_Update.json', 'w', encoding='utf-8') as f:\n",
    "    json.dump(id2ID, f, ensure_ascii=False, indent=4)\n",
    "with open('Data/ID2id_Update.json', 'w', encoding='utf-8') as f:\n",
    "    json.dump(ID2id, f, ensure_ascii=False, indent=4)\n",
    "with open('Data/id2norm_add_Update.json', 'w', encoding='utf-8') as f:\n",
    "    json.dump(id2std_add, f, ensure_ascii=False, indent=4)"
   ]
  },
  {
   "cell_type": "code",
   "execution_count": 61,
   "metadata": {},
   "outputs": [],
   "source": [
    "with open(file=Parameters.id2norm_add_FILE, mode='r', encoding='utf-8') as f:\n",
    "    id2std_add= json.load(fp=f)"
   ]
  },
  {
   "cell_type": "code",
   "execution_count": 63,
   "metadata": {},
   "outputs": [],
   "source": [
    "x = dict()\n",
    "for i in id2std_add:\n",
    "    x[i] = dict()\n",
    "    x[i]['std_add'] = id2std_add[i]['norm_add']\n",
    "    x[i]['NT_std_add'] = id2std_add[i]['NT_norm_add']"
   ]
  },
  {
   "cell_type": "code",
   "execution_count": 64,
   "metadata": {},
   "outputs": [],
   "source": [
    "with open('Data/id2norm_add_1.json', 'w', encoding='utf-8') as f:\n",
    "    json.dump(x, f, ensure_ascii=False, indent=4)"
   ]
  },
  {
   "cell_type": "code",
   "execution_count": null,
   "metadata": {},
   "outputs": [],
   "source": [
    "import json\n",
    "import Parameters\n",
    "with open('Data/RAT_DATA_MAIN.json', 'r', encoding='utf-8') as f:\n",
    "    RAT_DATA = json.load(f)"
   ]
  },
  {
   "cell_type": "markdown",
   "metadata": {},
   "source": [
    "# Test Siameser"
   ]
  },
  {
   "cell_type": "code",
   "execution_count": 1,
   "metadata": {},
   "outputs": [
    {
     "name": "stderr",
     "output_type": "stream",
     "text": [
      "2022-06-17 10:17:12.012932: W tensorflow/stream_executor/platform/default/dso_loader.cc:64] Could not load dynamic library 'libcudart.so.11.0'; dlerror: libcudart.so.11.0: cannot open shared object file: No such file or directory\n",
      "2022-06-17 10:17:12.012947: I tensorflow/stream_executor/cuda/cudart_stub.cc:29] Ignore above cudart dlerror if you do not have a GPU set up on your machine.\n",
      "/home/namch/anaconda3/envs/vas/lib/python3.10/site-packages/tqdm/auto.py:22: TqdmWarning: IProgress not found. Please update jupyter and ipywidgets. See https://ipywidgets.readthedocs.io/en/stable/user_install.html\n",
      "  from .autonotebook import tqdm as notebook_tqdm\n"
     ]
    }
   ],
   "source": [
    "import keras\n",
    "import Siameser"
   ]
  },
  {
   "cell_type": "code",
   "execution_count": 2,
   "metadata": {},
   "outputs": [
    {
     "name": "stdout",
     "output_type": "stream",
     "text": [
      "Load model\n",
      "WARNING:tensorflow:SavedModel saved prior to TF 2.5 detected when loading Keras model. Please ensure that you are saving the model with model.save() or tf.keras.models.save_model(), *NOT* tf.saved_model.save(). To confirm, there should be a file named \"keras_metadata.pb\" in the SavedModel directory.\n"
     ]
    },
    {
     "name": "stderr",
     "output_type": "stream",
     "text": [
      "2022-06-17 10:17:13.937805: W tensorflow/stream_executor/platform/default/dso_loader.cc:64] Could not load dynamic library 'libcuda.so.1'; dlerror: libcuda.so.1: cannot open shared object file: No such file or directory\n",
      "2022-06-17 10:17:13.937824: W tensorflow/stream_executor/cuda/cuda_driver.cc:269] failed call to cuInit: UNKNOWN ERROR (303)\n",
      "2022-06-17 10:17:13.937838: I tensorflow/stream_executor/cuda/cuda_diagnostics.cc:156] kernel driver does not appear to be running on this host (namch): /proc/driver/nvidia/version does not exist\n",
      "2022-06-17 10:17:13.938006: I tensorflow/core/platform/cpu_feature_guard.cc:193] This TensorFlow binary is optimized with oneAPI Deep Neural Network Library (oneDNN) to use the following CPU instructions in performance-critical operations:  AVX2 FMA\n",
      "To enable them in other operations, rebuild TensorFlow with the appropriate compiler flags.\n"
     ]
    },
    {
     "name": "stdout",
     "output_type": "stream",
     "text": [
      "Load sentence embedding model (If this is the first time you run this repo, It could be take time to download sentence embedding model)\n",
      "Load standard address\n",
      "Load standard address matrix\n",
      "Done\n"
     ]
    }
   ],
   "source": [
    "std = Siameser.Siameser('AD')"
   ]
  },
  {
   "cell_type": "code",
   "execution_count": 4,
   "metadata": {},
   "outputs": [
    {
     "name": "stdout",
     "output_type": "stream",
     "text": [
      "1095/1095 [==============================] - 1s 1ms/step\n",
      "[{'street': 'bùi mộng hoa', 'district': 'kiến an', 'city': 'hải phòng'}, {'street': 'hồng sơn', 'district': 'vinh', 'city': 'nghệ an'}, {'ward': 'hồng sơn', 'district': 'vinh', 'city': 'nghệ an'}, {'district': 'kỳ sơn', 'city': 'hòa bình'}, {'street': 'bình minh', 'district': 'đồ sơn', 'city': 'hải phòng'}, {'street': 'hương sơn', 'district': 'kiến an', 'city': 'hải phòng'}, {'street': 'hoa khê', 'district': 'kiến an', 'city': 'hải phòng'}, {'ward': 'hương sơn', 'district': 'bình xuyên', 'city': 'vĩnh phúc'}, {'street': 'đống công tường', 'district': 'cẩm lệ', 'city': 'đà nẵng'}, {'ward': 'vân mộng', 'district': 'lộc bình', 'city': 'lạng sơn'}]\n"
     ]
    }
   ],
   "source": [
    "# add = 'Hoi P Bình Hưng Hòa B/Tân TP Hồ Chí Minh'\n",
    "# add = 'Thị Tĩnh Khai P Đa Kao Quận 1 TP Hồ Chí Minh'\n",
    "# add = 'Huy tinn T Phát Thị Trấn Nhà Bè NB TP Hồ Chí Minh'\n",
    "# add = 'Văn Nguyên P T-Định Q1 TP Hồ Chí-Minh'\n",
    "# add = 'Lão Bang Quận Hải Châu Đà Nẵng'\n",
    "# add = 'P Than P BTĐông BTân TP Hồ Chí Minh'\n",
    "# add = 'Xuân phương Từ liêm Hà nội'\n",
    "# add = 'Mỹ Tây Tây Hoà Phú Yên'\n",
    "# add = 'Lãm P An Lạc Bình Tân TP Hồ Chí Minh'\n",
    "# add = 'Tân Thanh Bà Rịa-Vũng Tàu'\n",
    "# add = 'TT Bộ Thủy Sân Ngọc Khánh Ba Đình Hà Nội'\n",
    "# add = 'kê thủy quảng bình'\n",
    "add = 'P.Hồng Sơn Thành phố Vinh, Nghệ An'\n",
    "# add = '150 kim hoa hà nội'\n",
    "# add = 'kim hoa hà nội'\n",
    "# add = 'đường 18 , phường giếng đáy , hạ long , quảng ninh'\n",
    "std_add = std.get_top_k(add, 10)\n",
    "print(std_add)"
   ]
  },
  {
   "cell_type": "markdown",
   "metadata": {},
   "source": [
    "# Rebuild file"
   ]
  },
  {
   "cell_type": "code",
   "execution_count": 1,
   "metadata": {},
   "outputs": [],
   "source": [
    "import json"
   ]
  },
  {
   "cell_type": "code",
   "execution_count": 2,
   "metadata": {},
   "outputs": [],
   "source": [
    "id2ID, ID2id, id2std_add = dict(), dict(), dict()\n",
    "with open('Data/RAT_DATA_MAIN_New_Update.json', 'r') as f:\n",
    "    RAT_DATA = json.load(f)"
   ]
  },
  {
   "cell_type": "code",
   "execution_count": 3,
   "metadata": {},
   "outputs": [
    {
     "data": {
      "text/plain": [
       "35019"
      ]
     },
     "execution_count": 3,
     "metadata": {},
     "output_type": "execute_result"
    }
   ],
   "source": [
    "len(RAT_DATA)"
   ]
  },
  {
   "cell_type": "code",
   "execution_count": 4,
   "metadata": {},
   "outputs": [
    {
     "name": "stdout",
     "output_type": "stream",
     "text": [
      "0\n",
      "{'std_add': {'street': 'đường 1', 'district': 'bình chánh', 'city': 'hồ chí minh'}, 'str_add': 'đường 1 bình chánh hồ chí minh', 'NT_str_add': 'duong 1 binh chanh ho chi minh'}\n"
     ]
    }
   ],
   "source": [
    "for i in RAT_DATA:\n",
    "    print(i)\n",
    "    print(RAT_DATA[i])\n",
    "    break"
   ]
  },
  {
   "cell_type": "code",
   "execution_count": 6,
   "metadata": {},
   "outputs": [],
   "source": [
    "cur_ID = 0\n",
    "for i in RAT_DATA:\n",
    "    id2ID[i] = cur_ID\n",
    "    ID2id[cur_ID] = i \n",
    "    cur_ID += 1"
   ]
  },
  {
   "cell_type": "code",
   "execution_count": 8,
   "metadata": {},
   "outputs": [],
   "source": [
    "with open('Data/id2ID_Update.json', 'w', encoding='utf-8') as f:\n",
    "    json.dump(id2ID, f, ensure_ascii=False, indent=4)\n",
    "with open('Data/ID2id_Update.json', 'w', encoding='utf-8') as f:\n",
    "    json.dump(ID2id, f, ensure_ascii=False, indent=4)"
   ]
  },
  {
   "cell_type": "code",
   "execution_count": 4,
   "metadata": {},
   "outputs": [],
   "source": [
    "id2str_std_add = dict()\n",
    "for i in RAT_DATA:\n",
    "    id2str_std_add[i] = dict()\n",
    "    id2str_std_add[i]['str_add'] = RAT_DATA[i]['str_add']\n",
    "    id2str_std_add[i]['NT_str_add'] = RAT_DATA[i]['NT_str_add']"
   ]
  },
  {
   "cell_type": "code",
   "execution_count": 5,
   "metadata": {},
   "outputs": [],
   "source": [
    "with open('Data/id2str_std_add.json', 'w', encoding='utf-8') as f:\n",
    "    json.dump(id2str_std_add, f, ensure_ascii=False, indent=4)"
   ]
  },
  {
   "cell_type": "code",
   "execution_count": null,
   "metadata": {},
   "outputs": [],
   "source": []
  },
  {
   "cell_type": "markdown",
   "metadata": {},
   "source": [
    "# Test model on VPS data"
   ]
  },
  {
   "cell_type": "code",
   "execution_count": 11,
   "metadata": {},
   "outputs": [],
   "source": [
    "import keras \n",
    "import Siameser\n",
    "import gc\n",
    "import normalize_vietnamese_typing\n",
    "import Utils"
   ]
  },
  {
   "cell_type": "code",
   "execution_count": 7,
   "metadata": {},
   "outputs": [
    {
     "name": "stdout",
     "output_type": "stream",
     "text": [
      "Load model\n",
      "WARNING:tensorflow:SavedModel saved prior to TF 2.5 detected when loading Keras model. Please ensure that you are saving the model with model.save() or tf.keras.models.save_model(), *NOT* tf.saved_model.save(). To confirm, there should be a file named \"keras_metadata.pb\" in the SavedModel directory.\n",
      "Load sentence embedding model (If this is the first time you run this repo, It could be take time to download sentence embedding model)\n",
      "Load standard address\n",
      "Load standard address matrix\n",
      "Done\n"
     ]
    }
   ],
   "source": [
    "std = Siameser.Siameser('AD', 'ward')"
   ]
  },
  {
   "cell_type": "code",
   "execution_count": 27,
   "metadata": {},
   "outputs": [
    {
     "name": "stdout",
     "output_type": "stream",
     "text": [
      "371/371 [==============================] - 1s 1ms/step\n"
     ]
    },
    {
     "data": {
      "text/plain": [
       "{'ward': 'hồng sơn', 'district': 'vinh', 'city': 'nghệ an'}"
      ]
     },
     "execution_count": 27,
     "metadata": {},
     "output_type": "execute_result"
    }
   ],
   "source": [
    "# add = 'Hoàng Hoa Thám Thụy Khuê Tây Hồ, Hà Nội'\n",
    "# add = 'TT.Nông Cống, Nông Cống, Thanh Hoá'\n",
    "# add = 'Hòa Châu, huyện Hoà Vang, thịphố Đà Nẵng'\n",
    "# add = '39 Trần Hưng- Đạo, P.Ng-T-Bình, Q1, TP. Hồ Chí Minh'\n",
    "# add  = 'Hà Huy Tập, TP. Vinh, Nghệ An '\n",
    "# print(add)\n",
    "# add = Utils.remove_tone_of_text(add)\n",
    "# std.get_top_k(add, 10)\n",
    "add = 'P. Hồng Sơn Thành phố Vinh, Nghệ An '\n",
    "std.standardize(add)"
   ]
  },
  {
   "cell_type": "code",
   "execution_count": 18,
   "metadata": {},
   "outputs": [
    {
     "name": "stdout",
     "output_type": "stream",
     "text": [
      "23\n"
     ]
    }
   ],
   "source": [
    "print(len('080106_CARD1_all.dumps,'))"
   ]
  },
  {
   "cell_type": "code",
   "execution_count": 23,
   "metadata": {},
   "outputs": [],
   "source": [
    "with open('Data/VPS/fdm.txt') as f:\n",
    "    addresses = []\n",
    "    for line in f:\n",
    "        line = line[23:].strip('\\n')\n",
    "        addresses.append(line)\n",
    "with open('Data/VPS/truncate_fdm.txt') as f:\n",
    "    groundtruth_addresses = []\n",
    "    for line in f:\n",
    "        line = line[23:].strip('\\n')\n",
    "        groundtruth_addresses.append(line)"
   ]
  },
  {
   "cell_type": "code",
   "execution_count": null,
   "metadata": {},
   "outputs": [],
   "source": []
  },
  {
   "cell_type": "code",
   "execution_count": 5,
   "metadata": {},
   "outputs": [],
   "source": [
    "# addresses[:10]"
   ]
  },
  {
   "cell_type": "code",
   "execution_count": 4,
   "metadata": {},
   "outputs": [],
   "source": [
    "# groundtruth_addresses[:10]"
   ]
  },
  {
   "cell_type": "code",
   "execution_count": 25,
   "metadata": {},
   "outputs": [
    {
     "name": "stdout",
     "output_type": "stream",
     "text": [
      "134 Chùa Bộc Tổ 34 Quang Trung, Đống Đa, Hà Nội \n",
      "371/371 [==============================] - 1s 1ms/step\n",
      "mường khương, mường khương, lào cai\n",
      "Phường Quang Trung, Quận Đống Đa, Thành Phố Hà Nội\n",
      "\n",
      "\n",
      "P. Ấp 3, Xuân Tân Xuân Lộc, Đồng Nai \n",
      "371/371 [==============================] - 0s 1ms/step\n",
      "xuân tân, long khánh, đồng nai\n",
      "Phường Xuân Tân, Huyện Xuân Lộc, Tỉnh Đồng Nai\n",
      "\n",
      "\n",
      "Phường 5, TP Cà Mau, Cà Mau \n",
      "371/371 [==============================] - 1s 1ms/step\n",
      "phường 5, cà mau, cà mau\n",
      "Phường 5, Thành Phố Cà Mau, Tỉnh Cà Mau\n",
      "\n",
      "\n",
      "Thị trấn Quỳ Hợp Huyện Quỳ Hợp, Nghệ An \n",
      "371/371 [==============================] - 1s 1ms/step\n",
      "quỳ hợp, nghệ an\n",
      "Thị Trấn Quỳ Hợp, Huyện Quỳ Hợp, Tỉnh Nghệ An\n",
      "\n",
      "\n",
      "25 Ngõ Hàng Thịt Cửa Nam, Hoàn Kiếm, Hà Nội \n",
      "371/371 [==============================] - 0s 1ms/step\n",
      "định công, hoàng mai, hà nội\n",
      "Phường Cửa Nam, Quận Hoàn Kiếm, Thành Phố Hà Nội\n",
      "\n",
      "\n",
      "TDP Số 2, Cổ Nhuế 2 Bắc Từ Liêm, Hà Nội \n",
      "371/371 [==============================] - 1s 1ms/step\n",
      "đất cuốc, tân uyên, bình dương\n",
      "Phường Cổ Nhuế 2, Quận Bắc Từ Liêm, Thành Phố Hà Nội\n",
      "\n",
      "\n",
      "Thanh Hưng 2 Vĩnh Bình, Hoà Bình, Bạc Liêu \n",
      "371/371 [==============================] - 0s 1ms/step\n",
      "vĩnh phú, thuận an, bình dương\n",
      "Xã Vĩnh Bình, Huyện Hoà Bình, Tỉnh  Bạc Liêu\n",
      "\n",
      "\n",
      "9 ngõ 4 Hoàng Hoa Thám Thụy Khuê Tây Hồ, Hà Nội \n",
      "371/371 [==============================] - 1s 1ms/step\n",
      "hưng phú, cái răng, cần thơ\n",
      "Phường Thụy Khuê, Quận Tây Hồ, Thành Phố Hà Nội\n",
      "\n",
      "\n",
      "Khối 10 Hà Huy Tập, TP. Vinh, Nghệ An \n",
      "371/371 [==============================] - 0s 1ms/step\n",
      "vân trục, lập thạch, vĩnh phúc\n",
      "Phường Hà Huy Tập, Thành Phố Vinh, Tỉnh Nghệ An\n",
      "\n",
      "\n",
      "Đồng Mỹ TP Đồng Hới, Quảng Bình \n",
      "371/371 [==============================] - 0s 1ms/step\n",
      "đồng mỹ, đồng hới, quảng bình\n",
      "Phường Đồng Mỹ, Thành Phố Đồng Hới, Tỉnh Quảng Bình\n",
      "\n",
      "\n",
      "Lê Hồng Phong Nguyễn Trãi, Hà Đông, Hà Nội \n",
      "371/371 [==============================] - 0s 1ms/step\n",
      "ngọc thụy, long biên, hà nội\n",
      "Phường Nguyễn Trãi, Quận Hà Đông, Thành Phố Hà Nội\n",
      "\n",
      "\n",
      "Văn Thành Huyện Yên Thành, Nghệ An \n",
      "371/371 [==============================] - 1s 1ms/step\n",
      "văn thành, yên thành, nghệ an\n",
      "Xã Văn Thành, Huyện Yên Thành, Tỉnh Nghệ An\n",
      "\n",
      "\n",
      "P. Quảng Tiến Thị xã Sầm Sơn, Thanh Hoá \n",
      "371/371 [==============================] - 0s 1ms/step\n",
      "quảng tiến, sầm sơn, thanh hóa\n",
      "Phường Quảng Tiến, Thị Xã Sầm Sơn, Tỉnh Thanh Hoá\n",
      "\n",
      "\n",
      "P507-G1 TT Trường THCSNDD, TXuân Bắc, TXuân, Hà Nội \n",
      "371/371 [==============================] - 1s 1ms/step\n",
      "tân hưng, quận 7, hồ chí minh\n",
      "Phường Thanh Xuân Bắc, Quận Thanh Xuân, Thành Phố Hà Nội\n",
      "\n",
      "\n",
      "Chi Quan 2, Liên Quan Thạch Thất, Hà Nội \n",
      "371/371 [==============================] - 0s 1ms/step\n",
      "trung liệt, đống đa, hà nội\n",
      "Thị Trấn Liên Quan, Huyện Thạch Thất, Thành Phố Hà Nội\n",
      "\n",
      "\n",
      "Khối 4, Vĩnh Ph Điện Điện, Quảng Nam \n",
      "371/371 [==============================] - 0s 1ms/step\n",
      "gia đức, thủy nguyên, hải phòng\n",
      "Phường Vĩnh Điện, Thị Xã Điện Bàn, Tỉnh Quảng Nam\n",
      "\n",
      "\n",
      "57 Sơn Tây Kim Mã, Ba Đình, Hà Nội \n",
      "371/371 [==============================] - 0s 1ms/step\n",
      "tân long, phụng hiệp, hậu giang\n",
      "Phường Kim Mã, Quận Ba Đình, Thành Phố Hà Nội\n",
      "\n",
      "\n",
      "P. Hồng Sơn Thành phố Vinh, Nghệ An \n",
      "371/371 [==============================] - 1s 1ms/step\n",
      "hồng sơn, vinh, nghệ an\n",
      "Phường Hồng Sơn, Thành phố Vinh, Tỉnh Nghệ An\n",
      "\n",
      "\n",
      "Đắc Sơn Phổ Yên-Thái Nguyên \n",
      "371/371 [==============================] - 1s 1ms/step\n",
      "đắc sơn, phổ yên, thái nguyên\n",
      "Phường Đắc Sơn, Thành Phố Phổ Yên, Tỉnh Thái Nguyên\n",
      "\n",
      "\n",
      "Xã Phù Khê Thị xã Từ Sơn, Bắc Ninh \n",
      "371/371 [==============================] - 0s 1ms/step\n",
      "phù khê, từ sơn, bắc ninh\n",
      "Xã Phù Khê, Thị Xã Từ Sơn, Tỉnh Bắc Ninh\n",
      "\n",
      "\n"
     ]
    }
   ],
   "source": [
    "for idx, add in enumerate(addresses[:20]):\n",
    "    print(add)\n",
    "    std_add = std.standardize(add)\n",
    "    std_add = ', '.join([std_add[i] for i in std_add])\n",
    "    print(std_add)\n",
    "    print(groundtruth_addresses[idx])\n",
    "    print('\\n')\n",
    "    gc.collect()"
   ]
  },
  {
   "cell_type": "code",
   "execution_count": 11,
   "metadata": {},
   "outputs": [
    {
     "name": "stdout",
     "output_type": "stream",
     "text": [
      "134 Chùa Bộc Tổ 34 Quang Trung, Đống Đa, Hà Nội \n",
      "371/371 [==============================] - 0s 1ms/step\n",
      "mường khương, mường khương, lào cai\n",
      "mường khương, lào cai\n",
      "thanh đa, phúc thọ, hà nội\n",
      "vạn ninh, khánh hòa\n",
      "diên lạc, diên khánh, khánh hòa\n",
      "Phường Quang Trung, Quận Đống Đa, Thành Phố Hà Nội\n",
      "\n",
      "\n",
      "P. Ấp 3, Xuân Tân Xuân Lộc, Đồng Nai \n",
      "371/371 [==============================] - 0s 1ms/step\n",
      "xuân tân, long khánh, đồng nai\n",
      "xuân trường, xuân lộc, đồng nai\n",
      "bửu long, biên hòa, đồng nai\n",
      "xuân thọ, xuân lộc, đồng nai\n",
      "tân hưng, bàu bàng, bình dương\n",
      "Phường Xuân Tân, Huyện Xuân Lộc, Tỉnh Đồng Nai\n",
      "\n",
      "\n",
      "Phường 5, TP Cà Mau, Cà Mau \n",
      "371/371 [==============================] - 0s 1ms/step\n",
      "phường 5, cà mau, cà mau\n",
      "tam đường, tam đường, lai châu\n",
      "ðại phước, càng long, trà vinh\n",
      "nà tăm, tam đường, lai châu\n",
      "mù sang, phong thổ, lai châu\n",
      "Phường 5, Thành Phố Cà Mau, Tỉnh Cà Mau\n",
      "\n",
      "\n",
      "Thị trấn Quỳ Hợp Huyện Quỳ Hợp, Nghệ An \n",
      "371/371 [==============================] - 0s 1ms/step\n",
      "quỳ hợp, nghệ an\n",
      "yên hợp, quỳ hợp, nghệ an\n",
      "quỳ hợp, quỳ hợp, nghệ an\n",
      "hợp thành, yên thành, nghệ an\n",
      "nậm mười, văn chấn, yên bái\n",
      "Thị Trấn Quỳ Hợp, Huyện Quỳ Hợp, Tỉnh Nghệ An\n",
      "\n",
      "\n",
      "25 Ngõ Hàng Thịt Cửa Nam, Hoàn Kiếm, Hà Nội \n",
      "371/371 [==============================] - 0s 1ms/step\n",
      "định công, hoàng mai, hà nội\n",
      "điền xá, nam trực, nam định\n",
      "điền công, uông bí, quảng ninh\n",
      "giáp bát, hoàng mai, hà nội\n",
      "gia thụy, long biên, hà nội\n",
      "Phường Cửa Nam, Quận Hoàn Kiếm, Thành Phố Hà Nội\n",
      "\n",
      "\n",
      "TDP Số 2, Cổ Nhuế 2 Bắc Từ Liêm, Hà Nội \n",
      "371/371 [==============================] - 0s 1ms/step\n",
      "đất cuốc, tân uyên, bình dương\n",
      "thảo điền, quận 2, hồ chí minh\n",
      "cổ nhuế 2, bắc từ liêm, hà nội\n",
      "đăk lua, tân phú, đồng nai\n",
      "tân dân, phú xuyên, hà nội\n",
      "Phường Cổ Nhuế 2, Quận Bắc Từ Liêm, Thành Phố Hà Nội\n",
      "\n",
      "\n",
      "Thanh Hưng 2 Vĩnh Bình, Hoà Bình, Bạc Liêu \n",
      "371/371 [==============================] - 0s 1ms/step\n",
      "vĩnh phú, thuận an, bình dương\n",
      "phú vinh, tân lạc, hòa bình\n",
      "bình yên, sơn dương, tuyên quang\n",
      "bình hưng hòa, bình tân, hồ chí minh\n",
      "an lạc, bình tân, hồ chí minh\n",
      "Xã Vĩnh Bình, Huyện Hoà Bình, Thành Phố Bạc Liêu\n",
      "\n",
      "\n",
      "9 ngõ 4 Hoàng Hoa Thám Thụy Khuê Tây Hồ, Hà Nội \n",
      "371/371 [==============================] - 0s 1ms/step\n",
      "hưng phú, cái răng, cần thơ\n",
      "sen chiểu, phúc thọ, hà nội\n",
      "cái răng, cần thơ\n",
      "hưng thạnh, cái răng, cần thơ\n",
      "cầu giấy, hà nội\n",
      "Phường Thụy Khuê, Quận Tây Hồ, Thành Phố Hà Nội\n",
      "\n",
      "\n",
      "Khối 10 Hà Huy Tập, TP. Vinh, Nghệ An \n",
      "371/371 [==============================] - 0s 1ms/step\n",
      "vân trục, lập thạch, vĩnh phúc\n",
      "vinh, nghệ an\n",
      "lập thạch, vĩnh phúc\n",
      "vĩnh lộc, chiêm hóa, tuyên quang\n",
      "bàn giản, lập thạch, vĩnh phúc\n",
      "Phường Hà Huy Tập, Thành Phố Vinh, Tỉnh Nghệ An\n",
      "\n",
      "\n",
      "Đồng Mỹ TP Đồng Hới, Quảng Bình \n",
      "371/371 [==============================] - 0s 1ms/step\n",
      "đồng mỹ, đồng hới, quảng bình\n",
      "đồng phú, đồng hới, quảng bình\n",
      "đồng sơn, đồng hới, quảng bình\n",
      "đa lộc, đồng xuân, phú yên\n",
      "tân hưng, đồng phú, bình phước\n",
      "Phường Đồng Mỹ, Thành Phố Đồng Hới, Tỉnh Quảng Bình\n",
      "\n",
      "\n",
      "Lê Hồng Phong Nguyễn Trãi, Hà Đông, Hà Nội \n",
      "371/371 [==============================] - 0s 1ms/step\n",
      "ngọc thụy, long biên, hà nội\n",
      "ngọc lâm, long biên, hà nội\n",
      "hồng lĩnh, hà tĩnh\n",
      "thọ xuân, đan phượng, hà nội\n",
      "gia thụy, long biên, hà nội\n",
      "Phường Nguyễn Trãi, Quận Hà Đông, Thành Phố Hà Nội\n",
      "\n",
      "\n",
      "Văn Thành Huyện Yên Thành, Nghệ An \n",
      "371/371 [==============================] - 0s 1ms/step\n",
      "văn thành, yên thành, nghệ an\n",
      "tân thành, yên thành, nghệ an\n",
      "sơn tịnh, quảng ngãi\n",
      "thị trấn hòn đất, hòn đất, kiên giang\n",
      "thị trấn tân yên, hàm yên, tuyên quang\n",
      "Xã Văn Thành, Huyện Yên Thành, Tỉnh Nghệ An\n",
      "\n",
      "\n",
      "P. Quảng Tiến Thị xã Sầm Sơn, Thanh Hoá \n",
      "371/371 [==============================] - 0s 1ms/step\n",
      "quảng tiến, sầm sơn, thanh hóa\n",
      "tịnh ấn đông, sơn tịnh, quảng ngãi\n",
      "sầm dương, sơn dương, tuyên quang\n",
      "tà long, đăk rông, quảng trị\n",
      "hàm yên, tuyên quang\n",
      "Phường Quảng Tiến, Thị Xã Sầm Sơn, Tỉnh Thanh Hoá\n",
      "\n",
      "\n",
      "P507-G1 TT Trường THCSNDD, TXuân Bắc, TXuân, Hà Nội \n",
      "371/371 [==============================] - 0s 1ms/step\n",
      "tân hưng, quận 7, hồ chí minh\n",
      "tân quy, quận 7, hồ chí minh\n",
      "tân kiểng, quận 7, hồ chí minh\n",
      "tân phong, quận 7, hồ chí minh\n",
      "tân phú, quận 7, hồ chí minh\n",
      "Phường Thanh Xuân Bắc, Huyện Thanh Xuân, Thành Phố Hà Nội\n",
      "\n",
      "\n",
      "Chi Quan 2, Liên Quan Thạch Thất, Hà Nội \n",
      "371/371 [==============================] - 0s 1ms/step\n",
      "trung liệt, đống đa, hà nội\n",
      "liên quan, thạch thất, hà nội\n",
      "cần kiệm, thạch thất, hà nội\n",
      "hạ bằng, thạch thất, hà nội\n",
      "trung tú, ứng hòa, hà nội\n",
      "Thị Trấn Liên Quan, Huyện Thạch Thất, Thành Phố Hà Nội\n",
      "\n",
      "\n",
      "Khối 4, Vĩnh Ph Điện Điện, Quảng Nam \n",
      "371/371 [==============================] - 0s 1ms/step\n",
      "gia đức, thủy nguyên, hải phòng\n",
      "vĩnh điện, điện bàn, quảng nam\n",
      "vũ đông, thái bình, thái bình\n",
      "hải đình, đồng hới, quảng bình\n",
      "gia minh, thủy nguyên, hải phòng\n",
      "Phường Vĩnh Điện, Thị Xã Điện Bàn, Tỉnh Quảng Nam\n",
      "\n",
      "\n",
      "57 Sơn Tây Kim Mã, Ba Đình, Hà Nội \n",
      "371/371 [==============================] - 0s 1ms/step\n",
      "tân long, phụng hiệp, hậu giang\n",
      "phường 7, tân bình, hồ chí minh\n",
      "cẩm đình, phúc thọ, hà nội\n",
      "thọ xuân, đan phượng, hà nội\n",
      "phường 5, tân bình, hồ chí minh\n",
      "Phường Kim Mã, Quận Ba Đình, Thành Phố Hà Nội\n",
      "\n",
      "\n",
      "P. Hồng Sơn Thành phố Vinh, Nghệ An \n",
      "371/371 [==============================] - 0s 1ms/step\n",
      "hồng sơn, vinh, nghệ an\n",
      "kỳ sơn, hòa bình\n",
      "hương sơn, bình xuyên, vĩnh phúc\n",
      "vân mộng, lộc bình, lạng sơn\n",
      "hoa lư, ninh bình\n",
      "Phường Hồng Sơn, Thành phố Vinh, Tỉnh Nghệ An\n",
      "\n",
      "\n",
      "Đắc Sơn Phổ Yên-Thái Nguyên \n",
      "371/371 [==============================] - 0s 1ms/step\n",
      "đắc sơn, phổ yên, thái nguyên\n",
      "thị trấn hưng nguyên, hưng nguyên, nghệ an\n",
      "phú nhuận, huyện cai lậy, tiền giang\n",
      "tịnh hà, sơn tịnh, quảng ngãi\n",
      "bắc sơn, phổ yên, thái nguyên\n",
      "Phường Đắc Sơn, Thành Phố Phổ Yên, Tỉnh Thái Nguyên\n",
      "\n",
      "\n",
      "Xã Phù Khê Thị xã Từ Sơn, Bắc Ninh \n",
      "371/371 [==============================] - 0s 1ms/step\n",
      "phù khê, từ sơn, bắc ninh\n",
      "từ sơn, bắc ninh\n",
      "tương giang, từ sơn, bắc ninh\n",
      "hương mạc, từ sơn, bắc ninh\n",
      "châu khê, từ sơn, bắc ninh\n",
      "Xã Phù Khê, Thị Xã Từ Sơn, Tỉnh Bắc Ninh\n",
      "\n",
      "\n",
      "50/30 Đinh Tiên Eoàng, P1, BT, TP. Hồ Chí Minh \n",
      "371/371 [==============================] - 0s 1ms/step\n",
      "phú thọ hòa, tân phú, hồ chí minh\n",
      "tân thới hòa, tân phú, hồ chí minh\n",
      "phú nhuận, hồ chí minh\n",
      "gạch, phúc thọ, hà nội\n",
      "phú yên, phú xuyên, hà nội\n",
      "Phường 1, Quận Bình Tân, Thành Phố Hồ Chí Minh\n",
      "\n",
      "\n",
      "Tân Thiện Thị xã Lang, Bình Thuận \n",
      "371/371 [==============================] - 0s 1ms/step\n",
      "thuận hòa, long mỹ, hậu giang\n",
      "mãn đức, tân lạc, hòa bình\n",
      "tế tân, nông cống, thanh hóa\n",
      "hàm tân, bình thuận\n",
      "tân thuận, hàm thuận nam, bình thuận\n",
      "Phường Tân Thiện, Thị Xã La Gi, Tỉnh Bình Thuận\n",
      "\n",
      "\n",
      "Kiến Thành Đắk R'Lấp, Đắk Nông \n",
      "371/371 [==============================] - 0s 1ms/step\n",
      "kiến thành, dăk r'lấp, đắk nông\n",
      "kiến đức, dăk r'lấp, đắk nông\n",
      "đắk mil, dăk mil, đắk nông\n",
      "cư jút, đắk nông\n",
      "thành lâm, bá thước, thanh hóa\n",
      "Xã Kiến Thành, Huyện Đắk R'Lấp, Tỉnh Đắk Nông\n",
      "\n",
      "\n",
      "33/8A Hồ Lọc Nước Phường 6, Vũng Tàu, Bà Rịa - Vũng Tàu \n",
      "371/371 [==============================] - 0s 1ms/step\n",
      "thọ thắng, thọ xuân, thanh hóa\n",
      "võng xuyên, phúc thọ, hà nội\n",
      "bình thắng, bù gia mập, bình phước\n",
      "an nhơn tây, củ chi, hồ chí minh\n",
      "xuân thọ, xuân lộc, đồng nai\n",
      "Phường 6, Thành Phố Vũng Tàu, Tỉnh Bà Rịa-Vũng Tàu\n",
      "\n",
      "\n",
      "112 Nguyễn An Ninh, Thành phố Pleiku, Gia Lai \n",
      "371/371 [==============================] - 0s 1ms/step\n",
      "quyết thắng, ninh giang, hải dương\n",
      "nhơn thọ, an nhơn, bình định\n",
      "hạ long, quảng ninh\n",
      "hạ long, nam định, nam định\n",
      "quỳnh lập, hoàng mai, nghệ an\n",
      "Đường Nguyễn An Ninh, Thành phố Pleiku, Tỉnh Gia Lai\n",
      "\n",
      "\n",
      "Khu phố 7 Phường 1, TP Đông Hà, Quảng Trị \n",
      "371/371 [==============================] - 0s 1ms/step\n",
      "tân phú, quận 7, hồ chí minh\n",
      "mỹ tho, tiền giang\n",
      "quảng trị, quảng trị\n",
      "tân hưng, quận 7, hồ chí minh\n",
      "quảng điền, thừa thiên huế\n",
      "Phường 1, Thành Phố Đông Hà, Tỉnh Quảng Trị\n",
      "\n",
      "\n",
      "Thôn Mỹ Hòa Hòa Thắng, Phú Hòa, Phú Yên \n",
      "371/371 [==============================] - 0s 1ms/step\n",
      "hòa thắng, phú hòa, phú yên\n",
      "phú thịnh, tân phú, đồng nai\n",
      "tân thành, hàm thuận nam, bình thuận\n",
      "tân hòa, phú bình, thái nguyên\n",
      "tân thuận, hàm thuận nam, bình thuận\n",
      "Xã Hòa Thắng, Huyện Phú Hòa, Tỉnh Phú Yên\n",
      "\n",
      "\n",
      "Phường Đống Đa Thành phố Pleiku, Gia Lai \n",
      "371/371 [==============================] - 0s 1ms/step\n",
      "gào, plei ku, gia lai\n",
      "chi lăng, plei ku, gia lai\n",
      "đắk pling, kông chro, gia lai\n",
      "đak sơ mei, đăk đoa, gia lai\n",
      "plei ku, gia lai\n",
      "Phường Đống Đa, Thành phố Pleiku, Tỉnh Gia Lai\n",
      "\n",
      "\n",
      "Hội Xương Suối Hiệp, Diên Khánh, Khánh Hoà \n",
      "371/371 [==============================] - 0s 1ms/step\n",
      "suối hiệp, diên khánh, khánh hòa\n",
      "diên lộc, diên khánh, khánh hòa\n",
      "an hòa, huế, thừa thiên huế\n",
      "trùng khánh, gia lộc, hải dương\n",
      "thống nhất, gia lộc, hải dương\n",
      "Xã Suối Hiệp, Huyện Diên Khánh, Tỉnh Khánh Hoà\n",
      "\n",
      "\n",
      "Thanh Khê, Thanh Hà, Hải Dương \n",
      "371/371 [==============================] - 0s 1ms/step\n",
      "thanh khê, thanh hà, hải dương\n",
      "thanh bính, thanh hà, hải dương\n",
      "thanh thủy, thanh hà, hải dương\n",
      "thanh hải, thanh hà, hải dương\n",
      "thanh hà, thanh hà, hải dương\n",
      "Xã Thanh Khê, Huyện Thanh Hà, Tỉnh Hải Dương\n",
      "\n",
      "\n",
      "Tự Nhiên Huyện Thường Tín, Hà Nội \n",
      "371/371 [==============================] - 0s 1ms/step\n",
      "tự nhiên, thường tín, hà nội\n",
      "nhân đạo, dăk r'lấp, đắk nông\n",
      "tân nghĩa, di linh, lâm đồng\n",
      "vĩnh tân, vĩnh linh, quảng trị\n",
      "đức nhân, đức thọ, hà tĩnh\n",
      "Xã Tự Nhiên, Huyện Thường Tín, Thành Phố Hà Nội\n",
      "\n",
      "\n",
      "P.Khu 10 P Thị trấn Chi Nê, Lạc Thủy, Hoà Bình \n",
      "371/371 [==============================] - 0s 1ms/step\n",
      "đồng thịnh, yên lập, phú thọ\n",
      "phú thịnh, tân phú, đồng nai\n",
      "đồng luận, thanh thủy, phú thọ\n",
      "minh lập, đồng hỷ, thái nguyên\n",
      "lương phú, phú bình, thái nguyên\n",
      "Thị Trấn Chi Nê, Huyện Lạc Thủy, Tỉnh Hoà Bình\n",
      "\n",
      "\n",
      "Tp Cáo Đỉnh 4 Xuân Đỉnh, Bắc Từ Lêm, Hà Nội \n",
      "371/371 [==============================] - 0s 1ms/step\n",
      "bắc cường, lào cai, lào cai\n",
      "thanh oai, hà nội\n",
      "thanh thùy, thanh oai, hà nội\n",
      "thượng cát, bắc từ liêm, hà nội\n",
      "tứ liên, tây hồ, hà nội\n",
      "Phường Xuân Đỉnh, Quận Bắc Từ Liêm, Thành Phố Hà Nội\n",
      "\n",
      "\n",
      "Hoằng Đông Hoằng Hoá, Thanh Hoá \n",
      "371/371 [==============================] - 0s 1ms/step\n",
      "hoằng đông, hoằng hóa, thanh hóa\n",
      "đông cương, thanh hóa, thanh hóa\n",
      "thanh hóa, thanh hóa\n",
      "đông khê, đông sơn, thanh hóa\n",
      "đông lĩnh, thanh hóa, thanh hóa\n",
      "Xã Hoằng Đông, Huyện Hoằng Hoá, Tỉnh Thanh Hoá\n",
      "\n",
      "\n",
      "Bình Tân Bắc Bình, Bình Thuận \n",
      "371/371 [==============================] - 0s 1ms/step\n",
      "bình tân, bắc bình, bình thuận\n",
      "bắc bình, bình thuận\n",
      "hồng thái, bắc bình, bình thuận\n",
      "đà bắc, hòa bình\n",
      "bắc bình, lập thạch, vĩnh phúc\n",
      "Xã Bình Tân, Huyện Bắc Bình, Tỉnh Bình Thuận\n",
      "\n",
      "\n",
      "Huyện Lang Chánh, Thanh Hoá \n",
      "371/371 [==============================] - 0s 1ms/step\n",
      "lang chánh, thanh hóa\n",
      "dũng liệt, yên phong, bắc ninh\n",
      "hải vĩnh, hải lăng, quảng trị\n",
      "thanh nhật, hạ lang, cao bằng\n",
      "điền xá, tiên yên, quảng ninh\n",
      "Huyện Lang Chánh, Tỉnh Thanh Hoá\n",
      "\n",
      "\n",
      "Ia Hok, Ia Grai, Gia Lai \n",
      "371/371 [==============================] - 0s 1ms/step\n",
      "ia tô, ia grai, gia lai\n",
      "ia ko, chư sê, gia lai\n",
      "ia yok, ia grai, gia lai\n",
      "ia phìn, chưprông, gia lai\n",
      "ia pa, gia lai\n",
      "Xã Ia Hok, Huyện Ia Grai, Tỉnh Gia Lai\n",
      "\n",
      "\n",
      "478 Bình Long P. Tân Quý, Q. Tân Phú, TP. Hồ Chí Minh. \n",
      "371/371 [==============================] - 0s 1ms/step\n",
      "bình hưng hòa, bình tân, hồ chí minh\n",
      "ân thạnh, hoài ân, bình định\n",
      "bình thuận, quận 7, hồ chí minh\n",
      "ân đức, hoài ân, bình định\n",
      "phú thạnh, tân phú, hồ chí minh\n",
      "Phường Tân Quý, Quận Tân Phú, Thành Phố Hồ Chí Minh\n",
      "\n",
      "\n",
      "Phước An Krông Pắc, Đăk Lăk \n",
      "371/371 [==============================] - 0s 1ms/step\n",
      "phước an, krông pắc, đắk lắk\n",
      "lộc ninh, bình phước\n",
      "phước an, nhơn trạch, đồng nai\n",
      "lộc an, lộc ninh, bình phước\n",
      "krông pắc, đắk lắk\n",
      "Thị Trấn Phước An, Huyện Krông Pắc, Tỉnh Đắk Lắk\n",
      "\n",
      "\n",
      "Tổ 37 Thanh Khê Tây Tây, Thanh Khê, Đà Nẫng \n",
      "371/371 [==============================] - 0s 1ms/step\n",
      "lục nam, lục nam, bắc giang\n",
      "nam phong, nam định, nam định\n",
      "tân lập, hàm thuận nam, bình thuận\n",
      "dĩnh kế, bắc giang, bắc giang\n",
      "tân thuận, hàm thuận nam, bình thuận\n",
      "Phường Thanh Khê Tây, Quận Thanh Khê, Thành Phố Đà Nẵng\n",
      "\n",
      "\n",
      "Ngọc Giang Xã Tam Đồn, Phú Ninh, Quảng Nam \n",
      "371/371 [==============================] - 0s 1ms/step\n",
      "chơ chun, nam giang, quảng nam\n",
      "tam lộc, phú ninh, quảng nam\n",
      "cẩm đàn, sơn động, bắc giang\n",
      "lục sơn, lục nam, bắc giang\n",
      "cương sơn, lục nam, bắc giang\n",
      "Xã Tam Dân, Huyện Phú Ninh, Tỉnh Quảng Nam\n",
      "\n",
      "\n",
      "243, Hưng Thạnh Hưng Lộc, Thống Nhất, Đồng Nai \n",
      "371/371 [==============================] - 0s 1ms/step\n",
      "bình lợi, vĩnh cửu, đồng nai\n",
      "khánh hòa, lục yên, yên bái\n",
      "phú thịnh, tân phú, đồng nai\n",
      "phú hội, nhơn trạch, đồng nai\n",
      "tân hưng, cái nước, cà mau\n",
      "Xã Hưng Lộc, Huyện Thống Nhất, Tỉnh Đồng Nai\n",
      "\n",
      "\n",
      "Yên Hưng, Quảng Ninh \n",
      "371/371 [==============================] - 0s 1ms/step\n",
      "quảng yên, quảng ninh\n",
      "bình dương, đông triều, quảng ninh\n",
      "duy ninh, quảng ninh, quảng bình\n",
      "quảng yên, quảng yên, quảng ninh\n",
      "tuần châu, hạ long, quảng ninh\n",
      "Huyện Yên Hưng, Tỉnh Quảng Ninh\n",
      "\n",
      "\n",
      "Hải Hà 2, Long Hải Long Điền, Bà Rịa - Vũng Tàu \n",
      "371/371 [==============================] - 0s 1ms/step\n",
      "long hải, long điền, bà rịa vũng tàu\n",
      "việt hưng, long biên, hà nội\n",
      "minh long, quảng ngãi\n",
      "long điền, bà rịa vũng tàu\n",
      "long hiệp, minh long, quảng ngãi\n",
      "Thị Trấn Long Hải, Huyện Long Điền, Tỉnh Bà Rịa-Vũng Tàu\n",
      "\n",
      "\n",
      "Cam Quan Cẩm xuyên Hà tĩnh \n",
      "371/371 [==============================] - 0s 1ms/step\n",
      "cẩm quan, cẩm xuyên, hà tĩnh\n",
      "cẩm hưng, cẩm xuyên, hà tĩnh\n",
      "cẩm quang, cẩm xuyên, hà tĩnh\n",
      "cẩm yên, cẩm xuyên, hà tĩnh\n",
      "cẩm thành, cẩm xuyên, hà tĩnh\n",
      "Xã Cẩm Quan, Huyện Cẩm Xuyên, Tỉnh Hà Tĩnh\n",
      "\n",
      "\n",
      "Hà Thôn Tiền lệ Tiền Yên, Hoài Đức, TP. Hà Nội \n",
      "371/371 [==============================] - 0s 1ms/step\n",
      "đa tốn, gia lâm, hà nội\n",
      "tiền yên, hoài đức, hà nội\n",
      "hương thủy, thừa thiên huế\n",
      "an nhơn tây, củ chi, hồ chí minh\n",
      "hương sơn, thái nguyên, thái nguyên\n",
      "Xã Tiền Yên, Huyện Hoài Đức, Thành Phố Hà Nội\n",
      "\n",
      "\n",
      "M'Đăk M'Đrăk, Đăk lăk \n",
      "371/371 [==============================] - 0s 1ms/step\n",
      "nậm có, mù cang chải, yên bái\n",
      "m'đrăk, đắk lắk\n",
      "đăk mar, đăk hà, kon tum\n",
      "cư m'ta, m'đrăk, đắk lắk\n",
      "mai sơn, lục yên, yên bái\n",
      "Thị Trấn M'Đăk, Huyện M'Đrắk, Tỉnh Đắk Lắk\n",
      "\n",
      "\n",
      "437 Hàn Hải Nguyên, P1 Quận 11, TP. Hồ Chí Minh \n",
      "371/371 [==============================] - 0s 1ms/step\n",
      "bình thuận, quận 7, hồ chí minh\n",
      "tân phong, quận 7, hồ chí minh\n",
      "thịnh liệt, hoàng mai, hà nội\n",
      "dương xá, gia lâm, hà nội\n",
      "quang lãng, phú xuyên, hà nội\n",
      "Phường 1, Quận 11, Thành Phố Hồ Chí Minh\n",
      "\n",
      "\n",
      "Xã Hưng Lộc Huyện Hậu Lộc, Thanh Hoá \n",
      "371/371 [==============================] - 0s 1ms/step\n",
      "quảng tín, dăk r'lấp, đắk nông\n",
      "hoằng khánh, hoằng hóa, thanh hóa\n",
      "hoằng thanh, hoằng hóa, thanh hóa\n",
      "diên an, diên khánh, khánh hòa\n",
      "diên điền, diên khánh, khánh hòa\n",
      "Xã Hưng Lộc, Huyện Hậu Lộc, Tỉnh Thanh Hoá\n",
      "\n",
      "\n",
      "đạ ròn Đơn Dương, Lâm Đồng \n",
      "371/371 [==============================] - 0s 1ms/step\n",
      "đạ ròn, đơn dương, lâm đồng\n",
      "đơn dương, lâm đồng\n",
      "p'róh, đơn dương, lâm đồng\n",
      "d'ran, đơn dương, lâm đồng\n",
      "lạc lâm, đơn dương, lâm đồng\n",
      "Xã Đạ Ròn, Huyện Đơn Dương, Tỉnh Lâm Đồng\n",
      "\n",
      "\n",
      "Xã Ia Krế Huyện Đức Cơ, Gia Lai \n",
      "371/371 [==============================] - 0s 1ms/step\n",
      "ia púch, chưprông, gia lai\n",
      "ia o, chưprông, gia lai\n",
      "ia hrú, chư pưh, gia lai\n",
      "ia tôr, chưprông, gia lai\n",
      "ia glai, chư sê, gia lai\n",
      "Xã Ia Krế, Huyện Đức Cơ, Tỉnh Gia Lai\n",
      "\n",
      "\n",
      "320 Ngõ 318 Bạch Mai, Hai Bà Trưng, Hà Nội \n",
      "371/371 [==============================] - 0s 1ms/step\n",
      "tân đông hiệp, dĩ an, bình dương\n",
      "nhà bàng, tịnh biên, an giang\n",
      "dĩnh trì, bắc giang, bắc giang\n",
      "vĩnh phúc, ba đình, hà nội\n",
      "tam hiệp, yên thế, bắc giang\n",
      "Phường Bạch Mai, Quận Hai Bà Trưng, Thành Phố Hà Nội\n",
      "\n",
      "\n",
      "Tu Tra Đơn Dương, Lâm Đồng \n",
      "371/371 [==============================] - 0s 1ms/step\n",
      "tu tra, đơn dương, lâm đồng\n",
      "lạc dương, lâm đồng\n",
      "lạc dương, lạc dương, lâm đồng\n",
      "đạ nhim, lạc dương, lâm đồng\n",
      "lạc lâm, đơn dương, lâm đồng\n",
      "Xã Tu Tra, Huyện Đơn Dương, Tỉnh Lâm Đồng\n",
      "\n",
      "\n",
      "Thị 2 Chợ Mới, Chợ Mới, An Giang. \n",
      "371/371 [==============================] - 0s 1ms/step\n",
      "chợ mới, chợ mới, an giang\n",
      "chợ mới, an giang\n",
      "nhơn mỹ, chợ mới, an giang\n",
      "mỹ luông, chợ mới, an giang\n",
      "mỹ hiệp, chợ mới, an giang\n",
      "Thị Trấn Chợ Mới, Huyện Chợ Mới, Tỉnh An Giang\n",
      "\n",
      "\n",
      "Thanh Nguyên B Mỹ Chánh, Châu Thành, Trà Vinh \n",
      "371/371 [==============================] - 0s 1ms/step\n",
      "an lạc, bình tân, hồ chí minh\n",
      "an lạc a, bình tân, hồ chí minh\n",
      "bình phú, càng long, trà vinh\n",
      "hương sơn, bình xuyên, vĩnh phúc\n",
      "yên thái, văn yên, yên bái\n",
      "Xã Mỹ Chánh, Huyện Châu Thành, Tỉnh Trà Vinh\n",
      "\n",
      "\n",
      "Cam Phúc Nam, Cam Ranh, Khánh Hoà \n",
      "371/371 [==============================] - 0s 1ms/step\n",
      "cam phúc nam, cam ranh, khánh hòa\n",
      "cam phú, cam ranh, khánh hòa\n",
      "cam phúc bắc, cam ranh, khánh hòa\n",
      "cam ranh, khánh hòa\n",
      "cam lộc, cam ranh, khánh hòa\n",
      "Phường Cam Phúc Nam, Huyện Cam Ranh, Tỉnh Khánh Hoà\n",
      "\n",
      "\n",
      "Phú Lộc Phù Ninh-Phú Thọ \n",
      "371/371 [==============================] - 0s 1ms/step\n",
      "phú lộc, phù ninh, phú thọ\n",
      "phú thọ, phú thọ\n",
      "phú khê, cẩm khê, phú thọ\n",
      "phú lạc, cẩm khê, phú thọ\n",
      "lộc thịnh, lộc ninh, bình phước\n",
      "Xã Phú Lộc, Huyện Phù Ninh, Tỉnh Phú Thọ\n",
      "\n",
      "\n",
      "Tổ 40, Vĩnh Trung, quận Thanh Khê, T/phố Đà Nẵng \n",
      "371/371 [==============================] - 0s 1ms/step\n",
      "vĩnh trung, thanh khê, đà nẵng\n",
      "cẩm nhượng, cẩm xuyên, hà tĩnh\n",
      "bàn giản, lập thạch, vĩnh phúc\n",
      "vân trục, lập thạch, vĩnh phúc\n",
      "phường 15, tân bình, hồ chí minh\n",
      "Phường Vĩnh Trung, Quận Thanh Khê, Thành phố Đà Nẵng\n",
      "\n",
      "\n",
      "Tổ 14 Sài Đồng, Long Biên, Hà Nội \n",
      "371/371 [==============================] - 0s 1ms/step\n",
      "hoà chính, chương mỹ, hà nội\n",
      "chương mỹ, hà nội\n",
      "đồng tâm, mỹ đức, hà nội\n",
      "đồng ích, lập thạch, vĩnh phúc\n",
      "long phú, sóc trăng\n",
      "Phường Sài Đồng, Quận Long Biên, Thành Phố Hà Nội\n",
      "\n",
      "\n",
      "51A Ngách 281/89 Trần Khát Châu Thanh Nhàn, Hai Bà Trưng, Hà Nội \n",
      "371/371 [==============================] - 0s 1ms/step\n",
      "bình minh, thanh oai, hà nội\n",
      "thạch bàn, long biên, hà nội\n",
      "tân châu, di linh, lâm đồng\n",
      "tân lược, bình tân, vĩnh long\n",
      "minh tân, kiến thụy, hải phòng\n",
      "Phường Thanh Nhàn, Quận Hai Bà Trưng, Thành Phố Hà Nội\n",
      "\n",
      "\n",
      "Tràng sơn Đô Lương, Nghệ An \n",
      "371/371 [==============================] - 0s 1ms/step\n",
      "tràng sơn, đô lương, nghệ an\n",
      "trù sơn, đô lương, nghệ an\n",
      "bài sơn, đô lương, nghệ an\n",
      "bồi sơn, đô lương, nghệ an\n",
      "lạc sơn, đô lương, nghệ an\n",
      "Xã Tràng Sơn, Huyện Đô Lương, Tỉnh Nghệ An\n",
      "\n",
      "\n",
      "Phường Đồng Mỹ TP. Đồng Hới, Quảng Bình \n",
      "371/371 [==============================] - 0s 1ms/step\n",
      "đồng mỹ, đồng hới, quảng bình\n",
      "nam đồng, đống đa, hà nội\n",
      "ka đô, đơn dương, lâm đồng\n",
      "tiền phong, đà bắc, hòa bình\n",
      "đồng phú, đồng hới, quảng bình\n",
      "Phường Đồng Mỹ, Thành Phố Đồng Hới, Tỉnh Quảng Bình\n",
      "\n",
      "\n",
      "Xuân Lộc P. Tân Xuân, TX. Đồng Xoài, Bình Phước \n",
      "371/371 [==============================] - 0s 1ms/step\n",
      "tân xuân, đồng xoài, bình phước\n",
      "xuân lộc, đồng nai\n",
      "phú xuân, nhà bè, hồ chí minh\n",
      "xuân thọ, xuân lộc, đồng nai\n",
      "tân đồng, đồng xoài, bình phước\n",
      "Phường Tân Xuân, Thị Xã Đồng Xoài, Tỉnh Bình Phước\n",
      "\n",
      "\n",
      "Ấp An Hòa, An Thạnh, Mỏ Cày Nam, Bến Tre \n",
      "371/371 [==============================] - 0s 1ms/step\n",
      "an thạnh, mỏ cày nam, bến tre\n",
      "an nhơn, đạ tẻh, lâm đồng\n",
      "lộc an, nam định, nam định\n",
      "an quy, thạnh phú, bến tre\n",
      "lộc an, bảo lâm, lâm đồng\n",
      "Xã An Thạnh, Huyện Mỏ Cày Nam, Tỉnh Bến Tre\n",
      "\n",
      "\n",
      "Mỹ Thọ, Mỹ Quý, Long Xuyên, An Giang \n",
      "371/371 [==============================] - 0s 1ms/step\n",
      "long mỹ, long mỹ, hậu giang\n",
      "mỹ long, long xuyên, an giang\n",
      "mỹ quý, long xuyên, an giang\n",
      "mỹ thạnh, long xuyên, an giang\n",
      "long mỹ, hậu giang\n",
      "Phường Mỹ Quý, Thành Phố Long Xuyên, Tỉnh An Giang\n",
      "\n",
      "\n",
      "Nghĩa Tân, Gia Nghĩa, Đăk Nông \n",
      "371/371 [==============================] - 0s 1ms/step\n",
      "nghĩa tân, gia nghĩa, đắk nông\n",
      "nghĩa trung, gia nghĩa, đắk nông\n",
      "niệm nghĩa, lê chân, hải phòng\n",
      "nghĩa hòa, chư păh, gia lai\n",
      "nghĩa thành, gia nghĩa, đắk nông\n",
      "Phường Nghĩa Tân, Thành Phố Gia Nghĩa, Tỉnh Đăk Nông\n",
      "\n",
      "\n",
      "Kim Đính Kim Thành, Hải Dương \n",
      "371/371 [==============================] - 0s 1ms/step\n",
      "kim đính, kim thành, hải dương\n",
      "kim khê, kim thành, hải dương\n",
      "kim xuyên, kim thành, hải dương\n",
      "kim thành, hải dương\n",
      "kim lương, kim thành, hải dương\n",
      "Xã Kim Đính, Huyện Kim Thành, Tỉnh Hải Dương\n",
      "\n",
      "\n",
      "35 đường 762 Hồng Bàng, P1, Q11, TP. Hồ Chí Minh \n",
      "371/371 [==============================] - 0s 1ms/step\n",
      "bình thuận, quận 7, hồ chí minh\n",
      "bình chánh, bình chánh, hồ chí minh\n",
      "bình hưng, bình chánh, hồ chí minh\n",
      "hưng long, bình chánh, hồ chí minh\n",
      "phường 7, bình thạnh, hồ chí minh\n",
      "Phường 1, Quận 11, Thành Phố Hồ Chí Minh\n",
      "\n",
      "\n",
      "KP Bình Thuận 2 P. Thuận Giao, TX. Thuận An, Bình Dương \n",
      "371/371 [==============================] - 0s 1ms/step\n",
      "thuận giao, thuận an, bình dương\n",
      "hàm phú, hàm thuận bắc, bình thuận\n",
      "chí công, tuy phong, bình thuận\n",
      "phúc thuận, phổ yên, thái nguyên\n",
      "hàm thuận bắc, bình thuận\n",
      "Phường Thuận Giao, Thị Xã Thuận An, Tỉnh Bình Dương\n",
      "\n",
      "\n",
      "Tân Thuỷ Bàu Sen, TX Long Khánh, Đồng Nai \n",
      "371/371 [==============================] - 0s 1ms/step\n",
      "bàu sen, long khánh, đồng nai\n",
      "cổ linh, pác nặm, bắc kạn\n",
      "bàu trâm, long khánh, đồng nai\n",
      "tân phước khánh, tân uyên, bình dương\n",
      "đức long, quế võ, bắc ninh\n",
      "Phường Bàu Sen, Thị Xã Long Khánh, Tỉnh Đồng Nai\n",
      "\n",
      "\n",
      "Xã Cẩm Liên Huyện Cẩm Thuỷ, Thanh Hoá \n",
      "371/371 [==============================] - 0s 1ms/step\n",
      "cẩm liên, cẩm thủy, thanh hóa\n",
      "tân hiệp, thạnh hóa, long an\n",
      "kim liên, đống đa, hà nội\n",
      "dũng liệt, yên phong, bắc ninh\n",
      "ba đình, bỉm sơn, thanh hóa\n",
      "Xã Cẩm Liên, Huyện Cẩm Thuỷ, Tỉnh Thanh Hoá\n",
      "\n",
      "\n",
      "Thôn Đông 3 Diên Điền, Diên Khánh, Khánh Hoà \n",
      "371/371 [==============================] - 0s 1ms/step\n",
      "diên hòa, diên khánh, khánh hòa\n",
      "diên điền, diên khánh, khánh hòa\n",
      "diên khánh, khánh hòa\n",
      "diên khánh, diên khánh, khánh hòa\n",
      "diên phú, diên khánh, khánh hòa\n",
      "Xã Diên Điền, Huyện Diên Khánh, Tỉnh Khánh Hoà\n",
      "\n",
      "\n",
      "Xã Minh Dân Huyện Triệu Sơn, Thanh Hoá \n",
      "371/371 [==============================] - 0s 1ms/step\n",
      "minh dân, triệu sơn, thanh hóa\n",
      "triệu thành, triệu sơn, thanh hóa\n",
      "thái hoà, triệu sơn, thanh hóa\n",
      "dân lực, triệu sơn, thanh hóa\n",
      "linh sơn, đồng hỷ, thái nguyên\n",
      "Xã Minh Dân, Huyện Triệu Sơn, Tỉnh Thanh Hoá\n",
      "\n",
      "\n",
      "474/36 Hậu Giang, Phường 12 Quận 6, TP. Hồ Chí Minh \n",
      "371/371 [==============================] - 0s 1ms/step\n",
      "bình thuận, quận 7, hồ chí minh\n",
      "phường 12, quận 6, hồ chí minh\n",
      "chí tân, khoái châu, hưng yên\n",
      "bình hưng hòa, bình tân, hồ chí minh\n",
      "phú thạnh, tân phú, hồ chí minh\n",
      "Phường 12, Quận 6, Thành Phố Hồ Chí Minh\n",
      "\n",
      "\n",
      "Thôn 5, Thiệu Lý Thiệu Hóa, Thanh Hóa \n",
      "371/371 [==============================] - 0s 1ms/step\n",
      "thiệu lý, thiệu hóa, thanh hóa\n",
      "thiệu vũ, thiệu hóa, thanh hóa\n",
      "thiệu giang, thiệu hóa, thanh hóa\n",
      "thiệu phú, thiệu hóa, thanh hóa\n",
      "thiệu minh, thiệu hóa, thanh hóa\n",
      "Xã Thiệu Lý, Huyện Thiệu Hóa, Tỉnh Thanh Hóa\n",
      "\n",
      "\n",
      "Cầu Bương Tả Thanh Oai, Thanh Trì, Hà Nội \n",
      "371/371 [==============================] - 0s 1ms/step\n",
      "ba láng, cái răng, cần thơ\n",
      "canh nậu, thạch thất, hà nội\n",
      "long phúc, bảo yên, lào cai\n",
      "võng xuyên, phúc thọ, hà nội\n",
      "hưng thạnh, cái răng, cần thơ\n",
      "Xã Tả Thanh Oai, Huyện Thanh Trì, Thành Phố Hà Nội\n",
      "\n",
      "\n",
      "Ấp 6B An Khánh, Châu Thành, Bến Tre \n",
      "371/371 [==============================] - 0s 1ms/step\n",
      "vĩnh lộc b, bình chánh, hồ chí minh\n",
      "mỹ thọ, bình lục, hà nam\n",
      "văn phú, nho quan, ninh bình\n",
      "xuân thắng, thới lai, cần thơ\n",
      "bát trang, an lão, hải phòng\n",
      "Xã An Khánh, Huyện Châu Thành, Tỉnh Bến Tre\n",
      "\n",
      "\n",
      "15.09 T16 HQ4 C/c HQC PlaRa ấp 3, An Phú Tây, BC, TP.HCM \n",
      "371/371 [==============================] - 0s 1ms/step\n",
      "linh xuân, thủ đức, hồ chí minh\n",
      "phú xuân, nhà bè, hồ chí minh\n",
      "tân phú, hồ chí minh\n",
      "phường 14, quận 3, hồ chí minh\n",
      "an phú tây, bình chánh, hồ chí minh\n",
      "Xã An Phú Tây, Huyện Bình Chánh, Thành Phố Hồ Chí Minh\n",
      "\n",
      "\n",
      "Xóm Mới Nai ĐKHK thường trung P.Ninh Tây, TX.Ninh Hoà, Khánh Hoà \n",
      "371/371 [==============================] - 0s 1ms/step\n",
      "tân nhựt, bình chánh, hồ chí minh\n",
      "quy nhơn, bình định\n",
      "yên tân, ý yên, nam định\n",
      "tân lập, lục yên, yên bái\n",
      "tân hòa, bình gia, lạng sơn\n",
      "Phường Ninh Tây, Thị Xã Ninh Hoà, Tỉnh Khánh Hoà\n",
      "\n",
      "\n",
      "Thôn 8A Quế Phú, Quế Sơn, Quảng Nam \n",
      "371/371 [==============================] - 0s 1ms/step\n",
      "quảng tân, quảng trạch, quảng bình\n",
      "châu pha, tân thành, bà rịa vũng tàu\n",
      "bình minh, bình sơn, quảng ngãi\n",
      "minh châu, vân đồn, quảng ninh\n",
      "an xuân, tam kỳ, quảng nam\n",
      "Xã Quế Phú, Huyện Quế Sơn, Tỉnh Quảng Nam\n",
      "\n",
      "\n",
      "910 Tầng 9 CT2 CC Skylight 125D Minh Khai, Minh Khai, HBT, HN \n",
      "371/371 [==============================] - 0s 1ms/step\n",
      "phú hữu, quận 9, hồ chí minh\n",
      "an linh, phú giáo, bình dương\n",
      "nhuận đức, củ chi, hồ chí minh\n",
      "hồng lạc, sơn dương, tuyên quang\n",
      "bình thuận, quận 7, hồ chí minh\n",
      "Phường Minh Khai, Quận Hai Bà Trưng, Thành Phố Hà Nội\n",
      "\n",
      "\n",
      "Độc Lập, Hưng Hà, Thái Bình \n",
      "371/371 [==============================] - 0s 1ms/step\n",
      "độc lập, hưng hà, thái bình\n",
      "dân tiến, khoái châu, hưng yên\n",
      "thị trấn hưng nhân, hưng hà, thái bình\n",
      "đông hà, quảng trị\n",
      "đông đô, hưng hà, thái bình\n",
      "Xã Độc Lập, Huyện Hưng Hà, Tỉnh Thái Bình\n",
      "\n",
      "\n",
      "162-47A Phan- P.3, PN, TP. Hồ Chí Minh Đăng Dưu \n",
      "371/371 [==============================] - 0s 1ms/step\n",
      "bình chánh, bình chánh, hồ chí minh\n",
      "bình hưng, bình chánh, hồ chí minh\n",
      "tân túc, bình chánh, hồ chí minh\n",
      "phong phú, bình chánh, hồ chí minh\n",
      "bình thuận, quận 7, hồ chí minh\n",
      "Phường 3, Quận Phú Nhuận, Thành Phố Hồ Chí Minh\n",
      "\n",
      "\n",
      "Tân Quý Vụ Bồn, Krông Păc, Đăk Lăk \n",
      "371/371 [==============================] - 1s 1ms/step\n",
      "tân quan, hớn quản, bình phước\n",
      "trảng bàng, trảng bàng, tây ninh\n",
      "tân bửu, bến lức, long an\n",
      "tân hiệp, hớn quản, bình phước\n",
      "tân trạch, bố trạch, quảng bình\n",
      "Xã Vụ Bổn, Huyện Krông Pắc, Tỉnh Đắk Lắk\n",
      "\n",
      "\n",
      "Thôn 13 Xã Lộc Ngãi, Bảo Lâm, Lâm Đồng \n",
      "371/371 [==============================] - 0s 1ms/step\n",
      "lộc lâm, bảo lâm, lâm đồng\n",
      "hạ long, nam định, nam định\n",
      "kiến an, hải phòng\n",
      "lâm thao, lâm thao, phú thọ\n",
      "bảo lâm, lâm đồng\n",
      "Xã Lộc Ngãi, Huyện Bảo Lâm, Tỉnh Lâm Đồng\n",
      "\n",
      "\n",
      "Số 33 An Thành Yên Phụ, Tây Hồ, Hà Nội \n",
      "371/371 [==============================] - 0s 1ms/step\n",
      "tiên dược, sóc sơn, hà nội\n",
      "phú cường, sóc sơn, hà nội\n",
      "an nhơn tây, củ chi, hồ chí minh\n",
      "thượng quan, ngân sơn, bắc kạn\n",
      "an thượng, hoài đức, hà nội\n",
      "Phường Yên Phụ, Quận Tây Hồ, Thành Phố Hà Nội\n",
      "\n",
      "\n",
      "K8 Bằng Lũng, Tiên Phong Ba Vì, Hà Nội \n",
      "371/371 [==============================] - 0s 1ms/step\n",
      "đất mũi, ngọc hiển, cà mau\n",
      "cầu giấy, hà nội\n",
      "bạch hạ, phú xuyên, hà nội\n",
      "thuần mỹ, ba vì, hà nội\n",
      "tứ hiệp, thanh trì, hà nội\n",
      "Xã Tiên Phong, Huyện Ba Vì, Thành Phố Hà Nội\n",
      "\n",
      "\n",
      "8D/229 Điện Biên Phú 8D-229 Điện Biên Phú Thành phố Hải Dương, Hải Dương \n",
      "371/371 [==============================] - 0s 1ms/step\n",
      "vĩnh hưng, hoàng mai, hà nội\n",
      "ý yên, nam định\n",
      "dương nội, hà đông, hà nội\n",
      "yên dương, ý yên, nam định\n",
      "lộc vượng, nam định, nam định\n",
      "Đường Điện Biên Phủ, Thành Phố Hải Dương, Tỉnh Hải Dương\n",
      "\n",
      "\n",
      "313 Tầng 3 Số 1 Lê Phụng Hiếu, Hoàn Kiếm, Hà Nội \n",
      "371/371 [==============================] - 0s 1ms/step\n",
      "trần phú, hoàng mai, hà nội\n",
      "hoàng long, phú xuyên, hà nội\n",
      "nam triều, phú xuyên, hà nội\n",
      "thanh trì, hoàng mai, hà nội\n",
      "tân hưng, cái bè, tiền giang\n",
      "Quận Hoàn Kiếm, Thành Phố Hà Nội\n",
      "\n",
      "\n",
      "Xã IaKty Huyện Chư Prông, Gia Lai \n",
      "371/371 [==============================] - 0s 1ms/step\n",
      "an khê, gia lai\n",
      "ia pết, đăk đoa, gia lai\n",
      "ia tôr, chưprông, gia lai\n",
      "ia púch, chưprông, gia lai\n",
      "ia o, chưprông, gia lai\n",
      "Xã IaKty, Huyện Chư Prông, Tỉnh Gia Lai\n",
      "\n",
      "\n",
      "Lộc Đại Quế Hiệp, Quế Sơn, Quảng Nam \n",
      "371/371 [==============================] - 0s 1ms/step\n",
      "đại sơn, đại lộc, quảng nam\n",
      "láng lớn, châu đức, bà rịa vũng tàu\n",
      "phú thọ, quế sơn, quảng nam\n",
      "quế phú, quế sơn, quảng nam\n",
      "quế phước, nông sơn, quảng nam\n",
      "Xã Quế Hiệp, Huyện Quế Sơn, Tỉnh Quảng Nam\n",
      "\n",
      "\n",
      "Xã Triệu Thành Huyện Triệu Sơn, Thanh Hoá \n",
      "371/371 [==============================] - 0s 1ms/step\n",
      "triệu thành, triệu sơn, thanh hóa\n",
      "thái hoà, triệu sơn, thanh hóa\n",
      "triệu sơn, thanh hóa\n",
      "triệu sơn, triệu sơn, thanh hóa\n",
      "hợp thành, triệu sơn, thanh hóa\n",
      "Xã Triệu Thành, Huyện Triệu Sơn, Tỉnh Thanh Hoá\n",
      "\n",
      "\n",
      "244/1/6A Nguyễn Hưu Cảnh, P.Thắng Nhất, V.Tàu, Bà Rịa - V.Tàu \n",
      "371/371 [==============================] - 0s 1ms/step\n",
      "thắng nhất, vũng tàu, bà rịa vũng tàu\n",
      "thắng nhì, vũng tàu, bà rịa vũng tàu\n",
      "thắng hải, hàm tân, bình thuận\n",
      "phú tân, cà mau\n",
      "định công, hoàng mai, hà nội\n",
      "Phường Thắng Nhất, Thành Phố Vũng Tàu, Tỉnh Bà Rịa-Vũng Tàu\n",
      "\n",
      "\n",
      "TDP 13 Ea Drăng, Ea H'eo, Đắk Lắk \n",
      "371/371 [==============================] - 0s 1ms/step\n",
      "mang thít, vĩnh long\n",
      "tử du, lập thạch, vĩnh phúc\n",
      "văn luông, tân sơn, phú thọ\n",
      "thủ đức, hồ chí minh\n",
      "tam dương, vĩnh phúc\n",
      "Thị Trấn Ea Drăng, Huyện Ea H'eo, Tỉnh Đắk Lắk\n",
      "\n",
      "\n",
      "thôn Đồng Lạc 2 Đinh Lạc, Huyện Di Linh, Lâm Đồng \n",
      "371/371 [==============================] - 0s 1ms/step\n",
      "sơn điền, di linh, lâm đồng\n",
      "lâm hà, lâm đồng\n",
      "tân lâm, di linh, lâm đồng\n",
      "gia nghĩa, đắk nông\n",
      "hòa bình, thường tín, hà nội\n",
      "Xã Đinh Lạc, Huyện Di Linh, Tỉnh Lâm Đồng\n",
      "\n",
      "\n",
      "8/18 Đinh Tiên Hoàng, P. ĐaKao, Q1, TP. Hồ Chí Minh Minh \n",
      "371/371 [==============================] - 0s 1ms/step\n",
      "bình thuận, quận 7, hồ chí minh\n",
      "tân quy, quận 7, hồ chí minh\n",
      "phạm văn hai, bình chánh, hồ chí minh\n",
      "tân phong, quận 7, hồ chí minh\n",
      "an lạc, bình tân, hồ chí minh\n",
      "Phường ĐaKao, Quận 1 Thành Phố Hồ Chí Minh\n",
      "\n",
      "\n",
      "45 Y-Ân, Buôn Ma Thuột, Đăk lăk \n",
      "371/371 [==============================] - 0s 1ms/step\n",
      "đắk nuê, lăk, đắk lắk\n",
      "phúc trạch, bố trạch, quảng bình\n",
      "phúc do, cẩm thủy, thanh hóa\n",
      "dăk glong, đắk nông\n",
      "đak pơ, đăk pơ, gia lai\n",
      "Thành Phố Buôn Ma Thuột, Tỉnh Đắk Lắk\n",
      "\n",
      "\n",
      "Xã Thiệu Duy Huyện Thiệu Hoá, Thanh Hoá \n",
      "371/371 [==============================] - 0s 1ms/step\n",
      "thiệu duy, thiệu hóa, thanh hóa\n",
      "thiệu hóa, thanh hóa\n",
      "thiệu đô, thiệu hóa, thanh hóa\n",
      "thiệu vận, thiệu hóa, thanh hóa\n",
      "thiệu giang, thiệu hóa, thanh hóa\n",
      "Xã Thiệu Duy, Huyện Thiệu Hoá, Tỉnh Thanh Hoá\n",
      "\n",
      "\n",
      "11A-78 Hoàng Như Tiếp, Long Biên, Hà Nội \n",
      "371/371 [==============================] - 0s 1ms/step\n",
      "yên thường, gia lâm, hà nội\n",
      "yên viên, gia lâm, hà nội\n",
      "tân lược, bình tân, vĩnh long\n",
      "thái bình, đình lập, lạng sơn\n",
      "thanh tân, thanh liêm, hà nam\n",
      "Đường Hoàng Như Tiếp, Quận Long Biên, Thành Phố Hà Nội\n",
      "\n",
      "\n",
      "276/29/45/29 Mã Lò, P. Bình Trị Đông A, Bình Tân, TP. Hồ Chí Minh \n",
      "371/371 [==============================] - 0s 1ms/step\n",
      "bình sơn, long thành, đồng nai\n",
      "an lạc, bình tân, hồ chí minh\n",
      "yên minh, ý yên, nam định\n",
      "yên mỹ, thanh trì, hà nội\n",
      "kỳ sơn, hòa bình\n",
      "Phường Bình Trị Đông A, Quận Bình Tân, Thành Phố Hồ Chí Minh\n",
      "\n",
      "\n"
     ]
    }
   ],
   "source": [
    "for idx, add in enumerate(addresses[:100]):\n",
    "    print(add)\n",
    "    std_adds = std.get_top_k(add, 5)\n",
    "    for std_add in std_adds:\n",
    "        std_add = ', '.join([std_add[i] for i in std_add])\n",
    "        print(std_add)\n",
    "    print(groundtruth_addresses[idx])\n",
    "    print('\\n')\n",
    "    gc.collect()"
   ]
  },
  {
   "cell_type": "code",
   "execution_count": null,
   "metadata": {},
   "outputs": [],
   "source": []
  },
  {
   "cell_type": "markdown",
   "metadata": {},
   "source": [
    "# Gen data to train model"
   ]
  },
  {
   "cell_type": "code",
   "execution_count": 45,
   "metadata": {},
   "outputs": [],
   "source": [
    "import Utils\n",
    "import json\n",
    "from transformers import AutoTokenizer, AutoModel\n",
    "import Parameters\n",
    "import random\n",
    "import torch\n",
    "from torch.utils.data import DataLoader, TensorDataset, SequentialSampler\n",
    "import numpy as np"
   ]
  },
  {
   "cell_type": "code",
   "execution_count": 6,
   "metadata": {},
   "outputs": [],
   "source": [
    "with open(Parameters.TRAIN_DATA_FILE, 'r', encoding='utf-8') as f:\n",
    "    train_data = json.load(f)\n",
    "with open(Parameters.NORM_ADDS_FILE, 'r', encoding='utf-8') as f:\n",
    "    RAT_DATA = json.load(f)\n",
    "\n",
    "num_negative = 15"
   ]
  },
  {
   "cell_type": "code",
   "execution_count": 7,
   "metadata": {},
   "outputs": [
    {
     "name": "stdout",
     "output_type": "stream",
     "text": [
      "1000\n",
      "35019\n"
     ]
    }
   ],
   "source": [
    "print(len(train_data['data']))\n",
    "print(len(RAT_DATA))"
   ]
  },
  {
   "cell_type": "code",
   "execution_count": 4,
   "metadata": {},
   "outputs": [
    {
     "name": "stdout",
     "output_type": "stream",
     "text": [
      "{'id': 0, 'noisy_add': 'đông lân 1 , phường bà điểm , hồ chí minh', 'std_add': {'1580': {'street': 'đông lân 1', 'city': 'hồ chí minh', 'id': 1580, 'district': 'hóc môn', 'ward': 'None'}}}\n"
     ]
    }
   ],
   "source": [
    "for i in range(len(train_data['data'])):\n",
    "    print(train_data['data'][i])\n",
    "    break"
   ]
  },
  {
   "cell_type": "code",
   "execution_count": 5,
   "metadata": {},
   "outputs": [
    {
     "data": {
      "text/plain": [
       "'dong lan 1 , phuong ba diem , ho chi minh'"
      ]
     },
     "execution_count": 5,
     "metadata": {},
     "output_type": "execute_result"
    }
   ],
   "source": [
    "# Preprocess.remove_punctuation('đông lân 1 , phường bà điểm , hồ chí minh')\n",
    "Utils.remove_tone_of_text('đông lân 1 , phường bà điểm , hồ chí minh')"
   ]
  },
  {
   "cell_type": "code",
   "execution_count": 15,
   "metadata": {},
   "outputs": [],
   "source": [
    "# tokenizer = AutoTokenizer.from_pretrained(Parameters.local_embedding_model)\n",
    "# print(tokenizer('đông lân 1 phường bà điểm hồ chí minh'))\n",
    "# print(tokenizer(Preprocess.remove_punctuation('đông lân 1 , phường bà điểm , hồ chí minh')))"
   ]
  },
  {
   "cell_type": "code",
   "execution_count": 16,
   "metadata": {},
   "outputs": [],
   "source": [
    "# tokenizer.convert_ids_to_tokens(tokenizer('đông lân 1 , phường bà điểm , hồ chí minh')['input_ids'])\n",
    "# tokenizer.convert_ids_to_tokens(tokenizer(Preprocess.remove_punctuation('đông lân 1 , phường bà điểm , hồ chí minh'))['input_ids'])"
   ]
  },
  {
   "cell_type": "code",
   "execution_count": 27,
   "metadata": {},
   "outputs": [
    {
     "name": "stdout",
     "output_type": "stream",
     "text": [
      "35019\n",
      "35018\n"
     ]
    }
   ],
   "source": [
    "id = [i for i in id2str_std_add]\n",
    "print(len(id))\n",
    "id.remove('0')\n",
    "print(len(id))"
   ]
  },
  {
   "cell_type": "code",
   "execution_count": 84,
   "metadata": {},
   "outputs": [],
   "source": [
    "data = []\n",
    "for i in range(len(train_data['data'])):\n",
    "    batch = []\n",
    "    sample = train_data['data'][i]\n",
    "    add = sample['noisy_add']\n",
    "    id = list(sample['std_add'].keys())[0]\n",
    "    # print(id2str_std_add[id])\n",
    "    id_list = [i for i in RAT_DATA]\n",
    "    random.shuffle(id_list)\n",
    "    id_list.remove(id)\n",
    "    negative_id = id_list[:num_negative]\n",
    "    if add == Utils.remove_tone_of_text(add):\n",
    "        str_std_add = RAT_DATA[id]['NT_str_add']\n",
    "        ent_vector = Utils.gen_entity_vector_from_std_add(RAT_DATA[id]['std_add'])\n",
    "        batch.append([add, str_std_add, ent_vector, 1.])\n",
    "        for neg_id in negative_id:\n",
    "            neg_std_add = RAT_DATA[neg_id]['NT_str_add']\n",
    "            ent_vector = Utils.gen_entity_vector_from_std_add(RAT_DATA[neg_id]['NT_std_add'])\n",
    "            batch.append([add, neg_std_add, ent_vector, -1.])\n",
    "    else:\n",
    "        str_std_add = RAT_DATA[id]['str_add']\n",
    "        ent_vector = Utils.gen_entity_vector_from_std_add(RAT_DATA[id]['std_add'])\n",
    "        batch.append([add, str_std_add, ent_vector, 1.])\n",
    "        for neg_id in negative_id:\n",
    "            neg_std_add = RAT_DATA[neg_id]['str_add']\n",
    "            ent_vector = Utils.gen_entity_vector_from_std_add(RAT_DATA[neg_id]['std_add'])\n",
    "            batch.append([add, neg_std_add, ent_vector, -1.])\n",
    "    data.append(batch)\n",
    "    break"
   ]
  },
  {
   "cell_type": "code",
   "execution_count": 85,
   "metadata": {},
   "outputs": [
    {
     "data": {
      "text/plain": [
       "[[['đông lân 1 , phường bà điểm , hồ chí minh',\n",
       "   'đông lân 1 hóc môn hồ chí minh',\n",
       "   array([[1., 0., 1., 1.]]),\n",
       "   1.0],\n",
       "  ['đông lân 1 , phường bà điểm , hồ chí minh',\n",
       "   'phú thịnh đại từ thái nguyên',\n",
       "   array([[0., 1., 1., 1.]]),\n",
       "   -1.0],\n",
       "  ['đông lân 1 , phường bà điểm , hồ chí minh',\n",
       "   'phan bội châu tam kỳ quảng nam',\n",
       "   array([[1., 0., 1., 1.]]),\n",
       "   -1.0],\n",
       "  ['đông lân 1 , phường bà điểm , hồ chí minh',\n",
       "   'vĩnh lộc bình chánh hồ chí minh',\n",
       "   array([[1., 0., 1., 1.]]),\n",
       "   -1.0],\n",
       "  ['đông lân 1 , phường bà điểm , hồ chí minh',\n",
       "   'quốc lộ 91 châu đốc an giang',\n",
       "   array([[1., 0., 1., 1.]]),\n",
       "   -1.0],\n",
       "  ['đông lân 1 , phường bà điểm , hồ chí minh',\n",
       "   'canh nông 2 hải dương hải dương',\n",
       "   array([[1., 0., 1., 1.]]),\n",
       "   -1.0],\n",
       "  ['đông lân 1 , phường bà điểm , hồ chí minh',\n",
       "   'trương tấn sang đức hòa long an',\n",
       "   array([[1., 0., 1., 1.]]),\n",
       "   -1.0],\n",
       "  ['đông lân 1 , phường bà điểm , hồ chí minh',\n",
       "   'yên hợp văn yên yên bái',\n",
       "   array([[0., 1., 1., 1.]]),\n",
       "   -1.0],\n",
       "  ['đông lân 1 , phường bà điểm , hồ chí minh',\n",
       "   'đa phước 2 ngũ hành sơn đà nẵng',\n",
       "   array([[1., 0., 1., 1.]]),\n",
       "   -1.0],\n",
       "  ['đông lân 1 , phường bà điểm , hồ chí minh',\n",
       "   'nguyễn văn linh 2 bến lức long an',\n",
       "   array([[1., 0., 1., 1.]]),\n",
       "   -1.0],\n",
       "  ['đông lân 1 , phường bà điểm , hồ chí minh',\n",
       "   'phan chu trinh tam kỳ quảng nam',\n",
       "   array([[1., 0., 1., 1.]]),\n",
       "   -1.0],\n",
       "  ['đông lân 1 , phường bà điểm , hồ chí minh',\n",
       "   'võ nghĩa sơn trà đà nẵng',\n",
       "   array([[1., 0., 1., 1.]]),\n",
       "   -1.0],\n",
       "  ['đông lân 1 , phường bà điểm , hồ chí minh',\n",
       "   'quảng vinh quảng xương thanh hóa',\n",
       "   array([[0., 1., 1., 1.]]),\n",
       "   -1.0],\n",
       "  ['đông lân 1 , phường bà điểm , hồ chí minh',\n",
       "   'quốc lộ 8a hương sơn hà tĩnh',\n",
       "   array([[1., 0., 1., 1.]]),\n",
       "   -1.0],\n",
       "  ['đông lân 1 , phường bà điểm , hồ chí minh',\n",
       "   'quang thịnh lạng giang bắc giang',\n",
       "   array([[0., 1., 1., 1.]]),\n",
       "   -1.0],\n",
       "  ['đông lân 1 , phường bà điểm , hồ chí minh',\n",
       "   'hoa thành yên thành nghệ an',\n",
       "   array([[0., 1., 1., 1.]]),\n",
       "   -1.0]]]"
      ]
     },
     "execution_count": 85,
     "metadata": {},
     "output_type": "execute_result"
    }
   ],
   "source": [
    "data"
   ]
  },
  {
   "cell_type": "code",
   "execution_count": 65,
   "metadata": {},
   "outputs": [],
   "source": [
    "tokenizer = AutoTokenizer.from_pretrained(Parameters.local_embedding_model)\n",
    "embedding_model = AutoModel.from_pretrained(Parameters.local_embedding_model)"
   ]
  },
  {
   "cell_type": "code",
   "execution_count": 66,
   "metadata": {},
   "outputs": [],
   "source": [
    "class AddressStandardization(torch.nn.Module):\n",
    "    def __init__(self, embedding_model):\n",
    "        super(AddressStandardization, self).__init__()\n",
    "        self.embedding_model = embedding_model\n",
    "\n",
    "    def forward(self, raw_ids, raw_mask, raw_ent_vectors, std_ids, std_mask, std_ent_vectors):\n",
    "        raw_vector = torch.cat((self.embedding_model(raw_ids, raw_mask)['last_hidden_state'][:, 0, :], raw_ent_vectors), axis=1)\n",
    "        std_vector = torch.cat((self.embedding_model(std_ids, std_mask)['last_hidden_state'][:, 0, :], std_ent_vectors), axis=1)\n",
    "        return torch.nn.CosineSimilarity(dim=1, eps=1e-6)(raw_vector, std_vector)"
   ]
  },
  {
   "cell_type": "code",
   "execution_count": 50,
   "metadata": {},
   "outputs": [],
   "source": [
    "model = AddressStandardization(embedding_model)"
   ]
  },
  {
   "cell_type": "code",
   "execution_count": 67,
   "metadata": {},
   "outputs": [
    {
     "data": {
      "text/plain": [
       "['đông lân 1 , phường bà điểm , hồ chí minh',\n",
       " 'lý ông trọng đà lạt lâm đồng',\n",
       " array([[1., 0., 1., 1.]]),\n",
       " -1.0]"
      ]
     },
     "execution_count": 67,
     "metadata": {},
     "output_type": "execute_result"
    }
   ],
   "source": [
    "x = data[0][0]\n",
    "x"
   ]
  },
  {
   "cell_type": "code",
   "execution_count": 68,
   "metadata": {},
   "outputs": [
    {
     "data": {
      "text/plain": [
       "16"
      ]
     },
     "execution_count": 68,
     "metadata": {},
     "output_type": "execute_result"
    }
   ],
   "source": [
    "len(data[0])"
   ]
  },
  {
   "cell_type": "code",
   "execution_count": 81,
   "metadata": {},
   "outputs": [],
   "source": [
    "def GenericDataLoader(data, batch_size):\n",
    "    # raw_add, raw_entity, std_add, std_entity = GenericData()\n",
    "    raw_ids, raw_masks, raw_ent_vectors, std_ids, std_masks, std_ent_vectors, labels = [], [], [], [], [], [], []    \n",
    "    for batch in data:\n",
    "        raw_add = batch[0][0]\n",
    "        raw_ent_vector = Utils.gen_entity_vector_from_raw_add(raw_add)\n",
    "        for sample in batch:\n",
    "            raw_add, std_add, std_ent_vector, label = sample\n",
    "            raw_input = tokenizer(raw_add, return_tensors=\"np\", padding='max_length', truncation=True, max_length=32)\n",
    "            raw_ids.append(raw_input['input_ids'][0])\n",
    "            raw_masks.append(raw_input['attention_mask'][0])\n",
    "            \n",
    "            std_input = tokenizer(std_add, return_tensors=\"np\", padding='max_length', truncation=True, max_length=32)\n",
    "            std_ids.append(std_input['input_ids'][0])\n",
    "            std_masks.append(std_input['attention_mask'][0])\n",
    "\n",
    "            raw_ent_vectors.append(raw_ent_vector)\n",
    "            std_ent_vectors.append(std_ent_vector)\n",
    "\n",
    "            labels.append(label)\n",
    "\n",
    "    raw_ids = torch.tensor(np.array(raw_ids))\n",
    "    raw_masks = torch.tensor(np.array(raw_masks))\n",
    "    raw_ent_vectors = torch.tensor(np.array(raw_ent_vectors))\n",
    "\n",
    "    std_ids = torch.tensor(np.array(std_ids))\n",
    "    std_masks = torch.tensor(np.array(std_masks))\n",
    "    std_ent_vectors = torch.tensor(np.array(std_ent_vectors))\n",
    "\n",
    "    labels = torch.tensor(np.array(labels))\n",
    "\n",
    "    data = TensorDataset(raw_ids, raw_masks, raw_ent_vectors, std_ids, std_masks, std_ent_vectors, labels)\n",
    "    sampler = SequentialSampler(data)\n",
    "    dataloader = DataLoader(data, sampler=sampler, batch_size=batch_size)\n",
    "    return dataloader"
   ]
  },
  {
   "cell_type": "code",
   "execution_count": 86,
   "metadata": {},
   "outputs": [],
   "source": [
    "train_dataloader = GenericDataLoader(data, 4)"
   ]
  },
  {
   "cell_type": "code",
   "execution_count": 90,
   "metadata": {},
   "outputs": [
    {
     "name": "stdout",
     "output_type": "stream",
     "text": [
      "torch.Size([4, 32])\n",
      "torch.Size([4, 4])\n",
      "torch.Size([4])\n",
      "torch.Size([4])\n",
      "tensor([ 1., -1., -1., -1.], dtype=torch.float64)\n",
      "tensor([0.8928, 0.6273, 0.7392, 0.7991], dtype=torch.float64,\n",
      "       grad_fn=<DivBackward0>)\n",
      "tensor(2.2303, dtype=torch.float64, grad_fn=<MseLossBackward0>)\n",
      "torch.Size([4, 32])\n",
      "torch.Size([4, 4])\n",
      "torch.Size([4])\n",
      "torch.Size([4])\n",
      "tensor([-1., -1., -1., -1.], dtype=torch.float64)\n",
      "tensor([0.6604, 0.6613, 0.6560, 0.6165], dtype=torch.float64,\n",
      "       grad_fn=<DivBackward0>)\n",
      "tensor(2.7180, dtype=torch.float64, grad_fn=<MseLossBackward0>)\n",
      "torch.Size([4, 32])\n",
      "torch.Size([4, 4])\n",
      "torch.Size([4])\n",
      "torch.Size([4])\n",
      "tensor([-1., -1., -1., -1.], dtype=torch.float64)\n",
      "tensor([0.7181, 0.7047, 0.7124, 0.6488], dtype=torch.float64,\n",
      "       grad_fn=<DivBackward0>)\n",
      "tensor(2.8772, dtype=torch.float64, grad_fn=<MseLossBackward0>)\n",
      "torch.Size([4, 32])\n",
      "torch.Size([4, 4])\n",
      "torch.Size([4])\n",
      "torch.Size([4])\n",
      "tensor([-1., -1., -1., -1.], dtype=torch.float64)\n",
      "tensor([0.6610, 0.7193, 0.7161, 0.5961], dtype=torch.float64,\n",
      "       grad_fn=<DivBackward0>)\n",
      "tensor(2.8019, dtype=torch.float64, grad_fn=<MseLossBackward0>)\n"
     ]
    }
   ],
   "source": [
    "for step, batch in enumerate(train_dataloader):\n",
    "    b_raw_ids = batch[0]\n",
    "    b_raw_mask = batch[1]\n",
    "    b_raw_entity = batch[2].reshape(-1, 4)\n",
    "    b_std_ids = batch[3]\n",
    "    b_std_mask = batch[4]\n",
    "    b_std_entity = batch[5].reshape(-1, 4)\n",
    "    b_labels = batch[6]\n",
    "\n",
    "    print(b_raw_ids.shape)\n",
    "    print(b_raw_entity.shape)\n",
    "    print(b_labels.shape)\n",
    "    model.zero_grad()\n",
    "    outputs = model(b_raw_ids,\n",
    "                    b_raw_mask,\n",
    "                    b_raw_entity,\n",
    "                    b_std_ids,\n",
    "                    b_std_mask,\n",
    "                    b_std_entity \n",
    "                    )\n",
    "    print(outputs.shape)\n",
    "    print(b_labels)\n",
    "    print(outputs)\n",
    "    loss = torch.nn.MSELoss()(outputs, b_labels)\n",
    "    print(loss)\n",
    "    # break"
   ]
  },
  {
   "cell_type": "code",
   "execution_count": 74,
   "metadata": {},
   "outputs": [
    {
     "data": {
      "text/plain": [
       "tensor([0.6575, 0.7009, 0.6831, 0.7807], dtype=torch.float64,\n",
       "       grad_fn=<DivBackward0>)"
      ]
     },
     "execution_count": 74,
     "metadata": {},
     "output_type": "execute_result"
    }
   ],
   "source": [
    "outputs"
   ]
  },
  {
   "cell_type": "code",
   "execution_count": null,
   "metadata": {},
   "outputs": [],
   "source": []
  }
 ],
 "metadata": {
  "interpreter": {
   "hash": "9e7ff30b656caff6db4226cd1bd1e0249d2770e3d6549fe4672c236554019d57"
  },
  "kernelspec": {
   "display_name": "Python 3.10.4 ('vas')",
   "language": "python",
   "name": "python3"
  },
  "language_info": {
   "codemirror_mode": {
    "name": "ipython",
    "version": 3
   },
   "file_extension": ".py",
   "mimetype": "text/x-python",
   "name": "python",
   "nbconvert_exporter": "python",
   "pygments_lexer": "ipython3",
   "version": "3.10.4"
  }
 },
 "nbformat": 4,
 "nbformat_minor": 2
}
