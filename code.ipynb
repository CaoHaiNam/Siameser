{
 "cells": [
  {
   "cell_type": "code",
   "execution_count": 1,
   "metadata": {},
   "outputs": [],
   "source": [
    "import json"
   ]
  },
  {
   "cell_type": "code",
   "execution_count": 2,
   "metadata": {},
   "outputs": [],
   "source": [
    "with open('train.json', 'r', encoding='utf-8') as f:\n",
    "    data = json.load(f)"
   ]
  },
  {
   "cell_type": "code",
   "execution_count": 10,
   "metadata": {},
   "outputs": [
    {
     "data": {
      "text/plain": [
       "{'id': 0,\n",
       " 'noisy_add': 'đông lân 1 , phường bà điểm , hồ chí minh',\n",
       " 'std_add': {'1580': {'street': 'đông lân 1',\n",
       "   'city': 'hồ chí minh',\n",
       "   'id': 1580,\n",
       "   'district': 'hóc môn',\n",
       "   'ward': 'None'}}}"
      ]
     },
     "execution_count": 10,
     "metadata": {},
     "output_type": "execute_result"
    }
   ],
   "source": [
    "data['data'][0]"
   ]
  },
  {
   "cell_type": "code",
   "execution_count": 15,
   "metadata": {},
   "outputs": [],
   "source": [
    "def gen_data(data_file, num_sample):\n",
    "    with open(data_file, 'r', encoding='utf-8') as f:\n",
    "        data = json.load(f)\n",
    "\n",
    "    x = dict()\n",
    "    x['data'] = []\n",
    "    for i in range(num_sample):\n",
    "        x['data'].append(data['data'][i])\n",
    "    return x"
   ]
  },
  {
   "cell_type": "code",
   "execution_count": 16,
   "metadata": {},
   "outputs": [],
   "source": [
    "train_data = gen_data('train.json', 1000)\n",
    "with open('Siameser/Data/train.json', 'w', encoding='utf-8') as f:\n",
    "    json.dump(train_data, f, ensure_ascii=False, indent=4)"
   ]
  },
  {
   "cell_type": "code",
   "execution_count": 17,
   "metadata": {},
   "outputs": [],
   "source": [
    "test_data = gen_data('test.json', 500)\n",
    "with open('Siameser/Data/test.json', 'w', encoding='utf-8') as f:\n",
    "    json.dump(test_data, f, ensure_ascii=False, indent=4)"
   ]
  },
  {
   "cell_type": "code",
   "execution_count": 18,
   "metadata": {},
   "outputs": [],
   "source": [
    "with open('Siameser/Data/RAT_DATA_MAIN.json', 'r', encoding='utf-8') as f:\n",
    "    RAT_DATA = json.load(f)"
   ]
  },
  {
   "cell_type": "code",
   "execution_count": null,
   "metadata": {},
   "outputs": [],
   "source": [
    "RAT_DATA"
   ]
  },
  {
   "cell_type": "code",
   "execution_count": 21,
   "metadata": {},
   "outputs": [],
   "source": [
    "std_addresses = []\n",
    "for sample in RAT_DATA['data']:\n",
    "    std_addresses.append(sample['norm_add'])"
   ]
  },
  {
   "cell_type": "code",
   "execution_count": 25,
   "metadata": {},
   "outputs": [],
   "source": [
    "# from collections import Counter\n",
    "# for i in Counter(std_addresses):\n",
    "#     print(i)\n",
    "#     break"
   ]
  },
  {
   "cell_type": "code",
   "execution_count": 26,
   "metadata": {},
   "outputs": [],
   "source": [
    "x = dict(Counter(std_addresses))\n",
    "hard_add = []\n",
    "for i in x:\n",
    "    if x[i] > 1:\n",
    "        hard_add.append(i)"
   ]
  },
  {
   "cell_type": "code",
   "execution_count": 28,
   "metadata": {},
   "outputs": [
    {
     "data": {
      "text/plain": [
       "515"
      ]
     },
     "execution_count": 28,
     "metadata": {},
     "output_type": "execute_result"
    }
   ],
   "source": [
    "len(hard_add)"
   ]
  },
  {
   "cell_type": "code",
   "execution_count": 31,
   "metadata": {},
   "outputs": [],
   "source": [
    "hard_id = []\n",
    "for sample in RAT_DATA['data']:\n",
    "    if sample['norm_add'] in hard_add:\n",
    "        hard_id.append(sample['id'])"
   ]
  },
  {
   "cell_type": "code",
   "execution_count": 34,
   "metadata": {},
   "outputs": [],
   "source": [
    "# hard_id"
   ]
  },
  {
   "cell_type": "code",
   "execution_count": 42,
   "metadata": {},
   "outputs": [],
   "source": [
    "with open('train.json', 'r', encoding='utf-8') as f:\n",
    "    data = json.load(f)\n",
    "hard_sample = []\n",
    "for sample in data['data']:\n",
    "    id = (list(sample['std_add'].keys())[0])\n",
    "    if sample['std_add'][id]['id'] in hard_id:\n",
    "        hard_sample.append(sample)  "
   ]
  },
  {
   "cell_type": "code",
   "execution_count": 1,
   "metadata": {},
   "outputs": [
    {
     "ename": "NameError",
     "evalue": "name 'hard_sample' is not defined",
     "output_type": "error",
     "traceback": [
      "\u001b[0;31m---------------------------------------------------------------------------\u001b[0m",
      "\u001b[0;31mNameError\u001b[0m                                 Traceback (most recent call last)",
      "\u001b[0;32m<ipython-input-1-5520db99db4d>\u001b[0m in \u001b[0;36m<module>\u001b[0;34m\u001b[0m\n\u001b[0;32m----> 1\u001b[0;31m \u001b[0mhard_sample\u001b[0m\u001b[0;34m\u001b[0m\u001b[0;34m\u001b[0m\u001b[0m\n\u001b[0m",
      "\u001b[0;31mNameError\u001b[0m: name 'hard_sample' is not defined"
     ]
    }
   ],
   "source": [
    "hard_sample"
   ]
  },
  {
   "cell_type": "code",
   "execution_count": 45,
   "metadata": {},
   "outputs": [],
   "source": [
    "with open('Siameser/Data/hard_train.json', 'w', encoding='utf-8') as f:\n",
    "    json.dump(test_data, f, ensure_ascii=False, indent=4)"
   ]
  },
  {
   "cell_type": "code",
   "execution_count": null,
   "metadata": {},
   "outputs": [],
   "source": []
  },
  {
   "cell_type": "code",
   "execution_count": null,
   "metadata": {},
   "outputs": [],
   "source": []
  },
  {
   "cell_type": "code",
   "execution_count": 1,
   "metadata": {},
   "outputs": [],
   "source": [
    "import json"
   ]
  },
  {
   "cell_type": "code",
   "execution_count": 2,
   "metadata": {},
   "outputs": [],
   "source": [
    "with open ('Data/train.json', 'r', encoding='utf-8') as f:\n",
    "    train_data = json.load(f)"
   ]
  },
  {
   "cell_type": "code",
   "execution_count": null,
   "metadata": {},
   "outputs": [],
   "source": [
    "train_data"
   ]
  },
  {
   "cell_type": "code",
   "execution_count": null,
   "metadata": {},
   "outputs": [],
   "source": []
  },
  {
   "cell_type": "markdown",
   "metadata": {},
   "source": [
    "# Add more standard address"
   ]
  },
  {
   "cell_type": "code",
   "execution_count": 30,
   "metadata": {},
   "outputs": [],
   "source": [
    "import json\n",
    "with open ('Data/RAT_DATA_MAIN_New.json', 'r', encoding='utf-8') as f:\n",
    "    RAT_DATA = json.load(f)"
   ]
  },
  {
   "cell_type": "code",
   "execution_count": 4,
   "metadata": {},
   "outputs": [],
   "source": [
    "# x = dict()\n",
    "# for i in RAT_DATA['data']:\n",
    "#     # print(i)\n",
    "#     id = i['id']\n",
    "#     x[id] = dict()\n",
    "#     x[id]['std_add'] = i['std_add']\n",
    "#     x[id]['str_add'] = i['norm_add']\n",
    "#     x[id]['NT_str_add'] = i['NT_norm_add']\n",
    "#     # break"
   ]
  },
  {
   "cell_type": "code",
   "execution_count": 10,
   "metadata": {},
   "outputs": [],
   "source": [
    "id = list(x.keys())"
   ]
  },
  {
   "cell_type": "code",
   "execution_count": 11,
   "metadata": {},
   "outputs": [
    {
     "name": "stdout",
     "output_type": "stream",
     "text": [
      "34481\n",
      "36660\n"
     ]
    }
   ],
   "source": [
    "print(len(id))\n",
    "print(id[-1])"
   ]
  },
  {
   "cell_type": "code",
   "execution_count": 8,
   "metadata": {},
   "outputs": [],
   "source": [
    "# with open('Data/RAT_DATA_MAIN_New.json', 'w', encoding='utf-8') as f:\n",
    "#     json.dump(x, f, ensure_ascii=False, indent=4)"
   ]
  },
  {
   "cell_type": "code",
   "execution_count": 35,
   "metadata": {},
   "outputs": [],
   "source": [
    "data = []\n",
    "for i in RAT_DATA:\n",
    "    # print(RAT_DATA[i]['std_add'])\n",
    "    std_add = RAT_DATA[i]['std_add']\n",
    "    std_add['id'] = i\n",
    "    if 'ward' not in std_add:\n",
    "        std_add['ward'] = 'None'\n",
    "    elif 'street' not in std_add:\n",
    "        std_add['street'] = 'None'\n",
    "    elif 'ward' not in std_add and 'street' not in std_add:\n",
    "        std_add['ward'] = 'None'\n",
    "        std_add['street'] = 'None'\n",
    "    data.append(std_add)\n",
    "    # break "
   ]
  },
  {
   "cell_type": "code",
   "execution_count": 36,
   "metadata": {},
   "outputs": [
    {
     "data": {
      "text/plain": [
       "34481"
      ]
     },
     "execution_count": 36,
     "metadata": {},
     "output_type": "execute_result"
    }
   ],
   "source": [
    "len(data)"
   ]
  },
  {
   "cell_type": "code",
   "execution_count": 68,
   "metadata": {},
   "outputs": [],
   "source": [
    "# data\n",
    "import pandas as pd \n",
    "df = pd.DataFrame.from_dict(data, orient='columns')"
   ]
  },
  {
   "cell_type": "code",
   "execution_count": 69,
   "metadata": {},
   "outputs": [],
   "source": [
    "new_df = df.drop(columns=['street', 'ward', 'id'])"
   ]
  },
  {
   "cell_type": "code",
   "execution_count": 70,
   "metadata": {},
   "outputs": [
    {
     "data": {
      "text/html": [
       "<div>\n",
       "<style scoped>\n",
       "    .dataframe tbody tr th:only-of-type {\n",
       "        vertical-align: middle;\n",
       "    }\n",
       "\n",
       "    .dataframe tbody tr th {\n",
       "        vertical-align: top;\n",
       "    }\n",
       "\n",
       "    .dataframe thead th {\n",
       "        text-align: right;\n",
       "    }\n",
       "</style>\n",
       "<table border=\"1\" class=\"dataframe\">\n",
       "  <thead>\n",
       "    <tr style=\"text-align: right;\">\n",
       "      <th></th>\n",
       "      <th>district</th>\n",
       "      <th>city</th>\n",
       "    </tr>\n",
       "  </thead>\n",
       "  <tbody>\n",
       "    <tr>\n",
       "      <th>0</th>\n",
       "      <td>bình chánh</td>\n",
       "      <td>hồ chí minh</td>\n",
       "    </tr>\n",
       "    <tr>\n",
       "      <th>1</th>\n",
       "      <td>bình chánh</td>\n",
       "      <td>hồ chí minh</td>\n",
       "    </tr>\n",
       "    <tr>\n",
       "      <th>2</th>\n",
       "      <td>bình chánh</td>\n",
       "      <td>hồ chí minh</td>\n",
       "    </tr>\n",
       "    <tr>\n",
       "      <th>3</th>\n",
       "      <td>bình chánh</td>\n",
       "      <td>hồ chí minh</td>\n",
       "    </tr>\n",
       "    <tr>\n",
       "      <th>4</th>\n",
       "      <td>bình chánh</td>\n",
       "      <td>hồ chí minh</td>\n",
       "    </tr>\n",
       "    <tr>\n",
       "      <th>...</th>\n",
       "      <td>...</td>\n",
       "      <td>...</td>\n",
       "    </tr>\n",
       "    <tr>\n",
       "      <th>34476</th>\n",
       "      <td>yên bình</td>\n",
       "      <td>yên bái</td>\n",
       "    </tr>\n",
       "    <tr>\n",
       "      <th>34477</th>\n",
       "      <td>yên bình</td>\n",
       "      <td>yên bái</td>\n",
       "    </tr>\n",
       "    <tr>\n",
       "      <th>34478</th>\n",
       "      <td>yên bình</td>\n",
       "      <td>yên bái</td>\n",
       "    </tr>\n",
       "    <tr>\n",
       "      <th>34479</th>\n",
       "      <td>yên bình</td>\n",
       "      <td>yên bái</td>\n",
       "    </tr>\n",
       "    <tr>\n",
       "      <th>34480</th>\n",
       "      <td>yên bình</td>\n",
       "      <td>yên bái</td>\n",
       "    </tr>\n",
       "  </tbody>\n",
       "</table>\n",
       "<p>34481 rows × 2 columns</p>\n",
       "</div>"
      ],
      "text/plain": [
       "         district         city\n",
       "0      bình chánh  hồ chí minh\n",
       "1      bình chánh  hồ chí minh\n",
       "2      bình chánh  hồ chí minh\n",
       "3      bình chánh  hồ chí minh\n",
       "4      bình chánh  hồ chí minh\n",
       "...           ...          ...\n",
       "34476    yên bình      yên bái\n",
       "34477    yên bình      yên bái\n",
       "34478    yên bình      yên bái\n",
       "34479    yên bình      yên bái\n",
       "34480    yên bình      yên bái\n",
       "\n",
       "[34481 rows x 2 columns]"
      ]
     },
     "execution_count": 70,
     "metadata": {},
     "output_type": "execute_result"
    }
   ],
   "source": [
    "new_df"
   ]
  },
  {
   "cell_type": "code",
   "execution_count": 71,
   "metadata": {},
   "outputs": [],
   "source": [
    "new_df = new_df.drop_duplicates()"
   ]
  },
  {
   "cell_type": "code",
   "execution_count": 72,
   "metadata": {},
   "outputs": [
    {
     "data": {
      "text/html": [
       "<div>\n",
       "<style scoped>\n",
       "    .dataframe tbody tr th:only-of-type {\n",
       "        vertical-align: middle;\n",
       "    }\n",
       "\n",
       "    .dataframe tbody tr th {\n",
       "        vertical-align: top;\n",
       "    }\n",
       "\n",
       "    .dataframe thead th {\n",
       "        text-align: right;\n",
       "    }\n",
       "</style>\n",
       "<table border=\"1\" class=\"dataframe\">\n",
       "  <thead>\n",
       "    <tr style=\"text-align: right;\">\n",
       "      <th></th>\n",
       "      <th>district</th>\n",
       "      <th>city</th>\n",
       "    </tr>\n",
       "  </thead>\n",
       "  <tbody>\n",
       "    <tr>\n",
       "      <th>0</th>\n",
       "      <td>bình chánh</td>\n",
       "      <td>hồ chí minh</td>\n",
       "    </tr>\n",
       "    <tr>\n",
       "      <th>298</th>\n",
       "      <td>bình tân</td>\n",
       "      <td>hồ chí minh</td>\n",
       "    </tr>\n",
       "    <tr>\n",
       "      <th>697</th>\n",
       "      <td>bình thạnh</td>\n",
       "      <td>hồ chí minh</td>\n",
       "    </tr>\n",
       "    <tr>\n",
       "      <th>861</th>\n",
       "      <td>cần giờ</td>\n",
       "      <td>hồ chí minh</td>\n",
       "    </tr>\n",
       "    <tr>\n",
       "      <th>923</th>\n",
       "      <td>củ chi</td>\n",
       "      <td>hồ chí minh</td>\n",
       "    </tr>\n",
       "    <tr>\n",
       "      <th>...</th>\n",
       "      <td>...</td>\n",
       "      <td>...</td>\n",
       "    </tr>\n",
       "    <tr>\n",
       "      <th>34264</th>\n",
       "      <td>trấn yên</td>\n",
       "      <td>yên bái</td>\n",
       "    </tr>\n",
       "    <tr>\n",
       "      <th>34280</th>\n",
       "      <td>văn chấn</td>\n",
       "      <td>yên bái</td>\n",
       "    </tr>\n",
       "    <tr>\n",
       "      <th>34312</th>\n",
       "      <td>văn yên</td>\n",
       "      <td>yên bái</td>\n",
       "    </tr>\n",
       "    <tr>\n",
       "      <th>34359</th>\n",
       "      <td>yên bái</td>\n",
       "      <td>yên bái</td>\n",
       "    </tr>\n",
       "    <tr>\n",
       "      <th>34456</th>\n",
       "      <td>yên bình</td>\n",
       "      <td>yên bái</td>\n",
       "    </tr>\n",
       "  </tbody>\n",
       "</table>\n",
       "<p>705 rows × 2 columns</p>\n",
       "</div>"
      ],
      "text/plain": [
       "         district         city\n",
       "0      bình chánh  hồ chí minh\n",
       "298      bình tân  hồ chí minh\n",
       "697    bình thạnh  hồ chí minh\n",
       "861       cần giờ  hồ chí minh\n",
       "923        củ chi  hồ chí minh\n",
       "...           ...          ...\n",
       "34264    trấn yên      yên bái\n",
       "34280    văn chấn      yên bái\n",
       "34312     văn yên      yên bái\n",
       "34359     yên bái      yên bái\n",
       "34456    yên bình      yên bái\n",
       "\n",
       "[705 rows x 2 columns]"
      ]
     },
     "execution_count": 72,
     "metadata": {},
     "output_type": "execute_result"
    }
   ],
   "source": [
    "new_df"
   ]
  },
  {
   "cell_type": "code",
   "execution_count": 53,
   "metadata": {},
   "outputs": [],
   "source": [
    "exist_addresses = set()\n",
    "for i in RAT_DATA:\n",
    "    # print(RAT_DATA[i]['std_add'])\n",
    "    # break\n",
    "    x = RAT_DATA[i]['std_add']\n",
    "    if x['street'] == 'None' and x['ward'] == 'None':\n",
    "        exist_addresses.add(x['district']+x['city'])"
   ]
  },
  {
   "cell_type": "code",
   "execution_count": 55,
   "metadata": {},
   "outputs": [],
   "source": [
    "# len(exist_addresses)\n",
    "exist_addresses = list(exist_addresses)"
   ]
  },
  {
   "cell_type": "code",
   "execution_count": 65,
   "metadata": {},
   "outputs": [
    {
     "data": {
      "text/plain": [
       "['tiên dubắc ninh',\n",
       " 'tam dươngvĩnh phúc',\n",
       " 'bàu bàngbình dương',\n",
       " 'tân uyênbình dương',\n",
       " 'hải châuđà nẵng',\n",
       " 'hà đônghà nội',\n",
       " 'đan phượnghà nội',\n",
       " 'bến cátbình dương',\n",
       " 'tây hồhà nội',\n",
       " 'quận 2hồ chí minh',\n",
       " 'phú nhuậnhồ chí minh',\n",
       " 'sông côngthái nguyên',\n",
       " 'quận 7hồ chí minh',\n",
       " 'rạch giákiên giang',\n",
       " 'quy nhơnbình định',\n",
       " 'hàm thuận nambình thuận',\n",
       " 'gò vấphồ chí minh',\n",
       " 'thủ đứchồ chí minh',\n",
       " 'thủ thừalong an',\n",
       " 'quận 9hồ chí minh']"
      ]
     },
     "execution_count": 65,
     "metadata": {},
     "output_type": "execute_result"
    }
   ],
   "source": [
    "exist_addresses[:20]"
   ]
  },
  {
   "cell_type": "code",
   "execution_count": 74,
   "metadata": {},
   "outputs": [
    {
     "name": "stderr",
     "output_type": "stream",
     "text": [
      "<ipython-input-74-bbc2befc6f01>:7: SettingWithCopyWarning: \n",
      "A value is trying to be set on a copy of a slice from a DataFrame.\n",
      "Try using .loc[row_indexer,col_indexer] = value instead\n",
      "\n",
      "See the caveats in the documentation: https://pandas.pydata.org/pandas-docs/stable/user_guide/indexing.html#returning-a-view-versus-a-copy\n",
      "  new_df['str_address'] = str_addresses\n"
     ]
    }
   ],
   "source": [
    "str_addresses = []\n",
    "for index, row in new_df.iterrows():\n",
    "    # print(row['district'])\n",
    "    # print(row['city'])\n",
    "    str_addresses.append(row['district']+row['city'])\n",
    "    # break\n",
    "new_df['str_address'] = str_addresses"
   ]
  },
  {
   "cell_type": "code",
   "execution_count": 75,
   "metadata": {},
   "outputs": [
    {
     "data": {
      "text/html": [
       "<div>\n",
       "<style scoped>\n",
       "    .dataframe tbody tr th:only-of-type {\n",
       "        vertical-align: middle;\n",
       "    }\n",
       "\n",
       "    .dataframe tbody tr th {\n",
       "        vertical-align: top;\n",
       "    }\n",
       "\n",
       "    .dataframe thead th {\n",
       "        text-align: right;\n",
       "    }\n",
       "</style>\n",
       "<table border=\"1\" class=\"dataframe\">\n",
       "  <thead>\n",
       "    <tr style=\"text-align: right;\">\n",
       "      <th></th>\n",
       "      <th>district</th>\n",
       "      <th>city</th>\n",
       "      <th>str_address</th>\n",
       "    </tr>\n",
       "  </thead>\n",
       "  <tbody>\n",
       "    <tr>\n",
       "      <th>0</th>\n",
       "      <td>bình chánh</td>\n",
       "      <td>hồ chí minh</td>\n",
       "      <td>bình chánhhồ chí minh</td>\n",
       "    </tr>\n",
       "    <tr>\n",
       "      <th>298</th>\n",
       "      <td>bình tân</td>\n",
       "      <td>hồ chí minh</td>\n",
       "      <td>bình tânhồ chí minh</td>\n",
       "    </tr>\n",
       "    <tr>\n",
       "      <th>697</th>\n",
       "      <td>bình thạnh</td>\n",
       "      <td>hồ chí minh</td>\n",
       "      <td>bình thạnhhồ chí minh</td>\n",
       "    </tr>\n",
       "    <tr>\n",
       "      <th>861</th>\n",
       "      <td>cần giờ</td>\n",
       "      <td>hồ chí minh</td>\n",
       "      <td>cần giờhồ chí minh</td>\n",
       "    </tr>\n",
       "    <tr>\n",
       "      <th>923</th>\n",
       "      <td>củ chi</td>\n",
       "      <td>hồ chí minh</td>\n",
       "      <td>củ chihồ chí minh</td>\n",
       "    </tr>\n",
       "    <tr>\n",
       "      <th>1133</th>\n",
       "      <td>gò vấp</td>\n",
       "      <td>hồ chí minh</td>\n",
       "      <td>gò vấphồ chí minh</td>\n",
       "    </tr>\n",
       "    <tr>\n",
       "      <th>1349</th>\n",
       "      <td>hóc môn</td>\n",
       "      <td>hồ chí minh</td>\n",
       "      <td>hóc mônhồ chí minh</td>\n",
       "    </tr>\n",
       "    <tr>\n",
       "      <th>1745</th>\n",
       "      <td>nhà bè</td>\n",
       "      <td>hồ chí minh</td>\n",
       "      <td>nhà bèhồ chí minh</td>\n",
       "    </tr>\n",
       "    <tr>\n",
       "      <th>1797</th>\n",
       "      <td>phú nhuận</td>\n",
       "      <td>hồ chí minh</td>\n",
       "      <td>phú nhuậnhồ chí minh</td>\n",
       "    </tr>\n",
       "    <tr>\n",
       "      <th>1909</th>\n",
       "      <td>quận 1</td>\n",
       "      <td>hồ chí minh</td>\n",
       "      <td>quận 1hồ chí minh</td>\n",
       "    </tr>\n",
       "    <tr>\n",
       "      <th>2087</th>\n",
       "      <td>quận 10</td>\n",
       "      <td>hồ chí minh</td>\n",
       "      <td>quận 10hồ chí minh</td>\n",
       "    </tr>\n",
       "    <tr>\n",
       "      <th>2221</th>\n",
       "      <td>quận 11</td>\n",
       "      <td>hồ chí minh</td>\n",
       "      <td>quận 11hồ chí minh</td>\n",
       "    </tr>\n",
       "    <tr>\n",
       "      <th>2333</th>\n",
       "      <td>quận 12</td>\n",
       "      <td>hồ chí minh</td>\n",
       "      <td>quận 12hồ chí minh</td>\n",
       "    </tr>\n",
       "    <tr>\n",
       "      <th>2767</th>\n",
       "      <td>quận 2</td>\n",
       "      <td>hồ chí minh</td>\n",
       "      <td>quận 2hồ chí minh</td>\n",
       "    </tr>\n",
       "    <tr>\n",
       "      <th>3057</th>\n",
       "      <td>quận 3</td>\n",
       "      <td>hồ chí minh</td>\n",
       "      <td>quận 3hồ chí minh</td>\n",
       "    </tr>\n",
       "    <tr>\n",
       "      <th>3157</th>\n",
       "      <td>quận 4</td>\n",
       "      <td>hồ chí minh</td>\n",
       "      <td>quận 4hồ chí minh</td>\n",
       "    </tr>\n",
       "    <tr>\n",
       "      <th>3261</th>\n",
       "      <td>quận 5</td>\n",
       "      <td>hồ chí minh</td>\n",
       "      <td>quận 5hồ chí minh</td>\n",
       "    </tr>\n",
       "    <tr>\n",
       "      <th>3382</th>\n",
       "      <td>quận 6</td>\n",
       "      <td>hồ chí minh</td>\n",
       "      <td>quận 6hồ chí minh</td>\n",
       "    </tr>\n",
       "    <tr>\n",
       "      <th>3544</th>\n",
       "      <td>quận 7</td>\n",
       "      <td>hồ chí minh</td>\n",
       "      <td>quận 7hồ chí minh</td>\n",
       "    </tr>\n",
       "    <tr>\n",
       "      <th>3774</th>\n",
       "      <td>quận 8</td>\n",
       "      <td>hồ chí minh</td>\n",
       "      <td>quận 8hồ chí minh</td>\n",
       "    </tr>\n",
       "  </tbody>\n",
       "</table>\n",
       "</div>"
      ],
      "text/plain": [
       "        district         city            str_address\n",
       "0     bình chánh  hồ chí minh  bình chánhhồ chí minh\n",
       "298     bình tân  hồ chí minh    bình tânhồ chí minh\n",
       "697   bình thạnh  hồ chí minh  bình thạnhhồ chí minh\n",
       "861      cần giờ  hồ chí minh     cần giờhồ chí minh\n",
       "923       củ chi  hồ chí minh      củ chihồ chí minh\n",
       "1133      gò vấp  hồ chí minh      gò vấphồ chí minh\n",
       "1349     hóc môn  hồ chí minh     hóc mônhồ chí minh\n",
       "1745      nhà bè  hồ chí minh      nhà bèhồ chí minh\n",
       "1797   phú nhuận  hồ chí minh   phú nhuậnhồ chí minh\n",
       "1909      quận 1  hồ chí minh      quận 1hồ chí minh\n",
       "2087     quận 10  hồ chí minh     quận 10hồ chí minh\n",
       "2221     quận 11  hồ chí minh     quận 11hồ chí minh\n",
       "2333     quận 12  hồ chí minh     quận 12hồ chí minh\n",
       "2767      quận 2  hồ chí minh      quận 2hồ chí minh\n",
       "3057      quận 3  hồ chí minh      quận 3hồ chí minh\n",
       "3157      quận 4  hồ chí minh      quận 4hồ chí minh\n",
       "3261      quận 5  hồ chí minh      quận 5hồ chí minh\n",
       "3382      quận 6  hồ chí minh      quận 6hồ chí minh\n",
       "3544      quận 7  hồ chí minh      quận 7hồ chí minh\n",
       "3774      quận 8  hồ chí minh      quận 8hồ chí minh"
      ]
     },
     "execution_count": 75,
     "metadata": {},
     "output_type": "execute_result"
    }
   ],
   "source": [
    "new_df.head(20)"
   ]
  },
  {
   "cell_type": "code",
   "execution_count": 76,
   "metadata": {},
   "outputs": [],
   "source": [
    "criterion = lambda row: row['str_address'] not in exist_addresses\n",
    "\n",
    "new_df = new_df[new_df.apply(criterion, axis=1)]"
   ]
  },
  {
   "cell_type": "code",
   "execution_count": 82,
   "metadata": {},
   "outputs": [
    {
     "data": {
      "text/html": [
       "<div>\n",
       "<style scoped>\n",
       "    .dataframe tbody tr th:only-of-type {\n",
       "        vertical-align: middle;\n",
       "    }\n",
       "\n",
       "    .dataframe tbody tr th {\n",
       "        vertical-align: top;\n",
       "    }\n",
       "\n",
       "    .dataframe thead th {\n",
       "        text-align: right;\n",
       "    }\n",
       "</style>\n",
       "<table border=\"1\" class=\"dataframe\">\n",
       "  <thead>\n",
       "    <tr style=\"text-align: right;\">\n",
       "      <th></th>\n",
       "      <th>district</th>\n",
       "      <th>city</th>\n",
       "      <th>str_address</th>\n",
       "    </tr>\n",
       "  </thead>\n",
       "  <tbody>\n",
       "    <tr>\n",
       "      <th>861</th>\n",
       "      <td>cần giờ</td>\n",
       "      <td>hồ chí minh</td>\n",
       "      <td>cần giờhồ chí minh</td>\n",
       "    </tr>\n",
       "    <tr>\n",
       "      <th>6969</th>\n",
       "      <td>mỹ đức</td>\n",
       "      <td>hà nội</td>\n",
       "      <td>mỹ đứchà nội</td>\n",
       "    </tr>\n",
       "    <tr>\n",
       "      <th>7440</th>\n",
       "      <td>thanh oai</td>\n",
       "      <td>hà nội</td>\n",
       "      <td>thanh oaihà nội</td>\n",
       "    </tr>\n",
       "    <tr>\n",
       "      <th>7649</th>\n",
       "      <td>ứng hòa</td>\n",
       "      <td>hà nội</td>\n",
       "      <td>ứng hòahà nội</td>\n",
       "    </tr>\n",
       "    <tr>\n",
       "      <th>10026</th>\n",
       "      <td>hòa vang</td>\n",
       "      <td>đà nẵng</td>\n",
       "      <td>hòa vangđà nẵng</td>\n",
       "    </tr>\n",
       "    <tr>\n",
       "      <th>...</th>\n",
       "      <td>...</td>\n",
       "      <td>...</td>\n",
       "      <td>...</td>\n",
       "    </tr>\n",
       "    <tr>\n",
       "      <th>34253</th>\n",
       "      <td>trạm tấu</td>\n",
       "      <td>yên bái</td>\n",
       "      <td>trạm tấuyên bái</td>\n",
       "    </tr>\n",
       "    <tr>\n",
       "      <th>34264</th>\n",
       "      <td>trấn yên</td>\n",
       "      <td>yên bái</td>\n",
       "      <td>trấn yênyên bái</td>\n",
       "    </tr>\n",
       "    <tr>\n",
       "      <th>34280</th>\n",
       "      <td>văn chấn</td>\n",
       "      <td>yên bái</td>\n",
       "      <td>văn chấnyên bái</td>\n",
       "    </tr>\n",
       "    <tr>\n",
       "      <th>34312</th>\n",
       "      <td>văn yên</td>\n",
       "      <td>yên bái</td>\n",
       "      <td>văn yênyên bái</td>\n",
       "    </tr>\n",
       "    <tr>\n",
       "      <th>34456</th>\n",
       "      <td>yên bình</td>\n",
       "      <td>yên bái</td>\n",
       "      <td>yên bìnhyên bái</td>\n",
       "    </tr>\n",
       "  </tbody>\n",
       "</table>\n",
       "<p>538 rows × 3 columns</p>\n",
       "</div>"
      ],
      "text/plain": [
       "        district         city         str_address\n",
       "861      cần giờ  hồ chí minh  cần giờhồ chí minh\n",
       "6969      mỹ đức       hà nội        mỹ đứchà nội\n",
       "7440   thanh oai       hà nội     thanh oaihà nội\n",
       "7649     ứng hòa       hà nội       ứng hòahà nội\n",
       "10026   hòa vang      đà nẵng     hòa vangđà nẵng\n",
       "...          ...          ...                 ...\n",
       "34253   trạm tấu      yên bái     trạm tấuyên bái\n",
       "34264   trấn yên      yên bái     trấn yênyên bái\n",
       "34280   văn chấn      yên bái     văn chấnyên bái\n",
       "34312    văn yên      yên bái      văn yênyên bái\n",
       "34456   yên bình      yên bái     yên bìnhyên bái\n",
       "\n",
       "[538 rows x 3 columns]"
      ]
     },
     "execution_count": 82,
     "metadata": {},
     "output_type": "execute_result"
    }
   ],
   "source": [
    "new_df"
   ]
  },
  {
   "cell_type": "code",
   "execution_count": 78,
   "metadata": {},
   "outputs": [],
   "source": [
    "import json\n",
    "with open ('Data/RAT_DATA_MAIN_New.json', 'r', encoding='utf-8') as f:\n",
    "    RAT_DATA = json.load(f)"
   ]
  },
  {
   "cell_type": "code",
   "execution_count": 80,
   "metadata": {},
   "outputs": [
    {
     "name": "stdout",
     "output_type": "stream",
     "text": [
      "36661\n"
     ]
    }
   ],
   "source": [
    "current_id = int(list(RAT_DATA.keys())[-1])+1\n",
    "print(current_id)"
   ]
  },
  {
   "cell_type": "code",
   "execution_count": 83,
   "metadata": {},
   "outputs": [
    {
     "data": {
      "text/plain": [
       "'Cao Hai Nam'"
      ]
     },
     "execution_count": 83,
     "metadata": {},
     "output_type": "execute_result"
    }
   ],
   "source": [
    "from Preprocess import remove_tone_of_text\n",
    "remove_tone_of_text('Cao Hải Nảm')"
   ]
  },
  {
   "cell_type": "code",
   "execution_count": 84,
   "metadata": {},
   "outputs": [],
   "source": [
    "str_addresses = []\n",
    "for index, row in new_df.iterrows():\n",
    "    RAT_DATA[current_id] = dict()\n",
    "    district, city = row['district'], row['city']\n",
    "    # print(district)\n",
    "    # print(city)\n",
    "    RAT_DATA[current_id]['std_add'] = dict()\n",
    "    RAT_DATA[current_id]['std_add']['district'] = district\n",
    "    RAT_DATA[current_id]['std_add']['city'] = city\n",
    "    RAT_DATA[current_id]['str_add'] = ' '.join([district, city])\n",
    "    RAT_DATA[current_id]['NT_str_add'] = ' '.join([remove_tone_of_text(district), remove_tone_of_text(city)])\n",
    "    current_id += 1\n",
    "    # break"
   ]
  },
  {
   "cell_type": "code",
   "execution_count": 55,
   "metadata": {},
   "outputs": [
    {
     "data": {
      "text/plain": [
       "35019"
      ]
     },
     "execution_count": 55,
     "metadata": {},
     "output_type": "execute_result"
    }
   ],
   "source": [
    "len(RAT_DATA)"
   ]
  },
  {
   "cell_type": "code",
   "execution_count": 87,
   "metadata": {},
   "outputs": [],
   "source": [
    "with open('Data/RAT_DATA_MAIN_New_Update.json', 'w', encoding='utf-8') as f:\n",
    "    json.dump(RAT_DATA, f, ensure_ascii=False, indent=4)"
   ]
  },
  {
   "cell_type": "code",
   "execution_count": null,
   "metadata": {},
   "outputs": [],
   "source": []
  },
  {
   "cell_type": "code",
   "execution_count": null,
   "metadata": {},
   "outputs": [],
   "source": []
  },
  {
   "cell_type": "code",
   "execution_count": 2,
   "metadata": {},
   "outputs": [],
   "source": [
    "import json\n",
    "with open ('Data/RAT_DATA_MAIN_New_Update.json', 'r', encoding='utf-8') as f:\n",
    "    RAT_DATA = json.load(f)"
   ]
  },
  {
   "cell_type": "code",
   "execution_count": 3,
   "metadata": {},
   "outputs": [
    {
     "name": "stdout",
     "output_type": "stream",
     "text": [
      "{'std_add': {'street': 'đường 1', 'district': 'bình chánh', 'city': 'hồ chí minh'}, 'str_add': 'đường 1 bình chánh hồ chí minh', 'NT_str_add': 'duong 1 binh chanh ho chi minh'}\n"
     ]
    }
   ],
   "source": [
    "count = 0\n",
    "for i in RAT_DATA:\n",
    "    print(RAT_DATA[i])\n",
    "    break"
   ]
  },
  {
   "cell_type": "code",
   "execution_count": 6,
   "metadata": {},
   "outputs": [],
   "source": [
    "count = 0\n",
    "for i in RAT_DATA:\n",
    "    if 'ward' in RAT_DATA[i]['std_add']:\n",
    "        count += 1"
   ]
  },
  {
   "cell_type": "code",
   "execution_count": 9,
   "metadata": {},
   "outputs": [],
   "source": [
    "import pandas as pd"
   ]
  },
  {
   "cell_type": "code",
   "execution_count": 24,
   "metadata": {},
   "outputs": [
    {
     "data": {
      "text/plain": [
       "0         Phường\n",
       "126     Thị trấn\n",
       "127           Xã\n",
       "3797       Huyện\n",
       "Name: Cấp, dtype: object"
      ]
     },
     "execution_count": 24,
     "metadata": {},
     "output_type": "execute_result"
    }
   ],
   "source": [
    "df = pd.read_csv('Data/ward_level.csv')\n",
    "df['Cấp'].drop_duplicates()"
   ]
  },
  {
   "cell_type": "code",
   "execution_count": 40,
   "metadata": {},
   "outputs": [
    {
     "name": "stdout",
     "output_type": "stream",
     "text": [
      "10604\n"
     ]
    }
   ],
   "source": [
    "df = pd.read_csv('Data/ward_level.csv')\n",
    "print(len(df))\n",
    "# df = df[df['Cấp'].isnull()]\n",
    "df = df.dropna()"
   ]
  },
  {
   "cell_type": "code",
   "execution_count": 41,
   "metadata": {},
   "outputs": [
    {
     "data": {
      "text/plain": [
       "0        Phường\n",
       "126    Thị trấn\n",
       "127          Xã\n",
       "Name: Cấp, dtype: object"
      ]
     },
     "execution_count": 41,
     "metadata": {},
     "output_type": "execute_result"
    }
   ],
   "source": [
    "df['Cấp'].drop_duplicates()"
   ]
  },
  {
   "cell_type": "code",
   "execution_count": 42,
   "metadata": {},
   "outputs": [
    {
     "data": {
      "text/plain": [
       "10599"
      ]
     },
     "execution_count": 42,
     "metadata": {},
     "output_type": "execute_result"
    }
   ],
   "source": [
    "len(df)"
   ]
  },
  {
   "cell_type": "code",
   "execution_count": 45,
   "metadata": {},
   "outputs": [],
   "source": [
    "df.to_csv('Data/ward_level.csv', index=False)"
   ]
  },
  {
   "cell_type": "code",
   "execution_count": null,
   "metadata": {},
   "outputs": [],
   "source": []
  },
  {
   "cell_type": "code",
   "execution_count": null,
   "metadata": {},
   "outputs": [],
   "source": []
  },
  {
   "cell_type": "markdown",
   "metadata": {},
   "source": [
    "# Re produce sentence transformers from transformers"
   ]
  },
  {
   "cell_type": "code",
   "execution_count": 1,
   "metadata": {},
   "outputs": [],
   "source": [
    "from transformers import AutoModel, AutoTokenizer\n",
    "import torch\n",
    "model = AutoModel.from_pretrained('sentence-transformer_LaBSE')\n",
    "tokenizer = AutoTokenizer.from_pretrained('sentence-transformer_LaBSE')"
   ]
  },
  {
   "cell_type": "code",
   "execution_count": 3,
   "metadata": {},
   "outputs": [],
   "source": [
    "sent = 'vĩnh hùng vĩnh lộc thanh hóa'"
   ]
  },
  {
   "cell_type": "code",
   "execution_count": 5,
   "metadata": {},
   "outputs": [],
   "source": [
    "inputs = tokenizer(sent, return_tensors='pt')\n",
    "with torch.no_grad():\n",
    "    outputs = model(**inputs)"
   ]
  },
  {
   "cell_type": "code",
   "execution_count": 7,
   "metadata": {},
   "outputs": [],
   "source": [
    "vector = outputs['pooler_output']\n",
    "vector = torch.nn.functional.normalize(vector, p=2, dim=1).detach().numpy()"
   ]
  },
  {
   "cell_type": "code",
   "execution_count": null,
   "metadata": {},
   "outputs": [],
   "source": []
  },
  {
   "cell_type": "code",
   "execution_count": null,
   "metadata": {},
   "outputs": [],
   "source": []
  },
  {
   "cell_type": "code",
   "execution_count": null,
   "metadata": {},
   "outputs": [],
   "source": []
  },
  {
   "cell_type": "code",
   "execution_count": null,
   "metadata": {},
   "outputs": [],
   "source": []
  },
  {
   "cell_type": "markdown",
   "metadata": {},
   "source": [
    "# Build new address matrix"
   ]
  },
  {
   "cell_type": "code",
   "execution_count": 1,
   "metadata": {},
   "outputs": [],
   "source": [
    "import json\n",
    "with open('Data/RAT_DATA_MAIN_New_Update.json', 'r', encoding='utf-8') as f:\n",
    "    RAT_DATA = json.load(f)"
   ]
  },
  {
   "cell_type": "code",
   "execution_count": 2,
   "metadata": {},
   "outputs": [
    {
     "data": {
      "text/plain": [
       "35019"
      ]
     },
     "execution_count": 2,
     "metadata": {},
     "output_type": "execute_result"
    }
   ],
   "source": [
    "len(RAT_DATA)"
   ]
  },
  {
   "cell_type": "code",
   "execution_count": 3,
   "metadata": {},
   "outputs": [
    {
     "name": "stdout",
     "output_type": "stream",
     "text": [
      "Load standard address matrix\n"
     ]
    }
   ],
   "source": [
    "import Parameters\n",
    "import numpy as np\n",
    "import Utils\n",
    "from transformers import AutoModel, AutoTokenizer\n",
    "print('Load standard address matrix')\n",
    "norm_embeddings = np.load(Parameters.NORM_EMBEDDING_FILE, allow_pickle=True)\n",
    "NT_norm_embeddings = np.load(Parameters.NT_NORM_EMBEDDING_FILE, allow_pickle=True)"
   ]
  },
  {
   "cell_type": "code",
   "execution_count": 113,
   "metadata": {},
   "outputs": [
    {
     "data": {
      "text/plain": [
       "(34481, 772)"
      ]
     },
     "execution_count": 113,
     "metadata": {},
     "output_type": "execute_result"
    }
   ],
   "source": [
    "# norm_embeddings.shape"
   ]
  },
  {
   "cell_type": "code",
   "execution_count": 4,
   "metadata": {},
   "outputs": [],
   "source": [
    "model = AutoModel.from_pretrained(Parameters.local_embedding_model)\n",
    "tokenizer = AutoTokenizer.from_pretrained(Parameters.local_embedding_model)"
   ]
  },
  {
   "cell_type": "code",
   "execution_count": 5,
   "metadata": {},
   "outputs": [
    {
     "name": "stdout",
     "output_type": "stream",
     "text": [
      "{'std_add': {'street': 'đường 1', 'district': 'bình chánh', 'city': 'hồ chí minh'}, 'str_add': 'đường 1 bình chánh hồ chí minh', 'NT_str_add': 'duong 1 binh chanh ho chi minh'}\n"
     ]
    }
   ],
   "source": [
    "for i in RAT_DATA:\n",
    "    print(RAT_DATA[i])\n",
    "    break"
   ]
  },
  {
   "cell_type": "code",
   "execution_count": 6,
   "metadata": {},
   "outputs": [],
   "source": [
    "str_adds, NT_str_adds = [], []\n",
    "for i in RAT_DATA:\n",
    "    str_adds.append(RAT_DATA[i]['str_add'])\n",
    "    NT_str_adds.append(RAT_DATA[i]['NT_str_add'])"
   ]
  },
  {
   "cell_type": "code",
   "execution_count": 7,
   "metadata": {},
   "outputs": [
    {
     "name": "stdout",
     "output_type": "stream",
     "text": [
      "35019\n",
      "35019\n"
     ]
    }
   ],
   "source": [
    "print(len(str_adds))\n",
    "print(len(NT_str_adds))"
   ]
  },
  {
   "cell_type": "code",
   "execution_count": 9,
   "metadata": {},
   "outputs": [],
   "source": [
    "# str_add_matrix, NT_str_add_matrix = [], []\n",
    "# for i in range(0, len(str_adds[:200])):\n",
    "#     str_add, NT_str_add = str_adds[i], NT_str_adds[i]\n",
    "#     str_add_matrix.append(Utils.encode(model, tokenizer, str_add))\n",
    "#     NT_str_add_matrix.append(Utils.encode(model, tokenizer, NT_str_add))\n",
    "#     # break"
   ]
  },
  {
   "cell_type": "code",
   "execution_count": 32,
   "metadata": {},
   "outputs": [],
   "source": [
    "str_add_matrix, NT_str_add_matrix = [], []\n",
    "batchsize = 256\n",
    "n = len(str_adds)\n",
    "for i in range(0, len(str_adds[:n]), batchsize):\n",
    "    str_add, NT_str_add = str_adds[:n][i:i+batchsize], NT_str_adds[:n][i:i+batchsize]\n",
    "    str_add_matrix.extend(Utils.encode(model, tokenizer, str_add))\n",
    "    NT_str_add_matrix.extend(Utils.encode(model, tokenizer, NT_str_add))"
   ]
  },
  {
   "cell_type": "code",
   "execution_count": 24,
   "metadata": {},
   "outputs": [],
   "source": [
    "# str_add_matrix"
   ]
  },
  {
   "cell_type": "code",
   "execution_count": 33,
   "metadata": {},
   "outputs": [],
   "source": [
    "str_add_matrix = np.array(str_add_matrix)\n",
    "NT_str_add_matrix = np.array(NT_str_add_matrix)"
   ]
  },
  {
   "cell_type": "code",
   "execution_count": 35,
   "metadata": {},
   "outputs": [
    {
     "data": {
      "text/plain": [
       "(35019, 768)"
      ]
     },
     "execution_count": 35,
     "metadata": {},
     "output_type": "execute_result"
    }
   ],
   "source": [
    "NT_str_add_matrix.shape"
   ]
  },
  {
   "cell_type": "code",
   "execution_count": 36,
   "metadata": {},
   "outputs": [
    {
     "name": "stdout",
     "output_type": "stream",
     "text": [
      "{'street': 'đường 1', 'district': 'bình chánh', 'city': 'hồ chí minh'}\n"
     ]
    }
   ],
   "source": [
    "entity_matrix = []\n",
    "str_adds, NT_str_adds = [], []\n",
    "for i in RAT_DATA:\n",
    "    std_add = RAT_DATA[i]['std_add']\n",
    "    print(std_add)\n",
    "    break"
   ]
  },
  {
   "cell_type": "code",
   "execution_count": 40,
   "metadata": {},
   "outputs": [],
   "source": [
    "entity_matrix = []\n",
    "entities = ['street', 'ward', 'district', 'city']\n",
    "str_adds, NT_str_adds = [], []\n",
    "for i in RAT_DATA:\n",
    "    std_add = RAT_DATA[i]['std_add']\n",
    "    entity_vector = [0., 0., 0., 0.]\n",
    "    for ent in entities:\n",
    "        if ent in std_add:\n",
    "            entity_vector[entities.index(ent)] = 1. \n",
    "    # print(entity_vector)\n",
    "    entity_matrix.append(entity_vector)\n",
    "    # break"
   ]
  },
  {
   "cell_type": "code",
   "execution_count": 41,
   "metadata": {},
   "outputs": [],
   "source": [
    "entity_matrix = np.array(entity_matrix)"
   ]
  },
  {
   "cell_type": "code",
   "execution_count": 42,
   "metadata": {},
   "outputs": [
    {
     "data": {
      "text/plain": [
       "(35019, 4)"
      ]
     },
     "execution_count": 42,
     "metadata": {},
     "output_type": "execute_result"
    }
   ],
   "source": [
    "entity_matrix.shape"
   ]
  },
  {
   "cell_type": "code",
   "execution_count": 43,
   "metadata": {},
   "outputs": [],
   "source": [
    "x = np.concatenate((str_add_matrix, entity_matrix), axis=1)\n",
    "NT_x = np.concatenate((NT_str_add_matrix, entity_matrix), axis=1)"
   ]
  },
  {
   "cell_type": "code",
   "execution_count": 44,
   "metadata": {},
   "outputs": [
    {
     "data": {
      "text/plain": [
       "(35019, 772)"
      ]
     },
     "execution_count": 44,
     "metadata": {},
     "output_type": "execute_result"
    }
   ],
   "source": [
    "x.shape"
   ]
  },
  {
   "cell_type": "code",
   "execution_count": 45,
   "metadata": {},
   "outputs": [
    {
     "data": {
      "text/plain": [
       "(35019, 772)"
      ]
     },
     "execution_count": 45,
     "metadata": {},
     "output_type": "execute_result"
    }
   ],
   "source": [
    "NT_x.shape"
   ]
  },
  {
   "cell_type": "code",
   "execution_count": 46,
   "metadata": {},
   "outputs": [],
   "source": [
    "with open('Data/std_address_matrix.npy', 'wb') as f:\n",
    "    np.save(f, x)\n",
    "    np.save(f, NT_x)\n",
    "# with open('Data/Update_NT_norm.npy', 'wb') as f:\n",
    "#     np.save(f, NT_x)"
   ]
  },
  {
   "cell_type": "code",
   "execution_count": null,
   "metadata": {},
   "outputs": [],
   "source": []
  },
  {
   "cell_type": "markdown",
   "metadata": {},
   "source": [
    "# Update id2ID, ID2id, id2norm_add"
   ]
  },
  {
   "cell_type": "code",
   "execution_count": 49,
   "metadata": {},
   "outputs": [],
   "source": [
    "import json\n",
    "import Parameters\n",
    "with open('Data/RAT_DATA_MAIN_New_Update.json', 'r', encoding='utf-8') as f:\n",
    "    RAT_DATA = json.load(f)"
   ]
  },
  {
   "cell_type": "code",
   "execution_count": 47,
   "metadata": {},
   "outputs": [
    {
     "name": "stdout",
     "output_type": "stream",
     "text": [
      "{'std_add': {'street': 'đường 1', 'district': 'bình chánh', 'city': 'hồ chí minh'}, 'str_add': 'đường 1 bình chánh hồ chí minh', 'NT_str_add': 'duong 1 binh chanh ho chi minh'}\n"
     ]
    }
   ],
   "source": [
    "for i in RAT_DATA:\n",
    "    print(RAT_DATA[i])\n",
    "    break"
   ]
  },
  {
   "cell_type": "code",
   "execution_count": null,
   "metadata": {},
   "outputs": [],
   "source": [
    "import json\n",
    "with open('Data/RAT_DATA_MAIN_New_Update.json', 'r', encoding='utf-8') as f:\n",
    "    RAT_DATA = json.load(f)"
   ]
  },
  {
   "cell_type": "code",
   "execution_count": 50,
   "metadata": {},
   "outputs": [],
   "source": [
    "with open(file=Parameters.ID2id_FILE, mode='r', encoding='utf-8') as f:\n",
    "    ID2id = json.load(fp=f)\n",
    "\n",
    "with open(file=Parameters.id2ID_FILE, mode='r', encoding='utf-8') as f:\n",
    "    id2ID = json.load(fp=f)\n",
    "\n",
    "with open(file=Parameters.id2norm_add_FILE, mode='r', encoding='utf-8') as f:\n",
    "    id2std_add= json.load(fp=f)"
   ]
  },
  {
   "cell_type": "code",
   "execution_count": 56,
   "metadata": {},
   "outputs": [
    {
     "data": {
      "text/plain": [
       "{'norm_add': 'đường 1 bình chánh hồ chí minh',\n",
       " 'NT_norm_add': 'duong 1 binh chanh ho chi minh'}"
      ]
     },
     "execution_count": 56,
     "metadata": {},
     "output_type": "execute_result"
    }
   ],
   "source": [
    "id2std_add['0']"
   ]
  },
  {
   "cell_type": "code",
   "execution_count": 57,
   "metadata": {},
   "outputs": [],
   "source": [
    "ID2id, id2ID, id2std_add = dict(), dict(), dict()\n",
    "count = 0\n",
    "for i in RAT_DATA:\n",
    "    ID2id[count] = int(i)\n",
    "    id2ID[i] = count\n",
    "    id2std_add[i] = dict()\n",
    "    id2std_add[i]['str_add'] = RAT_DATA[i]['str_add']\n",
    "    id2std_add[i]['NT_str_add'] = RAT_DATA[i]['NT_str_add']\n",
    "    count += 1"
   ]
  },
  {
   "cell_type": "code",
   "execution_count": 60,
   "metadata": {},
   "outputs": [],
   "source": [
    "with open('Data/id2ID_Update.json', 'w', encoding='utf-8') as f:\n",
    "    json.dump(id2ID, f, ensure_ascii=False, indent=4)\n",
    "with open('Data/ID2id_Update.json', 'w', encoding='utf-8') as f:\n",
    "    json.dump(ID2id, f, ensure_ascii=False, indent=4)\n",
    "with open('Data/id2norm_add_Update.json', 'w', encoding='utf-8') as f:\n",
    "    json.dump(id2std_add, f, ensure_ascii=False, indent=4)"
   ]
  },
  {
   "cell_type": "code",
   "execution_count": 61,
   "metadata": {},
   "outputs": [],
   "source": [
    "with open(file=Parameters.id2norm_add_FILE, mode='r', encoding='utf-8') as f:\n",
    "    id2std_add= json.load(fp=f)"
   ]
  },
  {
   "cell_type": "code",
   "execution_count": 63,
   "metadata": {},
   "outputs": [],
   "source": [
    "x = dict()\n",
    "for i in id2std_add:\n",
    "    x[i] = dict()\n",
    "    x[i]['std_add'] = id2std_add[i]['norm_add']\n",
    "    x[i]['NT_std_add'] = id2std_add[i]['NT_norm_add']"
   ]
  },
  {
   "cell_type": "code",
   "execution_count": 64,
   "metadata": {},
   "outputs": [],
   "source": [
    "with open('Data/id2norm_add_1.json', 'w', encoding='utf-8') as f:\n",
    "    json.dump(x, f, ensure_ascii=False, indent=4)"
   ]
  },
  {
   "cell_type": "code",
   "execution_count": null,
   "metadata": {},
   "outputs": [],
   "source": [
    "import json\n",
    "import Parameters\n",
    "with open('Data/RAT_DATA_MAIN.json', 'r', encoding='utf-8') as f:\n",
    "    RAT_DATA = json.load(f)"
   ]
  },
  {
   "cell_type": "markdown",
   "metadata": {},
   "source": [
    "# Test Siameser"
   ]
  },
  {
   "cell_type": "code",
   "execution_count": 3,
   "metadata": {},
   "outputs": [
    {
     "name": "stderr",
     "output_type": "stream",
     "text": [
      "Using TensorFlow backend.\n"
     ]
    }
   ],
   "source": [
    "import keras\n",
    "import Siameser"
   ]
  },
  {
   "cell_type": "code",
   "execution_count": 4,
   "metadata": {},
   "outputs": [
    {
     "name": "stdout",
     "output_type": "stream",
     "text": [
      "Load model\n",
      "Load sentence embedding model (If this is the first time you run this repo, It could be take time to download sentence embedding model)\n"
     ]
    },
    {
     "name": "stderr",
     "output_type": "stream",
     "text": [
      "/home/caohainam/anaconda3/envs/Siameser/lib/python3.6/site-packages/torch/cuda/__init__.py:80: UserWarning: CUDA initialization: The NVIDIA driver on your system is too old (found version 9010). Please update your GPU driver by downloading and installing a new version from the URL: http://www.nvidia.com/Download/index.aspx Alternatively, go to: https://pytorch.org to install a PyTorch version that has been compiled with your version of the CUDA driver. (Triggered internally at  ../c10/cuda/CUDAFunctions.cpp:112.)\n",
      "  return torch._C._cuda_getDeviceCount() > 0\n"
     ]
    },
    {
     "name": "stdout",
     "output_type": "stream",
     "text": [
      "Load standard address matrix\n",
      "Load standard address\n",
      "Done\n"
     ]
    }
   ],
   "source": [
    "std = Siameser.Siameser('AD')"
   ]
  },
  {
   "cell_type": "code",
   "execution_count": 5,
   "metadata": {},
   "outputs": [
    {
     "name": "stdout",
     "output_type": "stream",
     "text": [
      "{'ward': 'hòa mỹ tây', 'district': 'tây hòa', 'city': 'phú yên'}\n"
     ]
    }
   ],
   "source": [
    "# add = 'Hoi P Bình Hưng Hòa B/Tân TP Hồ Chí Minh'\n",
    "# add = 'Thị Tĩnh Khai P Đa Kao Quận 1 TP Hồ Chí Minh'\n",
    "# add = 'Huy tinn T Phát Thị Trấn Nhà Bè NB TP Hồ Chí Minh'\n",
    "# add = 'Văn Nguyên P T-Định Q1 TP Hồ Chí-Minh'\n",
    "# add = 'Lão Bang Quận Hải Châu Đà Nẵng'\n",
    "# add = 'P Than P BTĐông BTân TP Hồ Chí Minh'\n",
    "# add = 'Xuân phương Từ liêm Hà nội'\n",
    "add = 'Mỹ Tây Tây Hoà Phú Yên'\n",
    "# add = 'Lãm P An Lạc Bình Tân TP Hồ Chí Minh'\n",
    "# add = 'Tân Thanh Bà Rịa-Vũng Tàu'\n",
    "# add = 'TT Bộ Thủy Sân Ngọc Khánh Ba Đình Hà Nội'\n",
    "# add = 'kê thủy quảng bình'\n",
    "std_add = std.standardize(add)\n",
    "print(std_add)"
   ]
  },
  {
   "cell_type": "markdown",
   "metadata": {},
   "source": [
    "# Rebuild file"
   ]
  },
  {
   "cell_type": "code",
   "execution_count": 1,
   "metadata": {},
   "outputs": [],
   "source": [
    "import json"
   ]
  },
  {
   "cell_type": "code",
   "execution_count": 2,
   "metadata": {},
   "outputs": [],
   "source": [
    "id2ID, ID2id, id2std_add = dict(), dict(), dict()\n",
    "with open('Data/RAT_DATA_MAIN_New_Update.json', 'r') as f:\n",
    "    RAT_DATA = json.load(f)"
   ]
  },
  {
   "cell_type": "code",
   "execution_count": 3,
   "metadata": {},
   "outputs": [
    {
     "data": {
      "text/plain": [
       "35019"
      ]
     },
     "execution_count": 3,
     "metadata": {},
     "output_type": "execute_result"
    }
   ],
   "source": [
    "len(RAT_DATA)"
   ]
  },
  {
   "cell_type": "code",
   "execution_count": 4,
   "metadata": {},
   "outputs": [
    {
     "name": "stdout",
     "output_type": "stream",
     "text": [
      "0\n",
      "{'std_add': {'street': 'đường 1', 'district': 'bình chánh', 'city': 'hồ chí minh'}, 'str_add': 'đường 1 bình chánh hồ chí minh', 'NT_str_add': 'duong 1 binh chanh ho chi minh'}\n"
     ]
    }
   ],
   "source": [
    "for i in RAT_DATA:\n",
    "    print(i)\n",
    "    print(RAT_DATA[i])\n",
    "    break"
   ]
  },
  {
   "cell_type": "code",
   "execution_count": 6,
   "metadata": {},
   "outputs": [],
   "source": [
    "cur_ID = 0\n",
    "for i in RAT_DATA:\n",
    "    id2ID[i] = cur_ID\n",
    "    ID2id[cur_ID] = i \n",
    "    cur_ID += 1"
   ]
  },
  {
   "cell_type": "code",
   "execution_count": 8,
   "metadata": {},
   "outputs": [],
   "source": [
    "with open('Data/id2ID_Update.json', 'w', encoding='utf-8') as f:\n",
    "    json.dump(id2ID, f, ensure_ascii=False, indent=4)\n",
    "with open('Data/ID2id_Update.json', 'w', encoding='utf-8') as f:\n",
    "    json.dump(ID2id, f, ensure_ascii=False, indent=4)"
   ]
  },
  {
   "cell_type": "code",
   "execution_count": 4,
   "metadata": {},
   "outputs": [],
   "source": [
    "id2str_std_add = dict()\n",
    "for i in RAT_DATA:\n",
    "    id2str_std_add[i] = dict()\n",
    "    id2str_std_add[i]['str_add'] = RAT_DATA[i]['str_add']\n",
    "    id2str_std_add[i]['NT_str_add'] = RAT_DATA[i]['NT_str_add']"
   ]
  },
  {
   "cell_type": "code",
   "execution_count": 5,
   "metadata": {},
   "outputs": [],
   "source": [
    "with open('Data/id2str_std_add.json', 'w', encoding='utf-8') as f:\n",
    "    json.dump(id2str_std_add, f, ensure_ascii=False, indent=4)"
   ]
  },
  {
   "cell_type": "code",
   "execution_count": null,
   "metadata": {},
   "outputs": [],
   "source": []
  },
  {
   "cell_type": "markdown",
   "metadata": {},
   "source": [
    "# Test model"
   ]
  },
  {
   "cell_type": "code",
   "execution_count": 1,
   "metadata": {},
   "outputs": [
    {
     "name": "stderr",
     "output_type": "stream",
     "text": [
      "Using TensorFlow backend.\n"
     ]
    }
   ],
   "source": [
    "import keras \n",
    "import Siameser\n",
    "import gc"
   ]
  },
  {
   "cell_type": "code",
   "execution_count": 2,
   "metadata": {},
   "outputs": [
    {
     "name": "stdout",
     "output_type": "stream",
     "text": [
      "Load model\n",
      "Load sentence embedding model (If this is the first time you run this repo, It could be take time to download sentence embedding model)\n"
     ]
    },
    {
     "name": "stderr",
     "output_type": "stream",
     "text": [
      "/home/caohainam/anaconda3/envs/Siameser/lib/python3.6/site-packages/torch/cuda/__init__.py:80: UserWarning: CUDA initialization: The NVIDIA driver on your system is too old (found version 9010). Please update your GPU driver by downloading and installing a new version from the URL: http://www.nvidia.com/Download/index.aspx Alternatively, go to: https://pytorch.org to install a PyTorch version that has been compiled with your version of the CUDA driver. (Triggered internally at  ../c10/cuda/CUDAFunctions.cpp:112.)\n",
      "  return torch._C._cuda_getDeviceCount() > 0\n"
     ]
    },
    {
     "name": "stdout",
     "output_type": "stream",
     "text": [
      "Load standard address matrix\n",
      "Load standard address\n",
      "Done\n"
     ]
    }
   ],
   "source": [
    "std = Siameser.Siameser('AD')"
   ]
  },
  {
   "cell_type": "code",
   "execution_count": 3,
   "metadata": {},
   "outputs": [
    {
     "name": "stdout",
     "output_type": "stream",
     "text": [
      "[11970 25638 25831 21572 11650 11993 11989 33929  9328 24203]\n"
     ]
    },
    {
     "data": {
      "text/plain": [
       "[{'street': 'bùi mộng hoa', 'district': 'kiến an', 'city': 'hải phòng'},\n",
       " {'street': 'hồng sơn', 'district': 'vinh', 'city': 'nghệ an'},\n",
       " {'ward': 'hồng sơn', 'district': 'vinh', 'city': 'nghệ an'},\n",
       " {'district': 'kỳ sơn', 'city': 'hòa bình'},\n",
       " {'street': 'bình minh', 'district': 'đồ sơn', 'city': 'hải phòng'},\n",
       " {'street': 'hương sơn', 'district': 'kiến an', 'city': 'hải phòng'},\n",
       " {'street': 'hoa khê', 'district': 'kiến an', 'city': 'hải phòng'},\n",
       " {'ward': 'hương sơn', 'district': 'bình xuyên', 'city': 'vĩnh phúc'},\n",
       " {'street': 'đống công tường', 'district': 'cẩm lệ', 'city': 'đà nẵng'},\n",
       " {'ward': 'vân mộng', 'district': 'lộc bình', 'city': 'lạng sơn'}]"
      ]
     },
     "execution_count": 3,
     "metadata": {},
     "output_type": "execute_result"
    }
   ],
   "source": [
    "add = 'P.Hồng Sơn Thành phố Vinh, Nghệ An'\n",
    "std.get_top_k(add, 10)"
   ]
  },
  {
   "cell_type": "code",
   "execution_count": 4,
   "metadata": {},
   "outputs": [
    {
     "name": "stdout",
     "output_type": "stream",
     "text": [
      "23\n"
     ]
    }
   ],
   "source": [
    "print(len('080106_CARD1_all.dumps,'))"
   ]
  },
  {
   "cell_type": "code",
   "execution_count": 5,
   "metadata": {},
   "outputs": [],
   "source": [
    "with open('Data/VPS/fdm.txt') as f:\n",
    "    addresses = []\n",
    "    for line in f:\n",
    "        line = line[23:].strip('\\n')\n",
    "        addresses.append(line)"
   ]
  },
  {
   "cell_type": "code",
   "execution_count": 8,
   "metadata": {},
   "outputs": [
    {
     "data": {
      "text/plain": [
       "['134 Chùa Bộc Tổ 34 Quang Trung, Đống Đa, Hà Nội ',\n",
       " 'P. Ấp 3, Xuân Tân Xuân Lộc, Đồng Nai ',\n",
       " 'Phường 5, TP Cà Mau, Cà Mau ',\n",
       " 'Thị trấn Quỳ Hợp Huyện Quỳ Hợp, Nghệ An ',\n",
       " '25 Ngõ Hàng Thịt Cửa Nam, Hoàn Kiếm, Hà Nội ',\n",
       " 'TDP Số 2, Cổ Nhuế 2 Bắc Từ Liêm, Hà Nội ',\n",
       " 'Thanh Hưng 2 Vĩnh Bình, Hoà Bình, Bạc Liêu ',\n",
       " '9 ngõ 4 Hoàng Hoa Thám Thụy Khuê Tây Hồ, Hà Nội ',\n",
       " 'Khối 10 Hà Huy Tập, TP. Vinh, Nghệ An ',\n",
       " 'Đồng Mỹ TP Đồng Hới, Quảng Bình ']"
      ]
     },
     "execution_count": 8,
     "metadata": {},
     "output_type": "execute_result"
    }
   ],
   "source": [
    "addresses[:10]"
   ]
  },
  {
   "cell_type": "code",
   "execution_count": 12,
   "metadata": {},
   "outputs": [
    {
     "name": "stdout",
     "output_type": "stream",
     "text": [
      "Lê Hồng Phong Nguyễn Trãi, Hà Đông, Hà Nội \n",
      "{'street': 'lê hồng phong', 'district': 'hà đông', 'city': 'hà nội'}\n",
      "\n",
      "\n",
      "Văn Thành Huyện Yên Thành, Nghệ An \n",
      "{'ward': 'văn thành', 'district': 'yên thành', 'city': 'nghệ an'}\n",
      "\n",
      "\n",
      "P. Quảng Tiến Thị xã Sầm Sơn, Thanh Hoá \n",
      "{'ward': 'quảng tiến', 'district': 'sầm sơn', 'city': 'thanh hóa'}\n",
      "\n",
      "\n",
      "P507-G1 TT Trường THCSNDD, TXuân Bắc, TXuân, Hà Nội \n",
      "{'ward': 'tân hưng', 'district': 'quận 7', 'city': 'hồ chí minh'}\n",
      "\n",
      "\n",
      "Chi Quan 2, Liên Quan Thạch Thất, Hà Nội \n",
      "{'street': 'trung liệt', 'district': 'đống đa', 'city': 'hà nội'}\n",
      "\n",
      "\n",
      "Khối 4, Vĩnh Ph Điện Điện, Quảng Nam \n",
      "{'ward': 'gia đức', 'district': 'thủy nguyên', 'city': 'hải phòng'}\n",
      "\n",
      "\n",
      "57 Sơn Tây Kim Mã, Ba Đình, Hà Nội \n",
      "{'ward': 'tân long', 'district': 'phụng hiệp', 'city': 'hậu giang'}\n",
      "\n",
      "\n",
      "P. Hồng Sơn Thành phố Vinh, Nghệ An \n",
      "{'street': 'bùi mộng hoa', 'district': 'kiến an', 'city': 'hải phòng'}\n",
      "\n",
      "\n",
      "Đắc Sơn Phổ Yên-Thái Nguyên \n",
      "{'ward': 'đắc sơn', 'district': 'phổ yên', 'city': 'thái nguyên'}\n",
      "\n",
      "\n",
      "Xã Phù Khê Thị xã Từ Sơn, Bắc Ninh \n",
      "{'ward': 'phù khê', 'district': 'từ sơn', 'city': 'bắc ninh'}\n",
      "\n",
      "\n",
      "50/30 Đinh Tiên Eoàng, P1, BT, TP. Hồ Chí Minh \n",
      "{'street': 'lê lộ', 'district': 'tân phú', 'city': 'hồ chí minh'}\n",
      "\n",
      "\n",
      "Tân Thiện Thị xã Lang, Bình Thuận \n",
      "{'ward': 'thuận hòa', 'district': 'long mỹ', 'city': 'hậu giang'}\n",
      "\n",
      "\n",
      "Kiến Thành Đắk R'Lấp, Đắk Nông \n",
      "{'ward': 'kiến thành', 'district': \"dăk r'lấp\", 'city': 'đắk nông'}\n",
      "\n",
      "\n",
      "33/8A Hồ Lọc Nước Phường 6, Vũng Tàu, Bà Rịa - Vũng Tàu \n",
      "{'ward': 'thọ thắng', 'district': 'thọ xuân', 'city': 'thanh hóa'}\n",
      "\n",
      "\n",
      "112 Nguyễn An Ninh, Thành phố Pleiku, Gia Lai \n",
      "{'ward': 'quyết thắng', 'district': 'ninh giang', 'city': 'hải dương'}\n",
      "\n",
      "\n",
      "Khu phố 7 Phường 1, TP Đông Hà, Quảng Trị \n",
      "{'ward': 'tân phú', 'district': 'quận 7', 'city': 'hồ chí minh'}\n",
      "\n",
      "\n",
      "Thôn Mỹ Hòa Hòa Thắng, Phú Hòa, Phú Yên \n",
      "{'ward': 'hòa thắng', 'district': 'phú hòa', 'city': 'phú yên'}\n",
      "\n",
      "\n",
      "Phường Đống Đa Thành phố Pleiku, Gia Lai \n",
      "{'street': 'thi sách', 'district': 'plei ku', 'city': 'gia lai'}\n",
      "\n",
      "\n",
      "Hội Xương Suối Hiệp, Diên Khánh, Khánh Hoà \n",
      "{'street': 'tú xương', 'district': 'huế', 'city': 'thừa thiên huế'}\n",
      "\n",
      "\n",
      "Thanh Khê, Thanh Hà, Hải Dương \n",
      "{'ward': 'thanh khê', 'district': 'thanh hà', 'city': 'hải dương'}\n",
      "\n",
      "\n"
     ]
    }
   ],
   "source": [
    "for add in addresses[10:30]:\n",
    "    print(add)\n",
    "    std_add = std.standardize(add)\n",
    "    print(std_add)\n",
    "    print('\\n')\n",
    "    gc.collect()"
   ]
  },
  {
   "cell_type": "code",
   "execution_count": null,
   "metadata": {},
   "outputs": [],
   "source": []
  },
  {
   "cell_type": "code",
   "execution_count": null,
   "metadata": {},
   "outputs": [],
   "source": []
  },
  {
   "cell_type": "markdown",
   "metadata": {},
   "source": [
    "# Gen data to train model"
   ]
  },
  {
   "cell_type": "code",
   "execution_count": 45,
   "metadata": {},
   "outputs": [],
   "source": [
    "import Utils\n",
    "import json\n",
    "from transformers import AutoTokenizer, AutoModel\n",
    "import Parameters\n",
    "import random\n",
    "import torch\n",
    "from torch.utils.data import DataLoader, TensorDataset, SequentialSampler\n",
    "import numpy as np"
   ]
  },
  {
   "cell_type": "code",
   "execution_count": 6,
   "metadata": {},
   "outputs": [],
   "source": [
    "with open(Parameters.TRAIN_DATA_FILE, 'r', encoding='utf-8') as f:\n",
    "    train_data = json.load(f)\n",
    "with open(Parameters.NORM_ADDS_FILE, 'r', encoding='utf-8') as f:\n",
    "    RAT_DATA = json.load(f)\n",
    "\n",
    "num_negative = 15"
   ]
  },
  {
   "cell_type": "code",
   "execution_count": 7,
   "metadata": {},
   "outputs": [
    {
     "name": "stdout",
     "output_type": "stream",
     "text": [
      "1000\n",
      "35019\n"
     ]
    }
   ],
   "source": [
    "print(len(train_data['data']))\n",
    "print(len(RAT_DATA))"
   ]
  },
  {
   "cell_type": "code",
   "execution_count": 4,
   "metadata": {},
   "outputs": [
    {
     "name": "stdout",
     "output_type": "stream",
     "text": [
      "{'id': 0, 'noisy_add': 'đông lân 1 , phường bà điểm , hồ chí minh', 'std_add': {'1580': {'street': 'đông lân 1', 'city': 'hồ chí minh', 'id': 1580, 'district': 'hóc môn', 'ward': 'None'}}}\n"
     ]
    }
   ],
   "source": [
    "for i in range(len(train_data['data'])):\n",
    "    print(train_data['data'][i])\n",
    "    break"
   ]
  },
  {
   "cell_type": "code",
   "execution_count": 5,
   "metadata": {},
   "outputs": [
    {
     "data": {
      "text/plain": [
       "'dong lan 1 , phuong ba diem , ho chi minh'"
      ]
     },
     "execution_count": 5,
     "metadata": {},
     "output_type": "execute_result"
    }
   ],
   "source": [
    "# Preprocess.remove_punctuation('đông lân 1 , phường bà điểm , hồ chí minh')\n",
    "Utils.remove_tone_of_text('đông lân 1 , phường bà điểm , hồ chí minh')"
   ]
  },
  {
   "cell_type": "code",
   "execution_count": 15,
   "metadata": {},
   "outputs": [],
   "source": [
    "# tokenizer = AutoTokenizer.from_pretrained(Parameters.local_embedding_model)\n",
    "# print(tokenizer('đông lân 1 phường bà điểm hồ chí minh'))\n",
    "# print(tokenizer(Preprocess.remove_punctuation('đông lân 1 , phường bà điểm , hồ chí minh')))"
   ]
  },
  {
   "cell_type": "code",
   "execution_count": 16,
   "metadata": {},
   "outputs": [],
   "source": [
    "# tokenizer.convert_ids_to_tokens(tokenizer('đông lân 1 , phường bà điểm , hồ chí minh')['input_ids'])\n",
    "# tokenizer.convert_ids_to_tokens(tokenizer(Preprocess.remove_punctuation('đông lân 1 , phường bà điểm , hồ chí minh'))['input_ids'])"
   ]
  },
  {
   "cell_type": "code",
   "execution_count": 27,
   "metadata": {},
   "outputs": [
    {
     "name": "stdout",
     "output_type": "stream",
     "text": [
      "35019\n",
      "35018\n"
     ]
    }
   ],
   "source": [
    "id = [i for i in id2str_std_add]\n",
    "print(len(id))\n",
    "id.remove('0')\n",
    "print(len(id))"
   ]
  },
  {
   "cell_type": "code",
   "execution_count": 84,
   "metadata": {},
   "outputs": [],
   "source": [
    "data = []\n",
    "for i in range(len(train_data['data'])):\n",
    "    batch = []\n",
    "    sample = train_data['data'][i]\n",
    "    add = sample['noisy_add']\n",
    "    id = list(sample['std_add'].keys())[0]\n",
    "    # print(id2str_std_add[id])\n",
    "    id_list = [i for i in RAT_DATA]\n",
    "    random.shuffle(id_list)\n",
    "    id_list.remove(id)\n",
    "    negative_id = id_list[:num_negative]\n",
    "    if add == Utils.remove_tone_of_text(add):\n",
    "        str_std_add = RAT_DATA[id]['NT_str_add']\n",
    "        ent_vector = Utils.gen_entity_vector_from_std_add(RAT_DATA[id]['std_add'])\n",
    "        batch.append([add, str_std_add, ent_vector, 1.])\n",
    "        for neg_id in negative_id:\n",
    "            neg_std_add = RAT_DATA[neg_id]['NT_str_add']\n",
    "            ent_vector = Utils.gen_entity_vector_from_std_add(RAT_DATA[neg_id]['NT_std_add'])\n",
    "            batch.append([add, neg_std_add, ent_vector, -1.])\n",
    "    else:\n",
    "        str_std_add = RAT_DATA[id]['str_add']\n",
    "        ent_vector = Utils.gen_entity_vector_from_std_add(RAT_DATA[id]['std_add'])\n",
    "        batch.append([add, str_std_add, ent_vector, 1.])\n",
    "        for neg_id in negative_id:\n",
    "            neg_std_add = RAT_DATA[neg_id]['str_add']\n",
    "            ent_vector = Utils.gen_entity_vector_from_std_add(RAT_DATA[neg_id]['std_add'])\n",
    "            batch.append([add, neg_std_add, ent_vector, -1.])\n",
    "    data.append(batch)\n",
    "    break"
   ]
  },
  {
   "cell_type": "code",
   "execution_count": 85,
   "metadata": {},
   "outputs": [
    {
     "data": {
      "text/plain": [
       "[[['đông lân 1 , phường bà điểm , hồ chí minh',\n",
       "   'đông lân 1 hóc môn hồ chí minh',\n",
       "   array([[1., 0., 1., 1.]]),\n",
       "   1.0],\n",
       "  ['đông lân 1 , phường bà điểm , hồ chí minh',\n",
       "   'phú thịnh đại từ thái nguyên',\n",
       "   array([[0., 1., 1., 1.]]),\n",
       "   -1.0],\n",
       "  ['đông lân 1 , phường bà điểm , hồ chí minh',\n",
       "   'phan bội châu tam kỳ quảng nam',\n",
       "   array([[1., 0., 1., 1.]]),\n",
       "   -1.0],\n",
       "  ['đông lân 1 , phường bà điểm , hồ chí minh',\n",
       "   'vĩnh lộc bình chánh hồ chí minh',\n",
       "   array([[1., 0., 1., 1.]]),\n",
       "   -1.0],\n",
       "  ['đông lân 1 , phường bà điểm , hồ chí minh',\n",
       "   'quốc lộ 91 châu đốc an giang',\n",
       "   array([[1., 0., 1., 1.]]),\n",
       "   -1.0],\n",
       "  ['đông lân 1 , phường bà điểm , hồ chí minh',\n",
       "   'canh nông 2 hải dương hải dương',\n",
       "   array([[1., 0., 1., 1.]]),\n",
       "   -1.0],\n",
       "  ['đông lân 1 , phường bà điểm , hồ chí minh',\n",
       "   'trương tấn sang đức hòa long an',\n",
       "   array([[1., 0., 1., 1.]]),\n",
       "   -1.0],\n",
       "  ['đông lân 1 , phường bà điểm , hồ chí minh',\n",
       "   'yên hợp văn yên yên bái',\n",
       "   array([[0., 1., 1., 1.]]),\n",
       "   -1.0],\n",
       "  ['đông lân 1 , phường bà điểm , hồ chí minh',\n",
       "   'đa phước 2 ngũ hành sơn đà nẵng',\n",
       "   array([[1., 0., 1., 1.]]),\n",
       "   -1.0],\n",
       "  ['đông lân 1 , phường bà điểm , hồ chí minh',\n",
       "   'nguyễn văn linh 2 bến lức long an',\n",
       "   array([[1., 0., 1., 1.]]),\n",
       "   -1.0],\n",
       "  ['đông lân 1 , phường bà điểm , hồ chí minh',\n",
       "   'phan chu trinh tam kỳ quảng nam',\n",
       "   array([[1., 0., 1., 1.]]),\n",
       "   -1.0],\n",
       "  ['đông lân 1 , phường bà điểm , hồ chí minh',\n",
       "   'võ nghĩa sơn trà đà nẵng',\n",
       "   array([[1., 0., 1., 1.]]),\n",
       "   -1.0],\n",
       "  ['đông lân 1 , phường bà điểm , hồ chí minh',\n",
       "   'quảng vinh quảng xương thanh hóa',\n",
       "   array([[0., 1., 1., 1.]]),\n",
       "   -1.0],\n",
       "  ['đông lân 1 , phường bà điểm , hồ chí minh',\n",
       "   'quốc lộ 8a hương sơn hà tĩnh',\n",
       "   array([[1., 0., 1., 1.]]),\n",
       "   -1.0],\n",
       "  ['đông lân 1 , phường bà điểm , hồ chí minh',\n",
       "   'quang thịnh lạng giang bắc giang',\n",
       "   array([[0., 1., 1., 1.]]),\n",
       "   -1.0],\n",
       "  ['đông lân 1 , phường bà điểm , hồ chí minh',\n",
       "   'hoa thành yên thành nghệ an',\n",
       "   array([[0., 1., 1., 1.]]),\n",
       "   -1.0]]]"
      ]
     },
     "execution_count": 85,
     "metadata": {},
     "output_type": "execute_result"
    }
   ],
   "source": [
    "data"
   ]
  },
  {
   "cell_type": "code",
   "execution_count": 65,
   "metadata": {},
   "outputs": [],
   "source": [
    "tokenizer = AutoTokenizer.from_pretrained(Parameters.local_embedding_model)\n",
    "embedding_model = AutoModel.from_pretrained(Parameters.local_embedding_model)"
   ]
  },
  {
   "cell_type": "code",
   "execution_count": 66,
   "metadata": {},
   "outputs": [],
   "source": [
    "class AddressStandardization(torch.nn.Module):\n",
    "    def __init__(self, embedding_model):\n",
    "        super(AddressStandardization, self).__init__()\n",
    "        self.embedding_model = embedding_model\n",
    "\n",
    "    def forward(self, raw_ids, raw_mask, raw_ent_vectors, std_ids, std_mask, std_ent_vectors):\n",
    "        raw_vector = torch.cat((self.embedding_model(raw_ids, raw_mask)['last_hidden_state'][:, 0, :], raw_ent_vectors), axis=1)\n",
    "        std_vector = torch.cat((self.embedding_model(std_ids, std_mask)['last_hidden_state'][:, 0, :], std_ent_vectors), axis=1)\n",
    "        return torch.nn.CosineSimilarity(dim=1, eps=1e-6)(raw_vector, std_vector)"
   ]
  },
  {
   "cell_type": "code",
   "execution_count": 50,
   "metadata": {},
   "outputs": [],
   "source": [
    "model = AddressStandardization(embedding_model)"
   ]
  },
  {
   "cell_type": "code",
   "execution_count": 67,
   "metadata": {},
   "outputs": [
    {
     "data": {
      "text/plain": [
       "['đông lân 1 , phường bà điểm , hồ chí minh',\n",
       " 'lý ông trọng đà lạt lâm đồng',\n",
       " array([[1., 0., 1., 1.]]),\n",
       " -1.0]"
      ]
     },
     "execution_count": 67,
     "metadata": {},
     "output_type": "execute_result"
    }
   ],
   "source": [
    "x = data[0][0]\n",
    "x"
   ]
  },
  {
   "cell_type": "code",
   "execution_count": 68,
   "metadata": {},
   "outputs": [
    {
     "data": {
      "text/plain": [
       "16"
      ]
     },
     "execution_count": 68,
     "metadata": {},
     "output_type": "execute_result"
    }
   ],
   "source": [
    "len(data[0])"
   ]
  },
  {
   "cell_type": "code",
   "execution_count": 81,
   "metadata": {},
   "outputs": [],
   "source": [
    "def GenericDataLoader(data, batch_size):\n",
    "    # raw_add, raw_entity, std_add, std_entity = GenericData()\n",
    "    raw_ids, raw_masks, raw_ent_vectors, std_ids, std_masks, std_ent_vectors, labels = [], [], [], [], [], [], []    \n",
    "    for batch in data:\n",
    "        raw_add = batch[0][0]\n",
    "        raw_ent_vector = Utils.gen_entity_vector_from_raw_add(raw_add)\n",
    "        for sample in batch:\n",
    "            raw_add, std_add, std_ent_vector, label = sample\n",
    "            raw_input = tokenizer(raw_add, return_tensors=\"np\", padding='max_length', truncation=True, max_length=32)\n",
    "            raw_ids.append(raw_input['input_ids'][0])\n",
    "            raw_masks.append(raw_input['attention_mask'][0])\n",
    "            \n",
    "            std_input = tokenizer(std_add, return_tensors=\"np\", padding='max_length', truncation=True, max_length=32)\n",
    "            std_ids.append(std_input['input_ids'][0])\n",
    "            std_masks.append(std_input['attention_mask'][0])\n",
    "\n",
    "            raw_ent_vectors.append(raw_ent_vector)\n",
    "            std_ent_vectors.append(std_ent_vector)\n",
    "\n",
    "            labels.append(label)\n",
    "\n",
    "    raw_ids = torch.tensor(np.array(raw_ids))\n",
    "    raw_masks = torch.tensor(np.array(raw_masks))\n",
    "    raw_ent_vectors = torch.tensor(np.array(raw_ent_vectors))\n",
    "\n",
    "    std_ids = torch.tensor(np.array(std_ids))\n",
    "    std_masks = torch.tensor(np.array(std_masks))\n",
    "    std_ent_vectors = torch.tensor(np.array(std_ent_vectors))\n",
    "\n",
    "    labels = torch.tensor(np.array(labels))\n",
    "\n",
    "    data = TensorDataset(raw_ids, raw_masks, raw_ent_vectors, std_ids, std_masks, std_ent_vectors, labels)\n",
    "    sampler = SequentialSampler(data)\n",
    "    dataloader = DataLoader(data, sampler=sampler, batch_size=batch_size)\n",
    "    return dataloader"
   ]
  },
  {
   "cell_type": "code",
   "execution_count": 86,
   "metadata": {},
   "outputs": [],
   "source": [
    "train_dataloader = GenericDataLoader(data, 4)"
   ]
  },
  {
   "cell_type": "code",
   "execution_count": 90,
   "metadata": {},
   "outputs": [
    {
     "name": "stdout",
     "output_type": "stream",
     "text": [
      "torch.Size([4, 32])\n",
      "torch.Size([4, 4])\n",
      "torch.Size([4])\n",
      "torch.Size([4])\n",
      "tensor([ 1., -1., -1., -1.], dtype=torch.float64)\n",
      "tensor([0.8928, 0.6273, 0.7392, 0.7991], dtype=torch.float64,\n",
      "       grad_fn=<DivBackward0>)\n",
      "tensor(2.2303, dtype=torch.float64, grad_fn=<MseLossBackward0>)\n",
      "torch.Size([4, 32])\n",
      "torch.Size([4, 4])\n",
      "torch.Size([4])\n",
      "torch.Size([4])\n",
      "tensor([-1., -1., -1., -1.], dtype=torch.float64)\n",
      "tensor([0.6604, 0.6613, 0.6560, 0.6165], dtype=torch.float64,\n",
      "       grad_fn=<DivBackward0>)\n",
      "tensor(2.7180, dtype=torch.float64, grad_fn=<MseLossBackward0>)\n",
      "torch.Size([4, 32])\n",
      "torch.Size([4, 4])\n",
      "torch.Size([4])\n",
      "torch.Size([4])\n",
      "tensor([-1., -1., -1., -1.], dtype=torch.float64)\n",
      "tensor([0.7181, 0.7047, 0.7124, 0.6488], dtype=torch.float64,\n",
      "       grad_fn=<DivBackward0>)\n",
      "tensor(2.8772, dtype=torch.float64, grad_fn=<MseLossBackward0>)\n",
      "torch.Size([4, 32])\n",
      "torch.Size([4, 4])\n",
      "torch.Size([4])\n",
      "torch.Size([4])\n",
      "tensor([-1., -1., -1., -1.], dtype=torch.float64)\n",
      "tensor([0.6610, 0.7193, 0.7161, 0.5961], dtype=torch.float64,\n",
      "       grad_fn=<DivBackward0>)\n",
      "tensor(2.8019, dtype=torch.float64, grad_fn=<MseLossBackward0>)\n"
     ]
    }
   ],
   "source": [
    "for step, batch in enumerate(train_dataloader):\n",
    "    b_raw_ids = batch[0]\n",
    "    b_raw_mask = batch[1]\n",
    "    b_raw_entity = batch[2].reshape(-1, 4)\n",
    "    b_std_ids = batch[3]\n",
    "    b_std_mask = batch[4]\n",
    "    b_std_entity = batch[5].reshape(-1, 4)\n",
    "    b_labels = batch[6]\n",
    "\n",
    "    print(b_raw_ids.shape)\n",
    "    print(b_raw_entity.shape)\n",
    "    print(b_labels.shape)\n",
    "    model.zero_grad()\n",
    "    outputs = model(b_raw_ids,\n",
    "                    b_raw_mask,\n",
    "                    b_raw_entity,\n",
    "                    b_std_ids,\n",
    "                    b_std_mask,\n",
    "                    b_std_entity \n",
    "                    )\n",
    "    print(outputs.shape)\n",
    "    print(b_labels)\n",
    "    print(outputs)\n",
    "    loss = torch.nn.MSELoss()(outputs, b_labels)\n",
    "    print(loss)\n",
    "    # break"
   ]
  },
  {
   "cell_type": "code",
   "execution_count": 74,
   "metadata": {},
   "outputs": [
    {
     "data": {
      "text/plain": [
       "tensor([0.6575, 0.7009, 0.6831, 0.7807], dtype=torch.float64,\n",
       "       grad_fn=<DivBackward0>)"
      ]
     },
     "execution_count": 74,
     "metadata": {},
     "output_type": "execute_result"
    }
   ],
   "source": [
    "outputs"
   ]
  },
  {
   "cell_type": "code",
   "execution_count": null,
   "metadata": {},
   "outputs": [],
   "source": []
  }
 ],
 "metadata": {
  "interpreter": {
   "hash": "61bdd0b55a49579dae41aeb58461067260e1c949b651649dce2924a71b019886"
  },
  "kernelspec": {
   "display_name": "Python 3.6.8 ('Siameser')",
   "language": "python",
   "name": "python3"
  },
  "language_info": {
   "codemirror_mode": {
    "name": "ipython",
    "version": 3
   },
   "file_extension": ".py",
   "mimetype": "text/x-python",
   "name": "python",
   "nbconvert_exporter": "python",
   "pygments_lexer": "ipython3",
   "version": "3.6.8"
  }
 },
 "nbformat": 4,
 "nbformat_minor": 2
}
