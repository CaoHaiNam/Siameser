{
 "cells": [
  {
   "cell_type": "code",
   "execution_count": 1,
   "metadata": {},
   "outputs": [],
   "source": [
    "import json"
   ]
  },
  {
   "cell_type": "code",
   "execution_count": 2,
   "metadata": {},
   "outputs": [],
   "source": [
    "with open('train.json', 'r', encoding='utf-8') as f:\n",
    "    data = json.load(f)"
   ]
  },
  {
   "cell_type": "code",
   "execution_count": 10,
   "metadata": {},
   "outputs": [
    {
     "data": {
      "text/plain": [
       "{'id': 0,\n",
       " 'noisy_add': 'đông lân 1 , phường bà điểm , hồ chí minh',\n",
       " 'std_add': {'1580': {'street': 'đông lân 1',\n",
       "   'city': 'hồ chí minh',\n",
       "   'id': 1580,\n",
       "   'district': 'hóc môn',\n",
       "   'ward': 'None'}}}"
      ]
     },
     "execution_count": 10,
     "metadata": {},
     "output_type": "execute_result"
    }
   ],
   "source": [
    "data['data'][0]"
   ]
  },
  {
   "cell_type": "code",
   "execution_count": 15,
   "metadata": {},
   "outputs": [],
   "source": [
    "def gen_data(data_file, num_sample):\n",
    "    with open(data_file, 'r', encoding='utf-8') as f:\n",
    "        data = json.load(f)\n",
    "\n",
    "    x = dict()\n",
    "    x['data'] = []\n",
    "    for i in range(num_sample):\n",
    "        x['data'].append(data['data'][i])\n",
    "    return x"
   ]
  },
  {
   "cell_type": "code",
   "execution_count": 16,
   "metadata": {},
   "outputs": [],
   "source": [
    "train_data = gen_data('train.json', 1000)\n",
    "with open('Siameser/Data/train.json', 'w', encoding='utf-8') as f:\n",
    "    json.dump(train_data, f, ensure_ascii=False, indent=4)"
   ]
  },
  {
   "cell_type": "code",
   "execution_count": 17,
   "metadata": {},
   "outputs": [],
   "source": [
    "test_data = gen_data('test.json', 500)\n",
    "with open('Siameser/Data/test.json', 'w', encoding='utf-8') as f:\n",
    "    json.dump(test_data, f, ensure_ascii=False, indent=4)"
   ]
  },
  {
   "cell_type": "code",
   "execution_count": 18,
   "metadata": {},
   "outputs": [],
   "source": [
    "with open('Siameser/Data/RAT_DATA_MAIN.json', 'r', encoding='utf-8') as f:\n",
    "    RAT_DATA = json.load(f)"
   ]
  },
  {
   "cell_type": "code",
   "execution_count": null,
   "metadata": {},
   "outputs": [],
   "source": [
    "RAT_DATA"
   ]
  },
  {
   "cell_type": "code",
   "execution_count": 21,
   "metadata": {},
   "outputs": [],
   "source": [
    "std_addresses = []\n",
    "for sample in RAT_DATA['data']:\n",
    "    std_addresses.append(sample['norm_add'])"
   ]
  },
  {
   "cell_type": "code",
   "execution_count": 25,
   "metadata": {},
   "outputs": [],
   "source": [
    "# from collections import Counter\n",
    "# for i in Counter(std_addresses):\n",
    "#     print(i)\n",
    "#     break"
   ]
  },
  {
   "cell_type": "code",
   "execution_count": 26,
   "metadata": {},
   "outputs": [],
   "source": [
    "x = dict(Counter(std_addresses))\n",
    "hard_add = []\n",
    "for i in x:\n",
    "    if x[i] > 1:\n",
    "        hard_add.append(i)"
   ]
  },
  {
   "cell_type": "code",
   "execution_count": 28,
   "metadata": {},
   "outputs": [
    {
     "data": {
      "text/plain": [
       "515"
      ]
     },
     "execution_count": 28,
     "metadata": {},
     "output_type": "execute_result"
    }
   ],
   "source": [
    "len(hard_add)"
   ]
  },
  {
   "cell_type": "code",
   "execution_count": 31,
   "metadata": {},
   "outputs": [],
   "source": [
    "hard_id = []\n",
    "for sample in RAT_DATA['data']:\n",
    "    if sample['norm_add'] in hard_add:\n",
    "        hard_id.append(sample['id'])"
   ]
  },
  {
   "cell_type": "code",
   "execution_count": 34,
   "metadata": {},
   "outputs": [],
   "source": [
    "# hard_id"
   ]
  },
  {
   "cell_type": "code",
   "execution_count": 42,
   "metadata": {},
   "outputs": [],
   "source": [
    "with open('train.json', 'r', encoding='utf-8') as f:\n",
    "    data = json.load(f)\n",
    "hard_sample = []\n",
    "for sample in data['data']:\n",
    "    id = (list(sample['std_add'].keys())[0])\n",
    "    if sample['std_add'][id]['id'] in hard_id:\n",
    "        hard_sample.append(sample)  "
   ]
  },
  {
   "cell_type": "code",
   "execution_count": 1,
   "metadata": {},
   "outputs": [
    {
     "ename": "NameError",
     "evalue": "name 'hard_sample' is not defined",
     "output_type": "error",
     "traceback": [
      "\u001b[0;31m---------------------------------------------------------------------------\u001b[0m",
      "\u001b[0;31mNameError\u001b[0m                                 Traceback (most recent call last)",
      "\u001b[0;32m<ipython-input-1-5520db99db4d>\u001b[0m in \u001b[0;36m<module>\u001b[0;34m\u001b[0m\n\u001b[0;32m----> 1\u001b[0;31m \u001b[0mhard_sample\u001b[0m\u001b[0;34m\u001b[0m\u001b[0;34m\u001b[0m\u001b[0m\n\u001b[0m",
      "\u001b[0;31mNameError\u001b[0m: name 'hard_sample' is not defined"
     ]
    }
   ],
   "source": [
    "hard_sample"
   ]
  },
  {
   "cell_type": "code",
   "execution_count": 45,
   "metadata": {},
   "outputs": [],
   "source": [
    "with open('Siameser/Data/hard_train.json', 'w', encoding='utf-8') as f:\n",
    "    json.dump(test_data, f, ensure_ascii=False, indent=4)"
   ]
  },
  {
   "cell_type": "code",
   "execution_count": null,
   "metadata": {},
   "outputs": [],
   "source": []
  },
  {
   "cell_type": "code",
   "execution_count": null,
   "metadata": {},
   "outputs": [],
   "source": []
  },
  {
   "cell_type": "code",
   "execution_count": 1,
   "metadata": {},
   "outputs": [],
   "source": [
    "import json"
   ]
  },
  {
   "cell_type": "code",
   "execution_count": 2,
   "metadata": {},
   "outputs": [],
   "source": [
    "with open ('Data/train.json', 'r', encoding='utf-8') as f:\n",
    "    train_data = json.load(f)"
   ]
  },
  {
   "cell_type": "code",
   "execution_count": null,
   "metadata": {},
   "outputs": [],
   "source": [
    "train_data"
   ]
  },
  {
   "cell_type": "code",
   "execution_count": null,
   "metadata": {},
   "outputs": [],
   "source": []
  },
  {
   "cell_type": "markdown",
   "metadata": {},
   "source": [
    "# Add more standard address"
   ]
  },
  {
   "cell_type": "code",
   "execution_count": 30,
   "metadata": {},
   "outputs": [],
   "source": [
    "import json\n",
    "with open ('Data/RAT_DATA_MAIN_New.json', 'r', encoding='utf-8') as f:\n",
    "    RAT_DATA = json.load(f)"
   ]
  },
  {
   "cell_type": "code",
   "execution_count": 4,
   "metadata": {},
   "outputs": [],
   "source": [
    "# x = dict()\n",
    "# for i in RAT_DATA['data']:\n",
    "#     # print(i)\n",
    "#     id = i['id']\n",
    "#     x[id] = dict()\n",
    "#     x[id]['std_add'] = i['std_add']\n",
    "#     x[id]['str_add'] = i['norm_add']\n",
    "#     x[id]['NT_str_add'] = i['NT_norm_add']\n",
    "#     # break"
   ]
  },
  {
   "cell_type": "code",
   "execution_count": 10,
   "metadata": {},
   "outputs": [],
   "source": [
    "id = list(x.keys())"
   ]
  },
  {
   "cell_type": "code",
   "execution_count": 11,
   "metadata": {},
   "outputs": [
    {
     "name": "stdout",
     "output_type": "stream",
     "text": [
      "34481\n",
      "36660\n"
     ]
    }
   ],
   "source": [
    "print(len(id))\n",
    "print(id[-1])"
   ]
  },
  {
   "cell_type": "code",
   "execution_count": 8,
   "metadata": {},
   "outputs": [],
   "source": [
    "# with open('Data/RAT_DATA_MAIN_New.json', 'w', encoding='utf-8') as f:\n",
    "#     json.dump(x, f, ensure_ascii=False, indent=4)"
   ]
  },
  {
   "cell_type": "code",
   "execution_count": 35,
   "metadata": {},
   "outputs": [],
   "source": [
    "data = []\n",
    "for i in RAT_DATA:\n",
    "    # print(RAT_DATA[i]['std_add'])\n",
    "    std_add = RAT_DATA[i]['std_add']\n",
    "    std_add['id'] = i\n",
    "    if 'ward' not in std_add:\n",
    "        std_add['ward'] = 'None'\n",
    "    elif 'street' not in std_add:\n",
    "        std_add['street'] = 'None'\n",
    "    elif 'ward' not in std_add and 'street' not in std_add:\n",
    "        std_add['ward'] = 'None'\n",
    "        std_add['street'] = 'None'\n",
    "    data.append(std_add)\n",
    "    # break "
   ]
  },
  {
   "cell_type": "code",
   "execution_count": 36,
   "metadata": {},
   "outputs": [
    {
     "data": {
      "text/plain": [
       "34481"
      ]
     },
     "execution_count": 36,
     "metadata": {},
     "output_type": "execute_result"
    }
   ],
   "source": [
    "len(data)"
   ]
  },
  {
   "cell_type": "code",
   "execution_count": 68,
   "metadata": {},
   "outputs": [],
   "source": [
    "# data\n",
    "import pandas as pd \n",
    "df = pd.DataFrame.from_dict(data, orient='columns')"
   ]
  },
  {
   "cell_type": "code",
   "execution_count": 69,
   "metadata": {},
   "outputs": [],
   "source": [
    "new_df = df.drop(columns=['street', 'ward', 'id'])"
   ]
  },
  {
   "cell_type": "code",
   "execution_count": 70,
   "metadata": {},
   "outputs": [
    {
     "data": {
      "text/html": [
       "<div>\n",
       "<style scoped>\n",
       "    .dataframe tbody tr th:only-of-type {\n",
       "        vertical-align: middle;\n",
       "    }\n",
       "\n",
       "    .dataframe tbody tr th {\n",
       "        vertical-align: top;\n",
       "    }\n",
       "\n",
       "    .dataframe thead th {\n",
       "        text-align: right;\n",
       "    }\n",
       "</style>\n",
       "<table border=\"1\" class=\"dataframe\">\n",
       "  <thead>\n",
       "    <tr style=\"text-align: right;\">\n",
       "      <th></th>\n",
       "      <th>district</th>\n",
       "      <th>city</th>\n",
       "    </tr>\n",
       "  </thead>\n",
       "  <tbody>\n",
       "    <tr>\n",
       "      <th>0</th>\n",
       "      <td>bình chánh</td>\n",
       "      <td>hồ chí minh</td>\n",
       "    </tr>\n",
       "    <tr>\n",
       "      <th>1</th>\n",
       "      <td>bình chánh</td>\n",
       "      <td>hồ chí minh</td>\n",
       "    </tr>\n",
       "    <tr>\n",
       "      <th>2</th>\n",
       "      <td>bình chánh</td>\n",
       "      <td>hồ chí minh</td>\n",
       "    </tr>\n",
       "    <tr>\n",
       "      <th>3</th>\n",
       "      <td>bình chánh</td>\n",
       "      <td>hồ chí minh</td>\n",
       "    </tr>\n",
       "    <tr>\n",
       "      <th>4</th>\n",
       "      <td>bình chánh</td>\n",
       "      <td>hồ chí minh</td>\n",
       "    </tr>\n",
       "    <tr>\n",
       "      <th>...</th>\n",
       "      <td>...</td>\n",
       "      <td>...</td>\n",
       "    </tr>\n",
       "    <tr>\n",
       "      <th>34476</th>\n",
       "      <td>yên bình</td>\n",
       "      <td>yên bái</td>\n",
       "    </tr>\n",
       "    <tr>\n",
       "      <th>34477</th>\n",
       "      <td>yên bình</td>\n",
       "      <td>yên bái</td>\n",
       "    </tr>\n",
       "    <tr>\n",
       "      <th>34478</th>\n",
       "      <td>yên bình</td>\n",
       "      <td>yên bái</td>\n",
       "    </tr>\n",
       "    <tr>\n",
       "      <th>34479</th>\n",
       "      <td>yên bình</td>\n",
       "      <td>yên bái</td>\n",
       "    </tr>\n",
       "    <tr>\n",
       "      <th>34480</th>\n",
       "      <td>yên bình</td>\n",
       "      <td>yên bái</td>\n",
       "    </tr>\n",
       "  </tbody>\n",
       "</table>\n",
       "<p>34481 rows × 2 columns</p>\n",
       "</div>"
      ],
      "text/plain": [
       "         district         city\n",
       "0      bình chánh  hồ chí minh\n",
       "1      bình chánh  hồ chí minh\n",
       "2      bình chánh  hồ chí minh\n",
       "3      bình chánh  hồ chí minh\n",
       "4      bình chánh  hồ chí minh\n",
       "...           ...          ...\n",
       "34476    yên bình      yên bái\n",
       "34477    yên bình      yên bái\n",
       "34478    yên bình      yên bái\n",
       "34479    yên bình      yên bái\n",
       "34480    yên bình      yên bái\n",
       "\n",
       "[34481 rows x 2 columns]"
      ]
     },
     "execution_count": 70,
     "metadata": {},
     "output_type": "execute_result"
    }
   ],
   "source": [
    "new_df"
   ]
  },
  {
   "cell_type": "code",
   "execution_count": 71,
   "metadata": {},
   "outputs": [],
   "source": [
    "new_df = new_df.drop_duplicates()"
   ]
  },
  {
   "cell_type": "code",
   "execution_count": 72,
   "metadata": {},
   "outputs": [
    {
     "data": {
      "text/html": [
       "<div>\n",
       "<style scoped>\n",
       "    .dataframe tbody tr th:only-of-type {\n",
       "        vertical-align: middle;\n",
       "    }\n",
       "\n",
       "    .dataframe tbody tr th {\n",
       "        vertical-align: top;\n",
       "    }\n",
       "\n",
       "    .dataframe thead th {\n",
       "        text-align: right;\n",
       "    }\n",
       "</style>\n",
       "<table border=\"1\" class=\"dataframe\">\n",
       "  <thead>\n",
       "    <tr style=\"text-align: right;\">\n",
       "      <th></th>\n",
       "      <th>district</th>\n",
       "      <th>city</th>\n",
       "    </tr>\n",
       "  </thead>\n",
       "  <tbody>\n",
       "    <tr>\n",
       "      <th>0</th>\n",
       "      <td>bình chánh</td>\n",
       "      <td>hồ chí minh</td>\n",
       "    </tr>\n",
       "    <tr>\n",
       "      <th>298</th>\n",
       "      <td>bình tân</td>\n",
       "      <td>hồ chí minh</td>\n",
       "    </tr>\n",
       "    <tr>\n",
       "      <th>697</th>\n",
       "      <td>bình thạnh</td>\n",
       "      <td>hồ chí minh</td>\n",
       "    </tr>\n",
       "    <tr>\n",
       "      <th>861</th>\n",
       "      <td>cần giờ</td>\n",
       "      <td>hồ chí minh</td>\n",
       "    </tr>\n",
       "    <tr>\n",
       "      <th>923</th>\n",
       "      <td>củ chi</td>\n",
       "      <td>hồ chí minh</td>\n",
       "    </tr>\n",
       "    <tr>\n",
       "      <th>...</th>\n",
       "      <td>...</td>\n",
       "      <td>...</td>\n",
       "    </tr>\n",
       "    <tr>\n",
       "      <th>34264</th>\n",
       "      <td>trấn yên</td>\n",
       "      <td>yên bái</td>\n",
       "    </tr>\n",
       "    <tr>\n",
       "      <th>34280</th>\n",
       "      <td>văn chấn</td>\n",
       "      <td>yên bái</td>\n",
       "    </tr>\n",
       "    <tr>\n",
       "      <th>34312</th>\n",
       "      <td>văn yên</td>\n",
       "      <td>yên bái</td>\n",
       "    </tr>\n",
       "    <tr>\n",
       "      <th>34359</th>\n",
       "      <td>yên bái</td>\n",
       "      <td>yên bái</td>\n",
       "    </tr>\n",
       "    <tr>\n",
       "      <th>34456</th>\n",
       "      <td>yên bình</td>\n",
       "      <td>yên bái</td>\n",
       "    </tr>\n",
       "  </tbody>\n",
       "</table>\n",
       "<p>705 rows × 2 columns</p>\n",
       "</div>"
      ],
      "text/plain": [
       "         district         city\n",
       "0      bình chánh  hồ chí minh\n",
       "298      bình tân  hồ chí minh\n",
       "697    bình thạnh  hồ chí minh\n",
       "861       cần giờ  hồ chí minh\n",
       "923        củ chi  hồ chí minh\n",
       "...           ...          ...\n",
       "34264    trấn yên      yên bái\n",
       "34280    văn chấn      yên bái\n",
       "34312     văn yên      yên bái\n",
       "34359     yên bái      yên bái\n",
       "34456    yên bình      yên bái\n",
       "\n",
       "[705 rows x 2 columns]"
      ]
     },
     "execution_count": 72,
     "metadata": {},
     "output_type": "execute_result"
    }
   ],
   "source": [
    "new_df"
   ]
  },
  {
   "cell_type": "code",
   "execution_count": 53,
   "metadata": {},
   "outputs": [],
   "source": [
    "exist_addresses = set()\n",
    "for i in RAT_DATA:\n",
    "    # print(RAT_DATA[i]['std_add'])\n",
    "    # break\n",
    "    x = RAT_DATA[i]['std_add']\n",
    "    if x['street'] == 'None' and x['ward'] == 'None':\n",
    "        exist_addresses.add(x['district']+x['city'])"
   ]
  },
  {
   "cell_type": "code",
   "execution_count": 55,
   "metadata": {},
   "outputs": [],
   "source": [
    "# len(exist_addresses)\n",
    "exist_addresses = list(exist_addresses)"
   ]
  },
  {
   "cell_type": "code",
   "execution_count": 65,
   "metadata": {},
   "outputs": [
    {
     "data": {
      "text/plain": [
       "['tiên dubắc ninh',\n",
       " 'tam dươngvĩnh phúc',\n",
       " 'bàu bàngbình dương',\n",
       " 'tân uyênbình dương',\n",
       " 'hải châuđà nẵng',\n",
       " 'hà đônghà nội',\n",
       " 'đan phượnghà nội',\n",
       " 'bến cátbình dương',\n",
       " 'tây hồhà nội',\n",
       " 'quận 2hồ chí minh',\n",
       " 'phú nhuậnhồ chí minh',\n",
       " 'sông côngthái nguyên',\n",
       " 'quận 7hồ chí minh',\n",
       " 'rạch giákiên giang',\n",
       " 'quy nhơnbình định',\n",
       " 'hàm thuận nambình thuận',\n",
       " 'gò vấphồ chí minh',\n",
       " 'thủ đứchồ chí minh',\n",
       " 'thủ thừalong an',\n",
       " 'quận 9hồ chí minh']"
      ]
     },
     "execution_count": 65,
     "metadata": {},
     "output_type": "execute_result"
    }
   ],
   "source": [
    "exist_addresses[:20]"
   ]
  },
  {
   "cell_type": "code",
   "execution_count": 74,
   "metadata": {},
   "outputs": [
    {
     "name": "stderr",
     "output_type": "stream",
     "text": [
      "<ipython-input-74-bbc2befc6f01>:7: SettingWithCopyWarning: \n",
      "A value is trying to be set on a copy of a slice from a DataFrame.\n",
      "Try using .loc[row_indexer,col_indexer] = value instead\n",
      "\n",
      "See the caveats in the documentation: https://pandas.pydata.org/pandas-docs/stable/user_guide/indexing.html#returning-a-view-versus-a-copy\n",
      "  new_df['str_address'] = str_addresses\n"
     ]
    }
   ],
   "source": [
    "str_addresses = []\n",
    "for index, row in new_df.iterrows():\n",
    "    # print(row['district'])\n",
    "    # print(row['city'])\n",
    "    str_addresses.append(row['district']+row['city'])\n",
    "    # break\n",
    "new_df['str_address'] = str_addresses"
   ]
  },
  {
   "cell_type": "code",
   "execution_count": 75,
   "metadata": {},
   "outputs": [
    {
     "data": {
      "text/html": [
       "<div>\n",
       "<style scoped>\n",
       "    .dataframe tbody tr th:only-of-type {\n",
       "        vertical-align: middle;\n",
       "    }\n",
       "\n",
       "    .dataframe tbody tr th {\n",
       "        vertical-align: top;\n",
       "    }\n",
       "\n",
       "    .dataframe thead th {\n",
       "        text-align: right;\n",
       "    }\n",
       "</style>\n",
       "<table border=\"1\" class=\"dataframe\">\n",
       "  <thead>\n",
       "    <tr style=\"text-align: right;\">\n",
       "      <th></th>\n",
       "      <th>district</th>\n",
       "      <th>city</th>\n",
       "      <th>str_address</th>\n",
       "    </tr>\n",
       "  </thead>\n",
       "  <tbody>\n",
       "    <tr>\n",
       "      <th>0</th>\n",
       "      <td>bình chánh</td>\n",
       "      <td>hồ chí minh</td>\n",
       "      <td>bình chánhhồ chí minh</td>\n",
       "    </tr>\n",
       "    <tr>\n",
       "      <th>298</th>\n",
       "      <td>bình tân</td>\n",
       "      <td>hồ chí minh</td>\n",
       "      <td>bình tânhồ chí minh</td>\n",
       "    </tr>\n",
       "    <tr>\n",
       "      <th>697</th>\n",
       "      <td>bình thạnh</td>\n",
       "      <td>hồ chí minh</td>\n",
       "      <td>bình thạnhhồ chí minh</td>\n",
       "    </tr>\n",
       "    <tr>\n",
       "      <th>861</th>\n",
       "      <td>cần giờ</td>\n",
       "      <td>hồ chí minh</td>\n",
       "      <td>cần giờhồ chí minh</td>\n",
       "    </tr>\n",
       "    <tr>\n",
       "      <th>923</th>\n",
       "      <td>củ chi</td>\n",
       "      <td>hồ chí minh</td>\n",
       "      <td>củ chihồ chí minh</td>\n",
       "    </tr>\n",
       "    <tr>\n",
       "      <th>1133</th>\n",
       "      <td>gò vấp</td>\n",
       "      <td>hồ chí minh</td>\n",
       "      <td>gò vấphồ chí minh</td>\n",
       "    </tr>\n",
       "    <tr>\n",
       "      <th>1349</th>\n",
       "      <td>hóc môn</td>\n",
       "      <td>hồ chí minh</td>\n",
       "      <td>hóc mônhồ chí minh</td>\n",
       "    </tr>\n",
       "    <tr>\n",
       "      <th>1745</th>\n",
       "      <td>nhà bè</td>\n",
       "      <td>hồ chí minh</td>\n",
       "      <td>nhà bèhồ chí minh</td>\n",
       "    </tr>\n",
       "    <tr>\n",
       "      <th>1797</th>\n",
       "      <td>phú nhuận</td>\n",
       "      <td>hồ chí minh</td>\n",
       "      <td>phú nhuậnhồ chí minh</td>\n",
       "    </tr>\n",
       "    <tr>\n",
       "      <th>1909</th>\n",
       "      <td>quận 1</td>\n",
       "      <td>hồ chí minh</td>\n",
       "      <td>quận 1hồ chí minh</td>\n",
       "    </tr>\n",
       "    <tr>\n",
       "      <th>2087</th>\n",
       "      <td>quận 10</td>\n",
       "      <td>hồ chí minh</td>\n",
       "      <td>quận 10hồ chí minh</td>\n",
       "    </tr>\n",
       "    <tr>\n",
       "      <th>2221</th>\n",
       "      <td>quận 11</td>\n",
       "      <td>hồ chí minh</td>\n",
       "      <td>quận 11hồ chí minh</td>\n",
       "    </tr>\n",
       "    <tr>\n",
       "      <th>2333</th>\n",
       "      <td>quận 12</td>\n",
       "      <td>hồ chí minh</td>\n",
       "      <td>quận 12hồ chí minh</td>\n",
       "    </tr>\n",
       "    <tr>\n",
       "      <th>2767</th>\n",
       "      <td>quận 2</td>\n",
       "      <td>hồ chí minh</td>\n",
       "      <td>quận 2hồ chí minh</td>\n",
       "    </tr>\n",
       "    <tr>\n",
       "      <th>3057</th>\n",
       "      <td>quận 3</td>\n",
       "      <td>hồ chí minh</td>\n",
       "      <td>quận 3hồ chí minh</td>\n",
       "    </tr>\n",
       "    <tr>\n",
       "      <th>3157</th>\n",
       "      <td>quận 4</td>\n",
       "      <td>hồ chí minh</td>\n",
       "      <td>quận 4hồ chí minh</td>\n",
       "    </tr>\n",
       "    <tr>\n",
       "      <th>3261</th>\n",
       "      <td>quận 5</td>\n",
       "      <td>hồ chí minh</td>\n",
       "      <td>quận 5hồ chí minh</td>\n",
       "    </tr>\n",
       "    <tr>\n",
       "      <th>3382</th>\n",
       "      <td>quận 6</td>\n",
       "      <td>hồ chí minh</td>\n",
       "      <td>quận 6hồ chí minh</td>\n",
       "    </tr>\n",
       "    <tr>\n",
       "      <th>3544</th>\n",
       "      <td>quận 7</td>\n",
       "      <td>hồ chí minh</td>\n",
       "      <td>quận 7hồ chí minh</td>\n",
       "    </tr>\n",
       "    <tr>\n",
       "      <th>3774</th>\n",
       "      <td>quận 8</td>\n",
       "      <td>hồ chí minh</td>\n",
       "      <td>quận 8hồ chí minh</td>\n",
       "    </tr>\n",
       "  </tbody>\n",
       "</table>\n",
       "</div>"
      ],
      "text/plain": [
       "        district         city            str_address\n",
       "0     bình chánh  hồ chí minh  bình chánhhồ chí minh\n",
       "298     bình tân  hồ chí minh    bình tânhồ chí minh\n",
       "697   bình thạnh  hồ chí minh  bình thạnhhồ chí minh\n",
       "861      cần giờ  hồ chí minh     cần giờhồ chí minh\n",
       "923       củ chi  hồ chí minh      củ chihồ chí minh\n",
       "1133      gò vấp  hồ chí minh      gò vấphồ chí minh\n",
       "1349     hóc môn  hồ chí minh     hóc mônhồ chí minh\n",
       "1745      nhà bè  hồ chí minh      nhà bèhồ chí minh\n",
       "1797   phú nhuận  hồ chí minh   phú nhuậnhồ chí minh\n",
       "1909      quận 1  hồ chí minh      quận 1hồ chí minh\n",
       "2087     quận 10  hồ chí minh     quận 10hồ chí minh\n",
       "2221     quận 11  hồ chí minh     quận 11hồ chí minh\n",
       "2333     quận 12  hồ chí minh     quận 12hồ chí minh\n",
       "2767      quận 2  hồ chí minh      quận 2hồ chí minh\n",
       "3057      quận 3  hồ chí minh      quận 3hồ chí minh\n",
       "3157      quận 4  hồ chí minh      quận 4hồ chí minh\n",
       "3261      quận 5  hồ chí minh      quận 5hồ chí minh\n",
       "3382      quận 6  hồ chí minh      quận 6hồ chí minh\n",
       "3544      quận 7  hồ chí minh      quận 7hồ chí minh\n",
       "3774      quận 8  hồ chí minh      quận 8hồ chí minh"
      ]
     },
     "execution_count": 75,
     "metadata": {},
     "output_type": "execute_result"
    }
   ],
   "source": [
    "new_df.head(20)"
   ]
  },
  {
   "cell_type": "code",
   "execution_count": 76,
   "metadata": {},
   "outputs": [],
   "source": [
    "criterion = lambda row: row['str_address'] not in exist_addresses\n",
    "\n",
    "new_df = new_df[new_df.apply(criterion, axis=1)]"
   ]
  },
  {
   "cell_type": "code",
   "execution_count": 82,
   "metadata": {},
   "outputs": [
    {
     "data": {
      "text/html": [
       "<div>\n",
       "<style scoped>\n",
       "    .dataframe tbody tr th:only-of-type {\n",
       "        vertical-align: middle;\n",
       "    }\n",
       "\n",
       "    .dataframe tbody tr th {\n",
       "        vertical-align: top;\n",
       "    }\n",
       "\n",
       "    .dataframe thead th {\n",
       "        text-align: right;\n",
       "    }\n",
       "</style>\n",
       "<table border=\"1\" class=\"dataframe\">\n",
       "  <thead>\n",
       "    <tr style=\"text-align: right;\">\n",
       "      <th></th>\n",
       "      <th>district</th>\n",
       "      <th>city</th>\n",
       "      <th>str_address</th>\n",
       "    </tr>\n",
       "  </thead>\n",
       "  <tbody>\n",
       "    <tr>\n",
       "      <th>861</th>\n",
       "      <td>cần giờ</td>\n",
       "      <td>hồ chí minh</td>\n",
       "      <td>cần giờhồ chí minh</td>\n",
       "    </tr>\n",
       "    <tr>\n",
       "      <th>6969</th>\n",
       "      <td>mỹ đức</td>\n",
       "      <td>hà nội</td>\n",
       "      <td>mỹ đứchà nội</td>\n",
       "    </tr>\n",
       "    <tr>\n",
       "      <th>7440</th>\n",
       "      <td>thanh oai</td>\n",
       "      <td>hà nội</td>\n",
       "      <td>thanh oaihà nội</td>\n",
       "    </tr>\n",
       "    <tr>\n",
       "      <th>7649</th>\n",
       "      <td>ứng hòa</td>\n",
       "      <td>hà nội</td>\n",
       "      <td>ứng hòahà nội</td>\n",
       "    </tr>\n",
       "    <tr>\n",
       "      <th>10026</th>\n",
       "      <td>hòa vang</td>\n",
       "      <td>đà nẵng</td>\n",
       "      <td>hòa vangđà nẵng</td>\n",
       "    </tr>\n",
       "    <tr>\n",
       "      <th>...</th>\n",
       "      <td>...</td>\n",
       "      <td>...</td>\n",
       "      <td>...</td>\n",
       "    </tr>\n",
       "    <tr>\n",
       "      <th>34253</th>\n",
       "      <td>trạm tấu</td>\n",
       "      <td>yên bái</td>\n",
       "      <td>trạm tấuyên bái</td>\n",
       "    </tr>\n",
       "    <tr>\n",
       "      <th>34264</th>\n",
       "      <td>trấn yên</td>\n",
       "      <td>yên bái</td>\n",
       "      <td>trấn yênyên bái</td>\n",
       "    </tr>\n",
       "    <tr>\n",
       "      <th>34280</th>\n",
       "      <td>văn chấn</td>\n",
       "      <td>yên bái</td>\n",
       "      <td>văn chấnyên bái</td>\n",
       "    </tr>\n",
       "    <tr>\n",
       "      <th>34312</th>\n",
       "      <td>văn yên</td>\n",
       "      <td>yên bái</td>\n",
       "      <td>văn yênyên bái</td>\n",
       "    </tr>\n",
       "    <tr>\n",
       "      <th>34456</th>\n",
       "      <td>yên bình</td>\n",
       "      <td>yên bái</td>\n",
       "      <td>yên bìnhyên bái</td>\n",
       "    </tr>\n",
       "  </tbody>\n",
       "</table>\n",
       "<p>538 rows × 3 columns</p>\n",
       "</div>"
      ],
      "text/plain": [
       "        district         city         str_address\n",
       "861      cần giờ  hồ chí minh  cần giờhồ chí minh\n",
       "6969      mỹ đức       hà nội        mỹ đứchà nội\n",
       "7440   thanh oai       hà nội     thanh oaihà nội\n",
       "7649     ứng hòa       hà nội       ứng hòahà nội\n",
       "10026   hòa vang      đà nẵng     hòa vangđà nẵng\n",
       "...          ...          ...                 ...\n",
       "34253   trạm tấu      yên bái     trạm tấuyên bái\n",
       "34264   trấn yên      yên bái     trấn yênyên bái\n",
       "34280   văn chấn      yên bái     văn chấnyên bái\n",
       "34312    văn yên      yên bái      văn yênyên bái\n",
       "34456   yên bình      yên bái     yên bìnhyên bái\n",
       "\n",
       "[538 rows x 3 columns]"
      ]
     },
     "execution_count": 82,
     "metadata": {},
     "output_type": "execute_result"
    }
   ],
   "source": [
    "new_df"
   ]
  },
  {
   "cell_type": "code",
   "execution_count": 78,
   "metadata": {},
   "outputs": [],
   "source": [
    "import json\n",
    "with open ('Data/RAT_DATA_MAIN_New.json', 'r', encoding='utf-8') as f:\n",
    "    RAT_DATA = json.load(f)"
   ]
  },
  {
   "cell_type": "code",
   "execution_count": 80,
   "metadata": {},
   "outputs": [
    {
     "name": "stdout",
     "output_type": "stream",
     "text": [
      "36661\n"
     ]
    }
   ],
   "source": [
    "current_id = int(list(RAT_DATA.keys())[-1])+1\n",
    "print(current_id)"
   ]
  },
  {
   "cell_type": "code",
   "execution_count": 83,
   "metadata": {},
   "outputs": [
    {
     "data": {
      "text/plain": [
       "'Cao Hai Nam'"
      ]
     },
     "execution_count": 83,
     "metadata": {},
     "output_type": "execute_result"
    }
   ],
   "source": [
    "from Preprocess import remove_tone_of_text\n",
    "remove_tone_of_text('Cao Hải Nảm')"
   ]
  },
  {
   "cell_type": "code",
   "execution_count": 84,
   "metadata": {},
   "outputs": [],
   "source": [
    "str_addresses = []\n",
    "for index, row in new_df.iterrows():\n",
    "    RAT_DATA[current_id] = dict()\n",
    "    district, city = row['district'], row['city']\n",
    "    # print(district)\n",
    "    # print(city)\n",
    "    RAT_DATA[current_id]['std_add'] = dict()\n",
    "    RAT_DATA[current_id]['std_add']['district'] = district\n",
    "    RAT_DATA[current_id]['std_add']['city'] = city\n",
    "    RAT_DATA[current_id]['str_add'] = ' '.join([district, city])\n",
    "    RAT_DATA[current_id]['NT_str_add'] = ' '.join([remove_tone_of_text(district), remove_tone_of_text(city)])\n",
    "    current_id += 1\n",
    "    # break"
   ]
  },
  {
   "cell_type": "code",
   "execution_count": 85,
   "metadata": {},
   "outputs": [
    {
     "data": {
      "text/plain": [
       "35019"
      ]
     },
     "execution_count": 85,
     "metadata": {},
     "output_type": "execute_result"
    }
   ],
   "source": [
    "len(RAT_DATA)"
   ]
  },
  {
   "cell_type": "code",
   "execution_count": 86,
   "metadata": {},
   "outputs": [],
   "source": [
    "with open('Data/RAT_DATA_MAIN_New_Update.json', 'w', encoding='utf-8') as f:\n",
    "    json.dump(RAT_DATA, f, ensure_ascii=False, indent=4)"
   ]
  },
  {
   "cell_type": "code",
   "execution_count": null,
   "metadata": {},
   "outputs": [],
   "source": []
  }
 ],
 "metadata": {
  "interpreter": {
   "hash": "ae490cf69036ed64c59d5c8802d2c69aa270208e908239877fa8309aa176cebb"
  },
  "kernelspec": {
   "display_name": "Python ('vas')",
   "language": "python",
   "name": "python3"
  },
  "language_info": {
   "codemirror_mode": {
    "name": "ipython",
    "version": 3
   },
   "file_extension": ".py",
   "mimetype": "text/x-python",
   "name": "python",
   "nbconvert_exporter": "python",
   "pygments_lexer": "ipython3",
   "version": "3.8.8"
  },
  "orig_nbformat": 4
 },
 "nbformat": 4,
 "nbformat_minor": 2
}
